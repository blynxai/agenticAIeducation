{
 "cells": [
  {
   "cell_type": "markdown",
   "id": "8797de2a",
   "metadata": {},
   "source": [
    "# Persisting memory across Strands Agents sessions\n",
    "\n",
    "In this example you will learn how to persist memory across different sessions in your Strands Agents. \n",
    "\n",
    "We will use the use case of an agent that does web search using a `duckduckgo` search API.\n",
    "\n",
    "In this notebook, we will:\n",
    "- Explore the capabilities of a memory-powered Strands agent.\n",
    "- Learn how to store, retrieve, and list memories.\n",
    "- Understand how to perform web searches via the agent.\n",
    "- Interact with the agent in an interactive loop.\n",
    "\n",
    "\n",
    "### Usage Examples\n",
    "\n",
    "Storing memories:\n",
    "```\n",
    "Remember that I prefer tea over coffee\n",
    "```\n",
    "\n",
    "Retrieving memories:\n",
    "```\n",
    "What do I prefer to drink?\n",
    "```\n",
    "\n",
    "Listing all memories:\n",
    "```\n",
    "Show me everything you remember about me\n",
    "```\n",
    "\n",
    "### Tips for Memory Usage\n",
    "\n",
    "- Be explicit when asking the agent to remember information\n",
    "- Use specific queries to retrieve relevant memories\n",
    "- Memory persistence enables more natural and contextual conversations"
   ]
  },
  {
   "cell_type": "markdown",
   "id": "c468364c",
   "metadata": {},
   "source": [
    "## Setup and prerequisites\n",
    "\n",
    "### Prerequisites\n",
    "* Python 3.10+\n",
    "* AWS account and AWS credentials configured in the environment\n",
    "* Anthropic Claude 3.7 enabled on Amazon Bedrock\n",
    "* IAM role with permissions to create Amazon Bedrock Knowledge Base, Amazon S3 bucket and Amazon DynamoDB\n",
    "\n",
    "Let's now install the requirement packages for our Strands Agent"
   ]
  },
  {
   "cell_type": "code",
   "execution_count": 1,
   "id": "ae029383",
   "metadata": {},
   "outputs": [
    {
     "name": "stderr",
     "output_type": "stream",
     "text": [
      "\u001b[2mUsing Python 3.13.5 environment at: .venvmem\u001b[0m\n",
      "\u001b[2mResolved \u001b[1m113 packages\u001b[0m \u001b[2min 1.10s\u001b[0m\u001b[0m\n",
      "\u001b[2mPrepared \u001b[1m1 package\u001b[0m \u001b[2min 67ms\u001b[0m\u001b[0m\n",
      "\u001b[1m\u001b[33mwarning\u001b[39m\u001b[0m\u001b[1m:\u001b[0m \u001b[1mFailed to hardlink files; falling back to full copy. This may lead to degraded performance.\n",
      "         If the cache and target directories are on different filesystems, hardlinking may not be supported.\n",
      "         If this is intentional, set `export UV_LINK_MODE=copy` or use `--link-mode=copy` to suppress this warning.\u001b[0m\n",
      "\u001b[2mInstalled \u001b[1m105 packages\u001b[0m \u001b[2min 39.72s\u001b[0m\u001b[0m\n",
      " \u001b[32m+\u001b[39m \u001b[1mannotated-types\u001b[0m\u001b[2m==0.7.0\u001b[0m\n",
      " \u001b[32m+\u001b[39m \u001b[1manyio\u001b[0m\u001b[2m==4.10.0\u001b[0m\n",
      " \u001b[32m+\u001b[39m \u001b[1mattrs\u001b[0m\u001b[2m==25.3.0\u001b[0m\n",
      " \u001b[32m+\u001b[39m \u001b[1maws-requests-auth\u001b[0m\u001b[2m==0.4.3\u001b[0m\n",
      " \u001b[32m+\u001b[39m \u001b[1mbackoff\u001b[0m\u001b[2m==2.2.1\u001b[0m\n",
      " \u001b[32m+\u001b[39m \u001b[1mbeautifulsoup4\u001b[0m\u001b[2m==4.13.4\u001b[0m\n",
      " \u001b[32m+\u001b[39m \u001b[1mboto3\u001b[0m\u001b[2m==1.40.10\u001b[0m\n",
      " \u001b[32m+\u001b[39m \u001b[1mbotocore\u001b[0m\u001b[2m==1.40.10\u001b[0m\n",
      " \u001b[32m+\u001b[39m \u001b[1mcertifi\u001b[0m\u001b[2m==2025.8.3\u001b[0m\n",
      " \u001b[32m+\u001b[39m \u001b[1mcharset-normalizer\u001b[0m\u001b[2m==3.4.3\u001b[0m\n",
      " \u001b[32m+\u001b[39m \u001b[1mclick\u001b[0m\u001b[2m==8.2.1\u001b[0m\n",
      " \u001b[32m+\u001b[39m \u001b[1mddgs\u001b[0m\u001b[2m==9.5.2\u001b[0m\n",
      " \u001b[32m+\u001b[39m \u001b[1mdill\u001b[0m\u001b[2m==0.4.0\u001b[0m\n",
      " \u001b[32m+\u001b[39m \u001b[1mdistro\u001b[0m\u001b[2m==1.9.0\u001b[0m\n",
      " \u001b[32m+\u001b[39m \u001b[1mdocstring-parser\u001b[0m\u001b[2m==0.17.0\u001b[0m\n",
      " \u001b[32m+\u001b[39m \u001b[1mevents\u001b[0m\u001b[2m==0.5\u001b[0m\n",
      " \u001b[32m+\u001b[39m \u001b[1mfilelock\u001b[0m\u001b[2m==3.19.1\u001b[0m\n",
      " \u001b[32m+\u001b[39m \u001b[1mfsspec\u001b[0m\u001b[2m==2025.7.0\u001b[0m\n",
      " \u001b[32m+\u001b[39m \u001b[1mgreenlet\u001b[0m\u001b[2m==3.2.4\u001b[0m\n",
      " \u001b[32m+\u001b[39m \u001b[1mgrpcio\u001b[0m\u001b[2m==1.74.0\u001b[0m\n",
      " \u001b[32m+\u001b[39m \u001b[1mh11\u001b[0m\u001b[2m==0.16.0\u001b[0m\n",
      " \u001b[32m+\u001b[39m \u001b[1mh2\u001b[0m\u001b[2m==4.2.0\u001b[0m\n",
      " \u001b[32m+\u001b[39m \u001b[1mhpack\u001b[0m\u001b[2m==4.1.0\u001b[0m\n",
      " \u001b[32m+\u001b[39m \u001b[1mhtml5lib\u001b[0m\u001b[2m==1.1\u001b[0m\n",
      " \u001b[32m+\u001b[39m \u001b[1mhttpcore\u001b[0m\u001b[2m==1.0.9\u001b[0m\n",
      " \u001b[32m+\u001b[39m \u001b[1mhttpx\u001b[0m\u001b[2m==0.28.1\u001b[0m\n",
      " \u001b[32m+\u001b[39m \u001b[1mhttpx-sse\u001b[0m\u001b[2m==0.4.1\u001b[0m\n",
      " \u001b[32m+\u001b[39m \u001b[1mhuggingface-hub\u001b[0m\u001b[2m==0.34.4\u001b[0m\n",
      " \u001b[32m+\u001b[39m \u001b[1mhyperframe\u001b[0m\u001b[2m==6.1.0\u001b[0m\n",
      " \u001b[32m+\u001b[39m \u001b[1midna\u001b[0m\u001b[2m==3.10\u001b[0m\n",
      " \u001b[32m+\u001b[39m \u001b[1mimportlib-metadata\u001b[0m\u001b[2m==8.7.0\u001b[0m\n",
      " \u001b[32m+\u001b[39m \u001b[1mjinja2\u001b[0m\u001b[2m==3.1.6\u001b[0m\n",
      " \u001b[32m+\u001b[39m \u001b[1mjiter\u001b[0m\u001b[2m==0.10.0\u001b[0m\n",
      " \u001b[32m+\u001b[39m \u001b[1mjmespath\u001b[0m\u001b[2m==1.0.1\u001b[0m\n",
      " \u001b[32m+\u001b[39m \u001b[1mjoblib\u001b[0m\u001b[2m==1.5.1\u001b[0m\n",
      " \u001b[32m+\u001b[39m \u001b[1mjsonschema\u001b[0m\u001b[2m==4.25.0\u001b[0m\n",
      " \u001b[32m+\u001b[39m \u001b[1mjsonschema-specifications\u001b[0m\u001b[2m==2025.4.1\u001b[0m\n",
      " \u001b[32m+\u001b[39m \u001b[1mlxml\u001b[0m\u001b[2m==6.0.0\u001b[0m\n",
      " \u001b[32m+\u001b[39m \u001b[1mmarkdown-it-py\u001b[0m\u001b[2m==4.0.0\u001b[0m\n",
      " \u001b[32m+\u001b[39m \u001b[1mmarkdownify\u001b[0m\u001b[2m==1.2.0\u001b[0m\n",
      " \u001b[32m+\u001b[39m \u001b[1mmarkupsafe\u001b[0m\u001b[2m==3.0.2\u001b[0m\n",
      " \u001b[32m+\u001b[39m \u001b[1mmcp\u001b[0m\u001b[2m==1.13.0\u001b[0m\n",
      " \u001b[32m+\u001b[39m \u001b[1mmdurl\u001b[0m\u001b[2m==0.1.2\u001b[0m\n",
      " \u001b[32m+\u001b[39m \u001b[1mmem0ai\u001b[0m\u001b[2m==0.1.116\u001b[0m\n",
      " \u001b[32m+\u001b[39m \u001b[1mmpmath\u001b[0m\u001b[2m==1.3.0\u001b[0m\n",
      " \u001b[32m+\u001b[39m \u001b[1mnetworkx\u001b[0m\u001b[2m==3.5\u001b[0m\n",
      " \u001b[32m+\u001b[39m \u001b[1mnumpy\u001b[0m\u001b[2m==2.3.2\u001b[0m\n",
      " \u001b[32m+\u001b[39m \u001b[1mopenai\u001b[0m\u001b[2m==1.99.9\u001b[0m\n",
      " \u001b[32m+\u001b[39m \u001b[1mopensearch-py\u001b[0m\u001b[2m==3.0.0\u001b[0m\n",
      " \u001b[32m+\u001b[39m \u001b[1mopentelemetry-api\u001b[0m\u001b[2m==1.36.0\u001b[0m\n",
      " \u001b[32m+\u001b[39m \u001b[1mopentelemetry-instrumentation\u001b[0m\u001b[2m==0.57b0\u001b[0m\n",
      " \u001b[32m+\u001b[39m \u001b[1mopentelemetry-instrumentation-threading\u001b[0m\u001b[2m==0.57b0\u001b[0m\n",
      " \u001b[32m+\u001b[39m \u001b[1mopentelemetry-sdk\u001b[0m\u001b[2m==1.36.0\u001b[0m\n",
      " \u001b[32m+\u001b[39m \u001b[1mopentelemetry-semantic-conventions\u001b[0m\u001b[2m==0.57b0\u001b[0m\n",
      " \u001b[32m+\u001b[39m \u001b[1mpillow\u001b[0m\u001b[2m==11.3.0\u001b[0m\n",
      " \u001b[32m+\u001b[39m \u001b[1mportalocker\u001b[0m\u001b[2m==3.2.0\u001b[0m\n",
      " \u001b[32m+\u001b[39m \u001b[1mposthog\u001b[0m\u001b[2m==6.5.0\u001b[0m\n",
      " \u001b[32m+\u001b[39m \u001b[1mprimp\u001b[0m\u001b[2m==0.15.0\u001b[0m\n",
      " \u001b[32m+\u001b[39m \u001b[1mprotobuf\u001b[0m\u001b[2m==5.29.5\u001b[0m\n",
      " \u001b[32m+\u001b[39m \u001b[1mpydantic\u001b[0m\u001b[2m==2.11.7\u001b[0m\n",
      " \u001b[32m+\u001b[39m \u001b[1mpydantic-core\u001b[0m\u001b[2m==2.33.2\u001b[0m\n",
      " \u001b[32m+\u001b[39m \u001b[1mpydantic-settings\u001b[0m\u001b[2m==2.10.1\u001b[0m\n",
      " \u001b[32m+\u001b[39m \u001b[1mpyjwt\u001b[0m\u001b[2m==2.10.1\u001b[0m\n",
      " \u001b[32m+\u001b[39m \u001b[1mpython-dotenv\u001b[0m\u001b[2m==1.1.1\u001b[0m\n",
      " \u001b[32m+\u001b[39m \u001b[1mpython-multipart\u001b[0m\u001b[2m==0.0.20\u001b[0m\n",
      " \u001b[32m+\u001b[39m \u001b[1mpytz\u001b[0m\u001b[2m==2025.2\u001b[0m\n",
      " \u001b[32m+\u001b[39m \u001b[1mpyyaml\u001b[0m\u001b[2m==6.0.2\u001b[0m\n",
      " \u001b[32m+\u001b[39m \u001b[1mqdrant-client\u001b[0m\u001b[2m==1.15.1\u001b[0m\n",
      " \u001b[32m+\u001b[39m \u001b[1mreadabilipy\u001b[0m\u001b[2m==0.3.0\u001b[0m\n",
      " \u001b[32m+\u001b[39m \u001b[1mreferencing\u001b[0m\u001b[2m==0.36.2\u001b[0m\n",
      " \u001b[32m+\u001b[39m \u001b[1mregex\u001b[0m\u001b[2m==2025.7.34\u001b[0m\n",
      " \u001b[32m+\u001b[39m \u001b[1mrequests\u001b[0m\u001b[2m==2.32.4\u001b[0m\n",
      " \u001b[32m+\u001b[39m \u001b[1mrich\u001b[0m\u001b[2m==14.1.0\u001b[0m\n",
      " \u001b[32m+\u001b[39m \u001b[1mrpds-py\u001b[0m\u001b[2m==0.27.0\u001b[0m\n",
      " \u001b[32m+\u001b[39m \u001b[1ms3transfer\u001b[0m\u001b[2m==0.13.1\u001b[0m\n",
      " \u001b[32m+\u001b[39m \u001b[1msafetensors\u001b[0m\u001b[2m==0.6.2\u001b[0m\n",
      " \u001b[32m+\u001b[39m \u001b[1mscikit-learn\u001b[0m\u001b[2m==1.7.1\u001b[0m\n",
      " \u001b[32m+\u001b[39m \u001b[1mscipy\u001b[0m\u001b[2m==1.16.1\u001b[0m\n",
      " \u001b[32m+\u001b[39m \u001b[1msentence-transformers\u001b[0m\u001b[2m==5.1.0\u001b[0m\n",
      " \u001b[32m+\u001b[39m \u001b[1msetuptools\u001b[0m\u001b[2m==80.9.0\u001b[0m\n",
      " \u001b[32m+\u001b[39m \u001b[1mslack-bolt\u001b[0m\u001b[2m==1.23.0\u001b[0m\n",
      " \u001b[32m+\u001b[39m \u001b[1mslack-sdk\u001b[0m\u001b[2m==3.36.0\u001b[0m\n",
      " \u001b[32m+\u001b[39m \u001b[1msniffio\u001b[0m\u001b[2m==1.3.1\u001b[0m\n",
      " \u001b[32m+\u001b[39m \u001b[1msoupsieve\u001b[0m\u001b[2m==2.7\u001b[0m\n",
      " \u001b[32m+\u001b[39m \u001b[1msqlalchemy\u001b[0m\u001b[2m==2.0.43\u001b[0m\n",
      " \u001b[32m+\u001b[39m \u001b[1msse-starlette\u001b[0m\u001b[2m==3.0.2\u001b[0m\n",
      " \u001b[32m+\u001b[39m \u001b[1mstarlette\u001b[0m\u001b[2m==0.47.2\u001b[0m\n",
      " \u001b[32m+\u001b[39m \u001b[1mstrands-agents\u001b[0m\u001b[2m==1.4.0\u001b[0m\n",
      " \u001b[32m+\u001b[39m \u001b[1mstrands-agents-tools\u001b[0m\u001b[2m==0.2.3\u001b[0m\n",
      " \u001b[32m+\u001b[39m \u001b[1msympy\u001b[0m\u001b[2m==1.14.0\u001b[0m\n",
      " \u001b[32m+\u001b[39m \u001b[1mtenacity\u001b[0m\u001b[2m==9.1.2\u001b[0m\n",
      " \u001b[32m+\u001b[39m \u001b[1mthreadpoolctl\u001b[0m\u001b[2m==3.6.0\u001b[0m\n",
      " \u001b[32m+\u001b[39m \u001b[1mtokenizers\u001b[0m\u001b[2m==0.21.4\u001b[0m\n",
      " \u001b[32m+\u001b[39m \u001b[1mtorch\u001b[0m\u001b[2m==2.8.0\u001b[0m\n",
      " \u001b[32m+\u001b[39m \u001b[1mtqdm\u001b[0m\u001b[2m==4.67.1\u001b[0m\n",
      " \u001b[32m+\u001b[39m \u001b[1mtransformers\u001b[0m\u001b[2m==4.55.2\u001b[0m\n",
      " \u001b[32m+\u001b[39m \u001b[1mtyping-extensions\u001b[0m\u001b[2m==4.14.1\u001b[0m\n",
      " \u001b[32m+\u001b[39m \u001b[1mtyping-inspection\u001b[0m\u001b[2m==0.4.1\u001b[0m\n",
      " \u001b[32m+\u001b[39m \u001b[1mtzdata\u001b[0m\u001b[2m==2025.2\u001b[0m\n",
      " \u001b[32m+\u001b[39m \u001b[1murllib3\u001b[0m\u001b[2m==2.5.0\u001b[0m\n",
      " \u001b[32m+\u001b[39m \u001b[1muvicorn\u001b[0m\u001b[2m==0.35.0\u001b[0m\n",
      " \u001b[32m+\u001b[39m \u001b[1mwatchdog\u001b[0m\u001b[2m==6.0.0\u001b[0m\n",
      " \u001b[32m+\u001b[39m \u001b[1mwebencodings\u001b[0m\u001b[2m==0.5.1\u001b[0m\n",
      " \u001b[32m+\u001b[39m \u001b[1mwrapt\u001b[0m\u001b[2m==1.17.3\u001b[0m\n",
      " \u001b[32m+\u001b[39m \u001b[1mzipp\u001b[0m\u001b[2m==3.23.0\u001b[0m\n"
     ]
    }
   ],
   "source": [
    "# Install the required packages\n",
    "!uv pip install -r requirements.txt"
   ]
  },
  {
   "cell_type": "code",
   "execution_count": 2,
   "id": "11c92217",
   "metadata": {},
   "outputs": [
    {
     "name": "stderr",
     "output_type": "stream",
     "text": [
      "e:\\OneDrive\\OneDriveOnitbuddy\\OneDrive\\workbench\\exampletest\\agenticAIeducation\\5_strand\\07-memory-persistent-agents\\.venvmem\\Lib\\site-packages\\tqdm\\auto.py:21: TqdmWarning: IProgress not found. Please update jupyter and ipywidgets. See https://ipywidgets.readthedocs.io/en/stable/user_install.html\n",
      "  from .autonotebook import tqdm as notebook_tqdm\n"
     ]
    }
   ],
   "source": [
    "\n",
    "# Import Required Libraries\n",
    "import os\n",
    "from strands import Agent, tool\n",
    "from strands.models import bedrock\n",
    "from strands_tools import mem0_memory\n",
    "\n",
    "from ddgs import DDGS\n",
    "from ddgs.exceptions import DDGSException, RatelimitException\n",
    "\n",
    "from opensearchpy import OpenSearch, RequestsHttpConnection, AWSV4SignerAuth\n",
    "from sentence_transformers import SentenceTransformer\n",
    "\n",
    "bedrock.DEFAULT_BEDROCK_MODEL_ID = \"apac.anthropic.claude-3-7-sonnet-20250219-v1:0\" #Optional: Set a default model for Bedrock\n",
    "embedding_model = SentenceTransformer('all-MiniLM-L6-v2') # Initialize embedding model for vector operations"
   ]
  },
  {
   "cell_type": "markdown",
   "id": "265d4267",
   "metadata": {},
   "source": [
    "## Mem0 Configuration\n",
    "\n",
    "### Memory Backend Options\n",
    "\n",
    "The Mem0 Memory Tool supports three different backend configurations:\n",
    "\n",
    "1. **[OpenSearch](https://aws.amazon.com/opensearch-service/features/serverless/)** (Recommended for AWS environments):\n",
    "   - Requires AWS credentials and OpenSearch configuration\n",
    "   - Set `OPENSEARCH_HOST` and optionally `AWS_REGION` (defaults to us-west-2)\n",
    "\n",
    "2. **[FAISS]((https://faiss.ai/index.html))** (Default for local development):\n",
    "   - Uses FAISS as the local vector store backend\n",
    "   - Requires faiss-cpu package for local vector storage\n",
    "   - No additional configuration needed\n",
    "\n",
    "3. **Mem0 Platform**:\n",
    "   - Uses the [Mem0 Platform API](https://docs.mem0.ai/platform/quickstart) for memory management\n",
    "   - Requires a Mem0 API key : `MEM0_API_KEY` in the environment variables\n",
    "\n",
    "\n",
    "### Environment Configuration\n",
    "\n",
    "| Environment Variable | Description | Default | Required For |\n",
    "|---------------------|-------------|----------|--------------|\n",
    "| OPENSEARCH_HOST | OpenSearch Serverless Host URL | None | OpenSearch |\n",
    "| AWS_REGION | AWS Region for OpenSearch | us-west-2 | OpenSearch |\n",
    "| MEM0_API_KEY | Mem0 Platform API key | None | Mem0 Platform |\n",
    "| DEV | Enable development mode | false | All modes |\n",
    "\n",
    "\n",
    "For the scope of this lab, we can use 2 options as a backend for memory management:\n",
    "### Option 1. [Opensearch Serverless](https://aws.amazon.com/opensearch-service/features/serverless/) \n",
    "\n",
    "This will be our setup architecture for AOSS: \n",
    "\n",
    "<div style=\"text-align:left\">\n",
    "    <img src=\"images/arch_AOSS.png\" width=\"65%\" />\n",
    "</div>\n",
    "\n"
   ]
  },
  {
   "cell_type": "markdown",
   "id": "86b45276",
   "metadata": {},
   "source": [
    "## Alternative: Direct OpenSearch Implementation\n",
    "\n",
    "For users who prefer to use OpenSearch directly without the Mem0 abstraction layer, we'll also show how to create custom OpenSearch tools. This gives you more control over the vector storage and retrieval operations.\n"
   ]
  },
  {
   "cell_type": "code",
   "execution_count": 3,
   "id": "1cc2bbe4-0a89-4b15-93f3-4baa9fc804c0",
   "metadata": {},
   "outputs": [
    {
     "name": "stdout",
     "output_type": "stream",
     "text": [
      "deploying opensearch Serverless ...\n",
      "Configuration loaded: {'opensearch_collection_name': 'memory-store', 'opensearch_description': 'Memory vector store'}\n",
      "Creating OpenSearch Serverless collection: memory-store\n",
      "Waiting for policies to propagate...\n",
      "Creating collection...\n",
      "\n",
      "Collection successfully created:\n",
      "[{'id': 'u4kxta0iqjq0fi67w1f8', 'name': 'memory-store', 'status': 'ACTIVE', 'type': 'VECTORSEARCH', 'description': 'Memory vector store', 'arn': 'arn:aws:aoss:ap-southeast-2:463470947763:collection/u4kxta0iqjq0fi67w1f8', 'kmsKeyArn': 'auto', 'standbyReplicas': 'ENABLED', 'createdDate': 1755224632118, 'lastModifiedDate': 1755224656566, 'collectionEndpoint': 'https://u4kxta0iqjq0fi67w1f8.ap-southeast-2.aoss.amazonaws.com', 'dashboardEndpoint': 'https://u4kxta0iqjq0fi67w1f8.ap-southeast-2.aoss.amazonaws.com/_dashboards'}]\n",
      "Environment variables saved to e:\\OneDrive\\OneDriveOnitbuddy\\OneDrive\\workbench\\exampletest\\agenticAIeducation\\5_strand\\07-memory-persistent-agents\\.env\n",
      "OpenSearch Serverless collection setup completed!\n",
      "\n",
      "OPENSEARCH_HOST: u4kxta0iqjq0fi67w1f8.ap-southeast-2.aoss.amazonaws.com\n",
      "OPENSEARCH_COLLECTION_ID: u4kxta0iqjq0fi67w1f8\n",
      "\n",
      "Environment variables saved to e:\\OneDrive\\OneDriveOnitbuddy\\OneDrive\\workbench\\exampletest\\agenticAIeducation\\5_strand\\07-memory-persistent-agents\\.env\n"
     ]
    }
   ],
   "source": [
    "# OR - Run the script to Create Opensearch Serverless resource in your AWS Account\n",
    "#!sh prereqs/deploy_OSS.sh Mac Users\n",
    "! \"E:\\Program Files\\Git\\bin\\bash.exe\" -c prereqs/deploy_OSS.sh "
   ]
  },
  {
   "cell_type": "code",
   "execution_count": 4,
   "id": "0468a998-ebe9-4277-913f-6ea69de8e6e1",
   "metadata": {},
   "outputs": [],
   "source": [
    "# You can manually define your Opensearch Host \n",
    "os.environ[\"OPENSEARCH_HOST\"] = \"u4kxta0iqjq0fi67w1f8.ap-southeast-2.aoss.amazonaws.com\""
   ]
  },
  {
   "cell_type": "code",
   "execution_count": 5,
   "id": "075b3163-cd88-4054-969c-0075dfc1dd84",
   "metadata": {},
   "outputs": [
    {
     "data": {
      "text/plain": [
       "True"
      ]
     },
     "execution_count": 5,
     "metadata": {},
     "output_type": "execute_result"
    }
   ],
   "source": [
    "# Option 1: Opensearch Serverless\n",
    "from dotenv import load_dotenv\n",
    "load_dotenv() # take Opensearch environment variables"
   ]
  },
  {
   "cell_type": "markdown",
   "id": "7dc00d27-4a5b-44fb-9bfc-3b2e906c21f5",
   "metadata": {},
   "source": [
    "\n",
    "### Option 2 [Mem0 Platform](https://docs.mem0.ai/platform):\n",
    "\n",
    "#### [NOTE]: This is not Needed if you have already deployed the Opensearch Serverless option.\n",
    "\n",
    "As an alternative, you can create Mem0 API keys by following the steps [here](https://docs.mem0.ai/platform/quickstart#2-api-key-setup) and add it as an environment variable **MEM0_API_KEY**.\n",
    "This would be the architecture of the setup for Mem0 Platform:\n",
    "\n",
    "<div style=\"text-align:left\">\n",
    "    <img src=\"images/arch_mem0.png\" width=\"65%\" />\n",
    "</div>\n",
    "\n",
    "\n",
    "To enable the agent's functionality, we need to configure environment variables for AWS credentials and OpenSearch / Mem0 Platform. These variables are used for memory storage and retrieval."
   ]
  },
  {
   "cell_type": "markdown",
   "id": "cd57217f",
   "metadata": {},
   "source": [
    "## Alternative System Prompt for OpenSearch\n",
    "\n",
    "When using direct OpenSearch tools, we need to update the system prompt to reference the correct tool names.\n"
   ]
  },
  {
   "cell_type": "code",
   "execution_count": 6,
   "id": "c99dae50-ed8b-4474-b5d6-9cc16981b436",
   "metadata": {},
   "outputs": [],
   "source": [
    "# Option 2: Mem0 API key\n",
    "\n",
    "os.environ[\"MEM0_API_KEY\"] = \"m0-Tnf0EFckPPLsB2tgC2ctVJ8psgfuNhRgU13wLfK6\""
   ]
  },
  {
   "cell_type": "markdown",
   "id": "5679ce42",
   "metadata": {},
   "source": [
    "## Define System Prompt\n",
    "\n",
    "The `SYSTEM_PROMPT` variable defines the behavior and capabilities of the memory agent. This prompt guides the agent to provide personalized responses based on stored memories and perform web searches when necessary."
   ]
  },
  {
   "cell_type": "code",
   "execution_count": 7,
   "id": "01951bc0",
   "metadata": {},
   "outputs": [],
   "source": [
    "# Define a focused system prompt for memory operations\n",
    "SYSTEM_PROMPT = \"\"\"You are a helpful personal assistant for a user. Your task is to assist the user by providing personalized responses based on their history. \n",
    "\n",
    "Capabilities:\n",
    "- You can store information using the mem0_memory tool (action=\"store\").\n",
    "- You can retrieve relevant memories using the mem0_memory tool (action=\"retrieve\").\n",
    "- You can use duckduckgo_search to find information on the web.\n",
    "\n",
    "Key Rules:\n",
    "- Be conversational and natural in your responses.\n",
    "- Always retrieve memories before responding to the user and use them to inform your response.\n",
    "- Store any new user information and user preferences in mem0_memory.\n",
    "- Only share relevant information.\n",
    "- Politely indicate when you don't have the information.\n",
    "\"\"\""
   ]
  },
  {
   "cell_type": "markdown",
   "id": "334a7192",
   "metadata": {},
   "source": [
    "## Define Web Search Tool\n",
    "\n",
    "The `websearch` tool using [Duckduckgo Search API](https://github.com/deedy5/duckduckgo_search) function allows the agent to perform web searches. This function handles exceptions and returns search results or appropriate error messages."
   ]
  },
  {
   "cell_type": "markdown",
   "id": "bcf5d26e",
   "metadata": {},
   "source": [
    "## Alternative: Create Memory Agent with Direct OpenSearch\n",
    "\n",
    "Here's an alternative implementation that uses direct OpenSearch operations instead of the Mem0 abstraction layer. This approach gives you more control over the vector storage and retrieval process.\n"
   ]
  },
  {
   "cell_type": "code",
   "execution_count": 8,
   "id": "8bbe681b",
   "metadata": {},
   "outputs": [],
   "source": [
    "@tool\n",
    "def websearch(\n",
    "    keywords: str,\n",
    "    region: str = \"us-en\",\n",
    "    max_results: int | None = None,\n",
    ") -> str:\n",
    "    \"\"\"Search the web to get updated information.\n",
    "    Args:\n",
    "        keywords (str): The search query keywords.\n",
    "        region (str): The search region: wt-wt, us-en, uk-en, ru-ru, etc..\n",
    "        max_results (int | None): The maximum number of results to return.\n",
    "    Returns:\n",
    "        List of dictionaries with search results.\n",
    "    \"\"\"\n",
    "    try:\n",
    "        results = DDGS().text(keywords, region=region, max_results=max_results)\n",
    "        return results if results else \"No results found.\"\n",
    "    except RatelimitException:\n",
    "        return \"RatelimitException: Please try again after a short delay.\"\n",
    "    except DDGSException as d:\n",
    "        return f\"DuckDuckGoSearchException: {d}\"\n",
    "    except Exception as e:\n",
    "        return f\"Exception: {e}\""
   ]
  },
  {
   "cell_type": "markdown",
   "id": "3bd7828a",
   "metadata": {},
   "source": [
    "## Create Memory Agent\n",
    "\n",
    "We will now initialize the memory-focused agent using the defined tools and system prompt. The Strands agent is capable of:\n",
    "1. Storing and retrieving memories based on context. It uses memory to create more personalized and contextual AI interactions.\n",
    "2. Performing web searches using DuckDuckGo to give updated information."
   ]
  },
  {
   "cell_type": "code",
   "execution_count": 9,
   "id": "e860d7f3",
   "metadata": {},
   "outputs": [],
   "source": [
    "# Create an agent with memory, websearch tool\n",
    "USER_ID = \"PeterRabbit\" # Replace with actual user ID\n",
    "\n",
    "memory_agent = Agent(\n",
    "    system_prompt=SYSTEM_PROMPT,\n",
    "    model=\"apac.anthropic.claude-3-7-sonnet-20250219-v1:0\",  # Optional: Specify the model ID\n",
    "    tools=[mem0_memory, websearch],\n",
    ")"
   ]
  },
  {
   "cell_type": "markdown",
   "id": "8ea93f03",
   "metadata": {},
   "source": [
    "## Demonstrate Memory Operations\n",
    "\n",
    "The following examples demonstrate how to store, retrieve, and list memories using the memory agent.\n",
    "\n",
    "- **store**: Save important information for later retrieval\n",
    "  - Store user preferences\n",
    "  - Remember important facts\n",
    "  - Maintain conversation context\n",
    "\n",
    "- **retrieve**: Access relevant memories based on queries\n",
    "  - Find previously stored information\n",
    "  - Provide personalized responses based on user history\n",
    "\n",
    "- **list**: View all stored memories\n",
    "  - See what information has been retained\n",
    "  - Audit stored memories"
   ]
  },
  {
   "cell_type": "code",
   "execution_count": 10,
   "id": "825910bf",
   "metadata": {},
   "outputs": [
    {
     "data": {
      "text/html": [
       "<pre style=\"white-space:pre;overflow-x:auto;line-height:normal;font-family:Menlo,'DejaVu Sans Mono',consolas,'Courier New',monospace\"><span style=\"color: #008000; text-decoration-color: #008000\">╭────────────────────────────────────────── </span><span style=\"color: #008000; text-decoration-color: #008000; font-weight: bold\">Memory for user PeterRabbit</span><span style=\"color: #008000; text-decoration-color: #008000\"> ──────────────────────────────────────────╮</span>\n",
       "<span style=\"color: #008000; text-decoration-color: #008000\">│</span> The user's name is PeterRabbit.                                                                                 <span style=\"color: #008000; text-decoration-color: #008000\">│</span>\n",
       "<span style=\"color: #008000; text-decoration-color: #008000\">╰─────────────────────────────────────────────────────────────────────────────────────────────────────────────────╯</span>\n",
       "</pre>\n"
      ],
      "text/plain": [
       "\u001b[32m╭─\u001b[0m\u001b[32m─────────────────────────────────────────\u001b[0m\u001b[32m \u001b[0m\u001b[1;32mMemory for user PeterRabbit\u001b[0m\u001b[32m \u001b[0m\u001b[32m─────────────────────────────────────────\u001b[0m\u001b[32m─╮\u001b[0m\n",
       "\u001b[32m│\u001b[0m The user's name is PeterRabbit.                                                                                 \u001b[32m│\u001b[0m\n",
       "\u001b[32m╰─────────────────────────────────────────────────────────────────────────────────────────────────────────────────╯\u001b[0m\n"
      ]
     },
     "metadata": {},
     "output_type": "display_data"
    },
    {
     "name": "stderr",
     "output_type": "stream",
     "text": [
      "e:\\OneDrive\\OneDriveOnitbuddy\\OneDrive\\workbench\\exampletest\\agenticAIeducation\\5_strand\\07-memory-persistent-agents\\.venvmem\\Lib\\site-packages\\mem0\\client\\utils.py:21: DeprecationWarning: output_format='v1.0' is deprecated therefore setting it to 'v1.1' by default. Check out the docs for more information: https://docs.mem0.ai/platform/quickstart#4-1-create-memories\n",
      "  return func(*args, **kwargs)\n"
     ]
    },
    {
     "data": {
      "text/html": [
       "<pre style=\"white-space:pre;overflow-x:auto;line-height:normal;font-family:Menlo,'DejaVu Sans Mono',consolas,'Courier New',monospace\"><span style=\"color: #008000; text-decoration-color: #008000\">╭────────────────────────────────────────── </span><span style=\"color: #008000; text-decoration-color: #008000; font-weight: bold\">Memory for user PeterRabbit</span><span style=\"color: #008000; text-decoration-color: #008000\"> ──────────────────────────────────────────╮</span>\n",
       "<span style=\"color: #008000; text-decoration-color: #008000\">│</span> I like to drink tea more than coffee.                                                                           <span style=\"color: #008000; text-decoration-color: #008000\">│</span>\n",
       "<span style=\"color: #008000; text-decoration-color: #008000\">╰─────────────────────────────────────────────────────────────────────────────────────────────────────────────────╯</span>\n",
       "</pre>\n"
      ],
      "text/plain": [
       "\u001b[32m╭─\u001b[0m\u001b[32m─────────────────────────────────────────\u001b[0m\u001b[32m \u001b[0m\u001b[1;32mMemory for user PeterRabbit\u001b[0m\u001b[32m \u001b[0m\u001b[32m─────────────────────────────────────────\u001b[0m\u001b[32m─╮\u001b[0m\n",
       "\u001b[32m│\u001b[0m I like to drink tea more than coffee.                                                                           \u001b[32m│\u001b[0m\n",
       "\u001b[32m╰─────────────────────────────────────────────────────────────────────────────────────────────────────────────────╯\u001b[0m\n"
      ]
     },
     "metadata": {},
     "output_type": "display_data"
    },
    {
     "data": {
      "text/plain": [
       "{'toolUseId': 'tooluse_mem0_memory_295860576',\n",
       " 'status': 'success',\n",
       " 'content': [{'text': '[]'}]}"
      ]
     },
     "execution_count": 10,
     "metadata": {},
     "output_type": "execute_result"
    }
   ],
   "source": [
    "# Store initial memories to demonstrate retrieval\n",
    "memory_agent.tool.mem0_memory(\n",
    "    action=\"store\", content=f\"The user's name is {USER_ID}.\", user_id=USER_ID\n",
    ")\n",
    "memory_agent.tool.mem0_memory(\n",
    "    action=\"store\", \n",
    "    content=\"I like to drink tea more than coffee.\", \n",
    "    user_id=USER_ID\n",
    ")"
   ]
  },
  {
   "cell_type": "code",
   "execution_count": 11,
   "id": "f92c7f95",
   "metadata": {},
   "outputs": [
    {
     "data": {
      "text/html": [
       "<pre style=\"white-space:pre;overflow-x:auto;line-height:normal;font-family:Menlo,'DejaVu Sans Mono',consolas,'Courier New',monospace\"><span style=\"color: #008000; text-decoration-color: #008000\">╭──────────────────────────────────────────────── </span><span style=\"color: #008000; text-decoration-color: #008000; font-weight: bold\">Search Results</span><span style=\"color: #008000; text-decoration-color: #008000\"> ─────────────────────────────────────────────────╮</span>\n",
       "<span style=\"color: #008000; text-decoration-color: #008000\">│</span> <span style=\"font-style: italic\">                                                Search Results                                                 </span> <span style=\"color: #008000; text-decoration-color: #008000\">│</span>\n",
       "<span style=\"color: #008000; text-decoration-color: #008000\">│</span> ┏━━━━━━━━━━━┳━━━━━━━━━━━━━━━━━━━━━━━━━━━━━━━━━━━━━━━━━━━━━━━━━━━━┳━━━━━━━━━━┳━━━━━━━━━━━┳━━━━━━━━━━┳━━━━━━━━━━┓ <span style=\"color: #008000; text-decoration-color: #008000\">│</span>\n",
       "<span style=\"color: #008000; text-decoration-color: #008000\">│</span> ┃<span style=\"color: #800080; text-decoration-color: #800080; font-weight: bold\">           </span>┃<span style=\"color: #800080; text-decoration-color: #800080; font-weight: bold\">                                                    </span>┃<span style=\"color: #800080; text-decoration-color: #800080; font-weight: bold\">          </span>┃<span style=\"color: #800080; text-decoration-color: #800080; font-weight: bold\"> Created   </span>┃<span style=\"color: #800080; text-decoration-color: #800080; font-weight: bold\">          </span>┃<span style=\"color: #800080; text-decoration-color: #800080; font-weight: bold\">          </span>┃ <span style=\"color: #008000; text-decoration-color: #008000\">│</span>\n",
       "<span style=\"color: #008000; text-decoration-color: #008000\">│</span> ┃<span style=\"color: #800080; text-decoration-color: #800080; font-weight: bold\"> ID        </span>┃<span style=\"color: #800080; text-decoration-color: #800080; font-weight: bold\"> Memory                                             </span>┃<span style=\"color: #800080; text-decoration-color: #800080; font-weight: bold\"> Relevan… </span>┃<span style=\"color: #800080; text-decoration-color: #800080; font-weight: bold\"> At        </span>┃<span style=\"color: #800080; text-decoration-color: #800080; font-weight: bold\"> User ID  </span>┃<span style=\"color: #800080; text-decoration-color: #800080; font-weight: bold\"> Metadata </span>┃ <span style=\"color: #008000; text-decoration-color: #008000\">│</span>\n",
       "<span style=\"color: #008000; text-decoration-color: #008000\">│</span> ┡━━━━━━━━━━━╇━━━━━━━━━━━━━━━━━━━━━━━━━━━━━━━━━━━━━━━━━━━━━━━━━━━━╇━━━━━━━━━━╇━━━━━━━━━━━╇━━━━━━━━━━╇━━━━━━━━━━┩ <span style=\"color: #008000; text-decoration-color: #008000\">│</span>\n",
       "<span style=\"color: #008000; text-decoration-color: #008000\">│</span> │<span style=\"color: #008080; text-decoration-color: #008080\"> e95f256d… </span>│<span style=\"color: #808000; text-decoration-color: #808000\"> User name is PeterRabbit                           </span>│<span style=\"color: #008000; text-decoration-color: #008000\"> </span><span style=\"color: #808000; text-decoration-color: #808000\">0.54812…</span><span style=\"color: #008000; text-decoration-color: #008000\"> </span>│<span style=\"color: #000080; text-decoration-color: #000080\"> 2025-08-… </span>│<span style=\"color: #800080; text-decoration-color: #800080\"> PeterRa… </span>│<span style=\"color: #c0c0c0; text-decoration-color: #c0c0c0\"> None     </span>│ <span style=\"color: #008000; text-decoration-color: #008000\">│</span>\n",
       "<span style=\"color: #008000; text-decoration-color: #008000\">│</span> │<span style=\"color: #008080; text-decoration-color: #008080\"> 7b0e1f75… </span>│<span style=\"color: #808000; text-decoration-color: #808000\"> Likes to drink tea more than coffee                </span>│<span style=\"color: #008000; text-decoration-color: #008000\"> </span><span style=\"color: #800000; text-decoration-color: #800000\">0.36753…</span><span style=\"color: #008000; text-decoration-color: #008000\"> </span>│<span style=\"color: #000080; text-decoration-color: #000080\"> 2025-08-… </span>│<span style=\"color: #800080; text-decoration-color: #800080\"> PeterRa… </span>│<span style=\"color: #c0c0c0; text-decoration-color: #c0c0c0\"> None     </span>│ <span style=\"color: #008000; text-decoration-color: #008000\">│</span>\n",
       "<span style=\"color: #008000; text-decoration-color: #008000\">│</span> └───────────┴────────────────────────────────────────────────────┴──────────┴───────────┴──────────┴──────────┘ <span style=\"color: #008000; text-decoration-color: #008000\">│</span>\n",
       "<span style=\"color: #008000; text-decoration-color: #008000\">╰─────────────────────────────────────────────────────────────────────────────────────────────────────────────────╯</span>\n",
       "</pre>\n"
      ],
      "text/plain": [
       "\u001b[32m╭─\u001b[0m\u001b[32m───────────────────────────────────────────────\u001b[0m\u001b[32m \u001b[0m\u001b[1;32mSearch Results\u001b[0m\u001b[32m \u001b[0m\u001b[32m────────────────────────────────────────────────\u001b[0m\u001b[32m─╮\u001b[0m\n",
       "\u001b[32m│\u001b[0m \u001b[3m                                                Search Results                                                 \u001b[0m \u001b[32m│\u001b[0m\n",
       "\u001b[32m│\u001b[0m ┏━━━━━━━━━━━┳━━━━━━━━━━━━━━━━━━━━━━━━━━━━━━━━━━━━━━━━━━━━━━━━━━━━┳━━━━━━━━━━┳━━━━━━━━━━━┳━━━━━━━━━━┳━━━━━━━━━━┓ \u001b[32m│\u001b[0m\n",
       "\u001b[32m│\u001b[0m ┃\u001b[1;35m           \u001b[0m┃\u001b[1;35m                                                    \u001b[0m┃\u001b[1;35m          \u001b[0m┃\u001b[1;35m \u001b[0m\u001b[1;35mCreated  \u001b[0m\u001b[1;35m \u001b[0m┃\u001b[1;35m          \u001b[0m┃\u001b[1;35m          \u001b[0m┃ \u001b[32m│\u001b[0m\n",
       "\u001b[32m│\u001b[0m ┃\u001b[1;35m \u001b[0m\u001b[1;35mID       \u001b[0m\u001b[1;35m \u001b[0m┃\u001b[1;35m \u001b[0m\u001b[1;35mMemory                                            \u001b[0m\u001b[1;35m \u001b[0m┃\u001b[1;35m \u001b[0m\u001b[1;35mRelevan…\u001b[0m\u001b[1;35m \u001b[0m┃\u001b[1;35m \u001b[0m\u001b[1;35mAt       \u001b[0m\u001b[1;35m \u001b[0m┃\u001b[1;35m \u001b[0m\u001b[1;35mUser ID \u001b[0m\u001b[1;35m \u001b[0m┃\u001b[1;35m \u001b[0m\u001b[1;35mMetadata\u001b[0m\u001b[1;35m \u001b[0m┃ \u001b[32m│\u001b[0m\n",
       "\u001b[32m│\u001b[0m ┡━━━━━━━━━━━╇━━━━━━━━━━━━━━━━━━━━━━━━━━━━━━━━━━━━━━━━━━━━━━━━━━━━╇━━━━━━━━━━╇━━━━━━━━━━━╇━━━━━━━━━━╇━━━━━━━━━━┩ \u001b[32m│\u001b[0m\n",
       "\u001b[32m│\u001b[0m │\u001b[36m \u001b[0m\u001b[36me95f256d…\u001b[0m\u001b[36m \u001b[0m│\u001b[33m \u001b[0m\u001b[33mUser name is PeterRabbit                          \u001b[0m\u001b[33m \u001b[0m│\u001b[32m \u001b[0m\u001b[33m0.54812…\u001b[0m\u001b[32m \u001b[0m│\u001b[34m \u001b[0m\u001b[34m2025-08-…\u001b[0m\u001b[34m \u001b[0m│\u001b[35m \u001b[0m\u001b[35mPeterRa…\u001b[0m\u001b[35m \u001b[0m│\u001b[37m \u001b[0m\u001b[37mNone    \u001b[0m\u001b[37m \u001b[0m│ \u001b[32m│\u001b[0m\n",
       "\u001b[32m│\u001b[0m │\u001b[36m \u001b[0m\u001b[36m7b0e1f75…\u001b[0m\u001b[36m \u001b[0m│\u001b[33m \u001b[0m\u001b[33mLikes to drink tea more than coffee               \u001b[0m\u001b[33m \u001b[0m│\u001b[32m \u001b[0m\u001b[31m0.36753…\u001b[0m\u001b[32m \u001b[0m│\u001b[34m \u001b[0m\u001b[34m2025-08-…\u001b[0m\u001b[34m \u001b[0m│\u001b[35m \u001b[0m\u001b[35mPeterRa…\u001b[0m\u001b[35m \u001b[0m│\u001b[37m \u001b[0m\u001b[37mNone    \u001b[0m\u001b[37m \u001b[0m│ \u001b[32m│\u001b[0m\n",
       "\u001b[32m│\u001b[0m └───────────┴────────────────────────────────────────────────────┴──────────┴───────────┴──────────┴──────────┘ \u001b[32m│\u001b[0m\n",
       "\u001b[32m╰─────────────────────────────────────────────────────────────────────────────────────────────────────────────────╯\u001b[0m\n"
      ]
     },
     "metadata": {},
     "output_type": "display_data"
    },
    {
     "name": "stdout",
     "output_type": "stream",
     "text": [
      "Retrieved Memories: {'toolUseId': 'tooluse_mem0_memory_684925216', 'status': 'success', 'content': [{'text': '[\\n  {\\n    \"id\": \"e95f256d-e407-4867-a065-f35d7afe8ac3\",\\n    \"memory\": \"User name is PeterRabbit\",\\n    \"user_id\": \"PeterRabbit\",\\n    \"metadata\": null,\\n    \"categories\": [\\n      \"personal_details\"\\n    ],\\n    \"created_at\": \"2025-08-13T19:18:00.836370-07:00\",\\n    \"updated_at\": \"2025-08-13T19:18:00.858812-07:00\",\\n    \"expiration_date\": null,\\n    \"structured_attributes\": {\\n      \"day\": 14,\\n      \"hour\": 2,\\n      \"year\": 2025,\\n      \"month\": 8,\\n      \"minute\": 17,\\n      \"quarter\": 3,\\n      \"is_weekend\": false,\\n      \"day_of_week\": \"thursday\",\\n      \"day_of_year\": 226,\\n      \"week_of_year\": 33\\n    },\\n    \"score\": 0.5481262264402221\\n  },\\n  {\\n    \"id\": \"7b0e1f75-e954-4bf0-988d-b5999661cc65\",\\n    \"memory\": \"Likes to drink tea more than coffee\",\\n    \"user_id\": \"PeterRabbit\",\\n    \"metadata\": null,\\n    \"categories\": [\\n      \"user_preferences\",\\n      \"food\"\\n    ],\\n    \"created_at\": \"2025-08-13T19:18:15.351285-07:00\",\\n    \"updated_at\": \"2025-08-13T19:18:15.373166-07:00\",\\n    \"expiration_date\": null,\\n    \"structured_attributes\": {\\n      \"day\": 14,\\n      \"hour\": 2,\\n      \"year\": 2025,\\n      \"month\": 8,\\n      \"minute\": 18,\\n      \"quarter\": 3,\\n      \"is_weekend\": false,\\n      \"day_of_week\": \"thursday\",\\n      \"day_of_year\": 226,\\n      \"week_of_year\": 33\\n    },\\n    \"score\": 0.36753038972978724\\n  }\\n]'}]}\n"
     ]
    }
   ],
   "source": [
    "# Retrieve memories\n",
    "retrieved_memories = memory_agent.tool.mem0_memory(\n",
    "    action=\"retrieve\", query=\"What is the user's name?\", user_id=USER_ID\n",
    ")\n",
    "print(\"Retrieved Memories:\", retrieved_memories)"
   ]
  },
  {
   "cell_type": "code",
   "execution_count": 12,
   "id": "c7047852",
   "metadata": {},
   "outputs": [
    {
     "data": {
      "text/html": [
       "<pre style=\"white-space:pre;overflow-x:auto;line-height:normal;font-family:Menlo,'DejaVu Sans Mono',consolas,'Courier New',monospace\"><span style=\"color: #008000; text-decoration-color: #008000\">╭──────────────────────────────────────────────── </span><span style=\"color: #008000; text-decoration-color: #008000; font-weight: bold\">Search Results</span><span style=\"color: #008000; text-decoration-color: #008000\"> ─────────────────────────────────────────────────╮</span>\n",
       "<span style=\"color: #008000; text-decoration-color: #008000\">│</span> <span style=\"font-style: italic\">                                                Search Results                                                 </span> <span style=\"color: #008000; text-decoration-color: #008000\">│</span>\n",
       "<span style=\"color: #008000; text-decoration-color: #008000\">│</span> ┏━━━━━━━━━━━┳━━━━━━━━━━━━━━━━━━━━━━━━━━━━━━━━━━━━━━━━━━━━━━━━━━━━┳━━━━━━━━━━┳━━━━━━━━━━━┳━━━━━━━━━━┳━━━━━━━━━━┓ <span style=\"color: #008000; text-decoration-color: #008000\">│</span>\n",
       "<span style=\"color: #008000; text-decoration-color: #008000\">│</span> ┃<span style=\"color: #800080; text-decoration-color: #800080; font-weight: bold\">           </span>┃<span style=\"color: #800080; text-decoration-color: #800080; font-weight: bold\">                                                    </span>┃<span style=\"color: #800080; text-decoration-color: #800080; font-weight: bold\">          </span>┃<span style=\"color: #800080; text-decoration-color: #800080; font-weight: bold\"> Created   </span>┃<span style=\"color: #800080; text-decoration-color: #800080; font-weight: bold\">          </span>┃<span style=\"color: #800080; text-decoration-color: #800080; font-weight: bold\">          </span>┃ <span style=\"color: #008000; text-decoration-color: #008000\">│</span>\n",
       "<span style=\"color: #008000; text-decoration-color: #008000\">│</span> ┃<span style=\"color: #800080; text-decoration-color: #800080; font-weight: bold\"> ID        </span>┃<span style=\"color: #800080; text-decoration-color: #800080; font-weight: bold\"> Memory                                             </span>┃<span style=\"color: #800080; text-decoration-color: #800080; font-weight: bold\"> Relevan… </span>┃<span style=\"color: #800080; text-decoration-color: #800080; font-weight: bold\"> At        </span>┃<span style=\"color: #800080; text-decoration-color: #800080; font-weight: bold\"> User ID  </span>┃<span style=\"color: #800080; text-decoration-color: #800080; font-weight: bold\"> Metadata </span>┃ <span style=\"color: #008000; text-decoration-color: #008000\">│</span>\n",
       "<span style=\"color: #008000; text-decoration-color: #008000\">│</span> ┡━━━━━━━━━━━╇━━━━━━━━━━━━━━━━━━━━━━━━━━━━━━━━━━━━━━━━━━━━━━━━━━━━╇━━━━━━━━━━╇━━━━━━━━━━━╇━━━━━━━━━━╇━━━━━━━━━━┩ <span style=\"color: #008000; text-decoration-color: #008000\">│</span>\n",
       "<span style=\"color: #008000; text-decoration-color: #008000\">│</span> │<span style=\"color: #008080; text-decoration-color: #008080\"> 7b0e1f75… </span>│<span style=\"color: #808000; text-decoration-color: #808000\"> Likes to drink tea more than coffee                </span>│<span style=\"color: #008000; text-decoration-color: #008000\"> </span><span style=\"color: #800000; text-decoration-color: #800000\">0.45471…</span><span style=\"color: #008000; text-decoration-color: #008000\"> </span>│<span style=\"color: #000080; text-decoration-color: #000080\"> 2025-08-… </span>│<span style=\"color: #800080; text-decoration-color: #800080\"> PeterRa… </span>│<span style=\"color: #c0c0c0; text-decoration-color: #c0c0c0\"> None     </span>│ <span style=\"color: #008000; text-decoration-color: #008000\">│</span>\n",
       "<span style=\"color: #008000; text-decoration-color: #008000\">│</span> │<span style=\"color: #008080; text-decoration-color: #008080\"> e95f256d… </span>│<span style=\"color: #808000; text-decoration-color: #808000\"> User name is PeterRabbit                           </span>│<span style=\"color: #008000; text-decoration-color: #008000\"> </span><span style=\"color: #800000; text-decoration-color: #800000\">0.30316…</span><span style=\"color: #008000; text-decoration-color: #008000\"> </span>│<span style=\"color: #000080; text-decoration-color: #000080\"> 2025-08-… </span>│<span style=\"color: #800080; text-decoration-color: #800080\"> PeterRa… </span>│<span style=\"color: #c0c0c0; text-decoration-color: #c0c0c0\"> None     </span>│ <span style=\"color: #008000; text-decoration-color: #008000\">│</span>\n",
       "<span style=\"color: #008000; text-decoration-color: #008000\">│</span> └───────────┴────────────────────────────────────────────────────┴──────────┴───────────┴──────────┴──────────┘ <span style=\"color: #008000; text-decoration-color: #008000\">│</span>\n",
       "<span style=\"color: #008000; text-decoration-color: #008000\">╰─────────────────────────────────────────────────────────────────────────────────────────────────────────────────╯</span>\n",
       "</pre>\n"
      ],
      "text/plain": [
       "\u001b[32m╭─\u001b[0m\u001b[32m───────────────────────────────────────────────\u001b[0m\u001b[32m \u001b[0m\u001b[1;32mSearch Results\u001b[0m\u001b[32m \u001b[0m\u001b[32m────────────────────────────────────────────────\u001b[0m\u001b[32m─╮\u001b[0m\n",
       "\u001b[32m│\u001b[0m \u001b[3m                                                Search Results                                                 \u001b[0m \u001b[32m│\u001b[0m\n",
       "\u001b[32m│\u001b[0m ┏━━━━━━━━━━━┳━━━━━━━━━━━━━━━━━━━━━━━━━━━━━━━━━━━━━━━━━━━━━━━━━━━━┳━━━━━━━━━━┳━━━━━━━━━━━┳━━━━━━━━━━┳━━━━━━━━━━┓ \u001b[32m│\u001b[0m\n",
       "\u001b[32m│\u001b[0m ┃\u001b[1;35m           \u001b[0m┃\u001b[1;35m                                                    \u001b[0m┃\u001b[1;35m          \u001b[0m┃\u001b[1;35m \u001b[0m\u001b[1;35mCreated  \u001b[0m\u001b[1;35m \u001b[0m┃\u001b[1;35m          \u001b[0m┃\u001b[1;35m          \u001b[0m┃ \u001b[32m│\u001b[0m\n",
       "\u001b[32m│\u001b[0m ┃\u001b[1;35m \u001b[0m\u001b[1;35mID       \u001b[0m\u001b[1;35m \u001b[0m┃\u001b[1;35m \u001b[0m\u001b[1;35mMemory                                            \u001b[0m\u001b[1;35m \u001b[0m┃\u001b[1;35m \u001b[0m\u001b[1;35mRelevan…\u001b[0m\u001b[1;35m \u001b[0m┃\u001b[1;35m \u001b[0m\u001b[1;35mAt       \u001b[0m\u001b[1;35m \u001b[0m┃\u001b[1;35m \u001b[0m\u001b[1;35mUser ID \u001b[0m\u001b[1;35m \u001b[0m┃\u001b[1;35m \u001b[0m\u001b[1;35mMetadata\u001b[0m\u001b[1;35m \u001b[0m┃ \u001b[32m│\u001b[0m\n",
       "\u001b[32m│\u001b[0m ┡━━━━━━━━━━━╇━━━━━━━━━━━━━━━━━━━━━━━━━━━━━━━━━━━━━━━━━━━━━━━━━━━━╇━━━━━━━━━━╇━━━━━━━━━━━╇━━━━━━━━━━╇━━━━━━━━━━┩ \u001b[32m│\u001b[0m\n",
       "\u001b[32m│\u001b[0m │\u001b[36m \u001b[0m\u001b[36m7b0e1f75…\u001b[0m\u001b[36m \u001b[0m│\u001b[33m \u001b[0m\u001b[33mLikes to drink tea more than coffee               \u001b[0m\u001b[33m \u001b[0m│\u001b[32m \u001b[0m\u001b[31m0.45471…\u001b[0m\u001b[32m \u001b[0m│\u001b[34m \u001b[0m\u001b[34m2025-08-…\u001b[0m\u001b[34m \u001b[0m│\u001b[35m \u001b[0m\u001b[35mPeterRa…\u001b[0m\u001b[35m \u001b[0m│\u001b[37m \u001b[0m\u001b[37mNone    \u001b[0m\u001b[37m \u001b[0m│ \u001b[32m│\u001b[0m\n",
       "\u001b[32m│\u001b[0m │\u001b[36m \u001b[0m\u001b[36me95f256d…\u001b[0m\u001b[36m \u001b[0m│\u001b[33m \u001b[0m\u001b[33mUser name is PeterRabbit                          \u001b[0m\u001b[33m \u001b[0m│\u001b[32m \u001b[0m\u001b[31m0.30316…\u001b[0m\u001b[32m \u001b[0m│\u001b[34m \u001b[0m\u001b[34m2025-08-…\u001b[0m\u001b[34m \u001b[0m│\u001b[35m \u001b[0m\u001b[35mPeterRa…\u001b[0m\u001b[35m \u001b[0m│\u001b[37m \u001b[0m\u001b[37mNone    \u001b[0m\u001b[37m \u001b[0m│ \u001b[32m│\u001b[0m\n",
       "\u001b[32m│\u001b[0m └───────────┴────────────────────────────────────────────────────┴──────────┴───────────┴──────────┴──────────┘ \u001b[32m│\u001b[0m\n",
       "\u001b[32m╰─────────────────────────────────────────────────────────────────────────────────────────────────────────────────╯\u001b[0m\n"
      ]
     },
     "metadata": {},
     "output_type": "display_data"
    },
    {
     "data": {
      "text/plain": [
       "{'toolUseId': 'tooluse_mem0_memory_250594115',\n",
       " 'status': 'success',\n",
       " 'content': [{'text': '[\\n  {\\n    \"id\": \"7b0e1f75-e954-4bf0-988d-b5999661cc65\",\\n    \"memory\": \"Likes to drink tea more than coffee\",\\n    \"user_id\": \"PeterRabbit\",\\n    \"metadata\": null,\\n    \"categories\": [\\n      \"user_preferences\",\\n      \"food\"\\n    ],\\n    \"created_at\": \"2025-08-13T19:18:15.351285-07:00\",\\n    \"updated_at\": \"2025-08-13T19:18:15.373166-07:00\",\\n    \"expiration_date\": null,\\n    \"structured_attributes\": {\\n      \"day\": 14,\\n      \"hour\": 2,\\n      \"year\": 2025,\\n      \"month\": 8,\\n      \"minute\": 18,\\n      \"quarter\": 3,\\n      \"is_weekend\": false,\\n      \"day_of_week\": \"thursday\",\\n      \"day_of_year\": 226,\\n      \"week_of_year\": 33\\n    },\\n    \"score\": 0.45471939174648557\\n  },\\n  {\\n    \"id\": \"e95f256d-e407-4867-a065-f35d7afe8ac3\",\\n    \"memory\": \"User name is PeterRabbit\",\\n    \"user_id\": \"PeterRabbit\",\\n    \"metadata\": null,\\n    \"categories\": [\\n      \"personal_details\"\\n    ],\\n    \"created_at\": \"2025-08-13T19:18:00.836370-07:00\",\\n    \"updated_at\": \"2025-08-13T19:18:00.858812-07:00\",\\n    \"expiration_date\": null,\\n    \"structured_attributes\": {\\n      \"day\": 14,\\n      \"hour\": 2,\\n      \"year\": 2025,\\n      \"month\": 8,\\n      \"minute\": 17,\\n      \"quarter\": 3,\\n      \"is_weekend\": false,\\n      \"day_of_week\": \"thursday\",\\n      \"day_of_year\": 226,\\n      \"week_of_year\": 33\\n    },\\n    \"score\": 0.3031606258845707\\n  }\\n]'}]}"
      ]
     },
     "execution_count": 12,
     "metadata": {},
     "output_type": "execute_result"
    }
   ],
   "source": [
    "# Retrieve memories about preferences\n",
    "memory_agent.tool.mem0_memory(\n",
    "    action=\"retrieve\",\n",
    "    query=\"What are the my drink preferences?\",\n",
    "    user_id=USER_ID\n",
    ")"
   ]
  },
  {
   "cell_type": "code",
   "execution_count": 13,
   "id": "26c5dc92",
   "metadata": {},
   "outputs": [
    {
     "name": "stdout",
     "output_type": "stream",
     "text": [
      "I'll help you find information about events happening in New York today. Let me search for that information for you.\n",
      "Tool #1: websearch\n",
      "\n",
      "Tool #2: mem0_memory\n"
     ]
    },
    {
     "data": {
      "text/html": [
       "<pre style=\"white-space:pre;overflow-x:auto;line-height:normal;font-family:Menlo,'DejaVu Sans Mono',consolas,'Courier New',monospace\"><span style=\"color: #008000; text-decoration-color: #008000\">╭──────────────────────────────────────────────── </span><span style=\"color: #008000; text-decoration-color: #008000; font-weight: bold\">Search Results</span><span style=\"color: #008000; text-decoration-color: #008000\"> ─────────────────────────────────────────────────╮</span>\n",
       "<span style=\"color: #008000; text-decoration-color: #008000\">│</span> <span style=\"font-style: italic\">                                                Search Results                                                 </span> <span style=\"color: #008000; text-decoration-color: #008000\">│</span>\n",
       "<span style=\"color: #008000; text-decoration-color: #008000\">│</span> ┏━━━━━━━━━━━┳━━━━━━━━━━━━━━━━━━━━━━━━━━━━━━━━━━━━━━━━━━━━━━━━━━━━┳━━━━━━━━━━┳━━━━━━━━━━━┳━━━━━━━━━━┳━━━━━━━━━━┓ <span style=\"color: #008000; text-decoration-color: #008000\">│</span>\n",
       "<span style=\"color: #008000; text-decoration-color: #008000\">│</span> ┃<span style=\"color: #800080; text-decoration-color: #800080; font-weight: bold\">           </span>┃<span style=\"color: #800080; text-decoration-color: #800080; font-weight: bold\">                                                    </span>┃<span style=\"color: #800080; text-decoration-color: #800080; font-weight: bold\">          </span>┃<span style=\"color: #800080; text-decoration-color: #800080; font-weight: bold\"> Created   </span>┃<span style=\"color: #800080; text-decoration-color: #800080; font-weight: bold\">          </span>┃<span style=\"color: #800080; text-decoration-color: #800080; font-weight: bold\">          </span>┃ <span style=\"color: #008000; text-decoration-color: #008000\">│</span>\n",
       "<span style=\"color: #008000; text-decoration-color: #008000\">│</span> ┃<span style=\"color: #800080; text-decoration-color: #800080; font-weight: bold\"> ID        </span>┃<span style=\"color: #800080; text-decoration-color: #800080; font-weight: bold\"> Memory                                             </span>┃<span style=\"color: #800080; text-decoration-color: #800080; font-weight: bold\"> Relevan… </span>┃<span style=\"color: #800080; text-decoration-color: #800080; font-weight: bold\"> At        </span>┃<span style=\"color: #800080; text-decoration-color: #800080; font-weight: bold\"> User ID  </span>┃<span style=\"color: #800080; text-decoration-color: #800080; font-weight: bold\"> Metadata </span>┃ <span style=\"color: #008000; text-decoration-color: #008000\">│</span>\n",
       "<span style=\"color: #008000; text-decoration-color: #008000\">│</span> ┡━━━━━━━━━━━╇━━━━━━━━━━━━━━━━━━━━━━━━━━━━━━━━━━━━━━━━━━━━━━━━━━━━╇━━━━━━━━━━╇━━━━━━━━━━━╇━━━━━━━━━━╇━━━━━━━━━━┩ <span style=\"color: #008000; text-decoration-color: #008000\">│</span>\n",
       "<span style=\"color: #008000; text-decoration-color: #008000\">│</span> │<span style=\"color: #008080; text-decoration-color: #008080\"> e95f256d… </span>│<span style=\"color: #808000; text-decoration-color: #808000\"> User name is PeterRabbit                           </span>│<span style=\"color: #008000; text-decoration-color: #008000\"> </span><span style=\"color: #800000; text-decoration-color: #800000\">0.44758…</span><span style=\"color: #008000; text-decoration-color: #008000\"> </span>│<span style=\"color: #000080; text-decoration-color: #000080\"> 2025-08-… </span>│<span style=\"color: #800080; text-decoration-color: #800080\"> PeterRa… </span>│<span style=\"color: #c0c0c0; text-decoration-color: #c0c0c0\"> None     </span>│ <span style=\"color: #008000; text-decoration-color: #008000\">│</span>\n",
       "<span style=\"color: #008000; text-decoration-color: #008000\">│</span> │<span style=\"color: #008080; text-decoration-color: #008080\"> 7b0e1f75… </span>│<span style=\"color: #808000; text-decoration-color: #808000\"> Likes to drink tea more than coffee                </span>│<span style=\"color: #008000; text-decoration-color: #008000\"> </span><span style=\"color: #800000; text-decoration-color: #800000\">0.43841…</span><span style=\"color: #008000; text-decoration-color: #008000\"> </span>│<span style=\"color: #000080; text-decoration-color: #000080\"> 2025-08-… </span>│<span style=\"color: #800080; text-decoration-color: #800080\"> PeterRa… </span>│<span style=\"color: #c0c0c0; text-decoration-color: #c0c0c0\"> None     </span>│ <span style=\"color: #008000; text-decoration-color: #008000\">│</span>\n",
       "<span style=\"color: #008000; text-decoration-color: #008000\">│</span> └───────────┴────────────────────────────────────────────────────┴──────────┴───────────┴──────────┴──────────┘ <span style=\"color: #008000; text-decoration-color: #008000\">│</span>\n",
       "<span style=\"color: #008000; text-decoration-color: #008000\">╰─────────────────────────────────────────────────────────────────────────────────────────────────────────────────╯</span>\n",
       "</pre>\n"
      ],
      "text/plain": [
       "\u001b[32m╭─\u001b[0m\u001b[32m───────────────────────────────────────────────\u001b[0m\u001b[32m \u001b[0m\u001b[1;32mSearch Results\u001b[0m\u001b[32m \u001b[0m\u001b[32m────────────────────────────────────────────────\u001b[0m\u001b[32m─╮\u001b[0m\n",
       "\u001b[32m│\u001b[0m \u001b[3m                                                Search Results                                                 \u001b[0m \u001b[32m│\u001b[0m\n",
       "\u001b[32m│\u001b[0m ┏━━━━━━━━━━━┳━━━━━━━━━━━━━━━━━━━━━━━━━━━━━━━━━━━━━━━━━━━━━━━━━━━━┳━━━━━━━━━━┳━━━━━━━━━━━┳━━━━━━━━━━┳━━━━━━━━━━┓ \u001b[32m│\u001b[0m\n",
       "\u001b[32m│\u001b[0m ┃\u001b[1;35m           \u001b[0m┃\u001b[1;35m                                                    \u001b[0m┃\u001b[1;35m          \u001b[0m┃\u001b[1;35m \u001b[0m\u001b[1;35mCreated  \u001b[0m\u001b[1;35m \u001b[0m┃\u001b[1;35m          \u001b[0m┃\u001b[1;35m          \u001b[0m┃ \u001b[32m│\u001b[0m\n",
       "\u001b[32m│\u001b[0m ┃\u001b[1;35m \u001b[0m\u001b[1;35mID       \u001b[0m\u001b[1;35m \u001b[0m┃\u001b[1;35m \u001b[0m\u001b[1;35mMemory                                            \u001b[0m\u001b[1;35m \u001b[0m┃\u001b[1;35m \u001b[0m\u001b[1;35mRelevan…\u001b[0m\u001b[1;35m \u001b[0m┃\u001b[1;35m \u001b[0m\u001b[1;35mAt       \u001b[0m\u001b[1;35m \u001b[0m┃\u001b[1;35m \u001b[0m\u001b[1;35mUser ID \u001b[0m\u001b[1;35m \u001b[0m┃\u001b[1;35m \u001b[0m\u001b[1;35mMetadata\u001b[0m\u001b[1;35m \u001b[0m┃ \u001b[32m│\u001b[0m\n",
       "\u001b[32m│\u001b[0m ┡━━━━━━━━━━━╇━━━━━━━━━━━━━━━━━━━━━━━━━━━━━━━━━━━━━━━━━━━━━━━━━━━━╇━━━━━━━━━━╇━━━━━━━━━━━╇━━━━━━━━━━╇━━━━━━━━━━┩ \u001b[32m│\u001b[0m\n",
       "\u001b[32m│\u001b[0m │\u001b[36m \u001b[0m\u001b[36me95f256d…\u001b[0m\u001b[36m \u001b[0m│\u001b[33m \u001b[0m\u001b[33mUser name is PeterRabbit                          \u001b[0m\u001b[33m \u001b[0m│\u001b[32m \u001b[0m\u001b[31m0.44758…\u001b[0m\u001b[32m \u001b[0m│\u001b[34m \u001b[0m\u001b[34m2025-08-…\u001b[0m\u001b[34m \u001b[0m│\u001b[35m \u001b[0m\u001b[35mPeterRa…\u001b[0m\u001b[35m \u001b[0m│\u001b[37m \u001b[0m\u001b[37mNone    \u001b[0m\u001b[37m \u001b[0m│ \u001b[32m│\u001b[0m\n",
       "\u001b[32m│\u001b[0m │\u001b[36m \u001b[0m\u001b[36m7b0e1f75…\u001b[0m\u001b[36m \u001b[0m│\u001b[33m \u001b[0m\u001b[33mLikes to drink tea more than coffee               \u001b[0m\u001b[33m \u001b[0m│\u001b[32m \u001b[0m\u001b[31m0.43841…\u001b[0m\u001b[32m \u001b[0m│\u001b[34m \u001b[0m\u001b[34m2025-08-…\u001b[0m\u001b[34m \u001b[0m│\u001b[35m \u001b[0m\u001b[35mPeterRa…\u001b[0m\u001b[35m \u001b[0m│\u001b[37m \u001b[0m\u001b[37mNone    \u001b[0m\u001b[37m \u001b[0m│ \u001b[32m│\u001b[0m\n",
       "\u001b[32m│\u001b[0m └───────────┴────────────────────────────────────────────────────┴──────────┴───────────┴──────────┴──────────┘ \u001b[32m│\u001b[0m\n",
       "\u001b[32m╰─────────────────────────────────────────────────────────────────────────────────────────────────────────────────╯\u001b[0m\n"
      ]
     },
     "metadata": {},
     "output_type": "display_data"
    },
    {
     "name": "stdout",
     "output_type": "stream",
     "text": [
      "Based on my search, here are some events happening in New York today:\n",
      "\n",
      "1. NYC Public Outdoor Pools are open for the season\n",
      "2. NYC Restaurant Week is ongoing\n",
      "3. Down to Earth Park Slope Farmers Market\n",
      "4. RiseBoro Farmers Markets\n",
      "5. Various events across categories including business, music, film, performing arts, fashion, and sports\n",
      "\n",
      "You can find more specific events on websites like:\n",
      "- NYC.gov's events calendar\n",
      "- Eventbrite's New York events\n",
      "- Timeout New York\n",
      "- Central Park's upcoming events and concerts\n",
      "\n",
      "Would you like me to look for any specific type of event that might interest you? Perhaps something tea-related since I recall you prefer tea over coffee?Based on my search, here are some events happening in New York today:\n",
      "\n",
      "1. NYC Public Outdoor Pools are open for the season\n",
      "2. NYC Restaurant Week is ongoing\n",
      "3. Down to Earth Park Slope Farmers Market\n",
      "4. RiseBoro Farmers Markets\n",
      "5. Various events across categories including business, music, film, performing arts, fashion, and sports\n",
      "\n",
      "You can find more specific events on websites like:\n",
      "- NYC.gov's events calendar\n",
      "- Eventbrite's New York events\n",
      "- Timeout New York\n",
      "- Central Park's upcoming events and concerts\n",
      "\n",
      "Would you like me to look for any specific type of event that might interest you? Perhaps something tea-related since I recall you prefer tea over coffee?\n",
      "\n"
     ]
    }
   ],
   "source": [
    "# Ask the agent a question\n",
    "response = memory_agent(\"What are the events happening in the New York today?\")\n",
    "print(response)"
   ]
  },
  {
   "cell_type": "code",
   "execution_count": 14,
   "id": "790d8d37",
   "metadata": {},
   "outputs": [
    {
     "name": "stdout",
     "output_type": "stream",
     "text": [
      "All Stored Memories:\n"
     ]
    },
    {
     "data": {
      "text/html": [
       "<pre style=\"white-space:pre;overflow-x:auto;line-height:normal;font-family:Menlo,'DejaVu Sans Mono',consolas,'Courier New',monospace\"><span style=\"color: #008000; text-decoration-color: #008000\">╭───────────────────────────────────────────────── </span><span style=\"color: #008000; text-decoration-color: #008000; font-weight: bold\">Memories List</span><span style=\"color: #008000; text-decoration-color: #008000\"> ─────────────────────────────────────────────────╮</span>\n",
       "<span style=\"color: #008000; text-decoration-color: #008000\">│</span> <span style=\"font-style: italic\">                                                   Memories                                                    </span> <span style=\"color: #008000; text-decoration-color: #008000\">│</span>\n",
       "<span style=\"color: #008000; text-decoration-color: #008000\">│</span> ┏━━━━━━━━━━━━━━━┳━━━━━━━━━━━━━━━━━━━━━━━━━━━━━━━━━━━━━━━━━━━━━━━━━━━━┳━━━━━━━━━━━━━━━┳━━━━━━━━━━━━━┳━━━━━━━━━━┓ <span style=\"color: #008000; text-decoration-color: #008000\">│</span>\n",
       "<span style=\"color: #008000; text-decoration-color: #008000\">│</span> ┃<span style=\"color: #800080; text-decoration-color: #800080; font-weight: bold\"> ID            </span>┃<span style=\"color: #800080; text-decoration-color: #800080; font-weight: bold\"> Memory                                             </span>┃<span style=\"color: #800080; text-decoration-color: #800080; font-weight: bold\"> Created At    </span>┃<span style=\"color: #800080; text-decoration-color: #800080; font-weight: bold\"> User ID     </span>┃<span style=\"color: #800080; text-decoration-color: #800080; font-weight: bold\"> Metadata </span>┃ <span style=\"color: #008000; text-decoration-color: #008000\">│</span>\n",
       "<span style=\"color: #008000; text-decoration-color: #008000\">│</span> ┡━━━━━━━━━━━━━━━╇━━━━━━━━━━━━━━━━━━━━━━━━━━━━━━━━━━━━━━━━━━━━━━━━━━━━╇━━━━━━━━━━━━━━━╇━━━━━━━━━━━━━╇━━━━━━━━━━┩ <span style=\"color: #008000; text-decoration-color: #008000\">│</span>\n",
       "<span style=\"color: #008000; text-decoration-color: #008000\">│</span> │<span style=\"color: #008080; text-decoration-color: #008080\"> 7b0e1f75-e95… </span>│<span style=\"color: #808000; text-decoration-color: #808000\"> Likes to drink tea more than coffee                </span>│<span style=\"color: #000080; text-decoration-color: #000080\"> 2025-08-13T1… </span>│<span style=\"color: #008000; text-decoration-color: #008000\"> PeterRabbit </span>│<span style=\"color: #800080; text-decoration-color: #800080\"> None     </span>│ <span style=\"color: #008000; text-decoration-color: #008000\">│</span>\n",
       "<span style=\"color: #008000; text-decoration-color: #008000\">│</span> │<span style=\"color: #008080; text-decoration-color: #008080\"> e95f256d-e40… </span>│<span style=\"color: #808000; text-decoration-color: #808000\"> User name is PeterRabbit                           </span>│<span style=\"color: #000080; text-decoration-color: #000080\"> 2025-08-13T1… </span>│<span style=\"color: #008000; text-decoration-color: #008000\"> PeterRabbit </span>│<span style=\"color: #800080; text-decoration-color: #800080\"> None     </span>│ <span style=\"color: #008000; text-decoration-color: #008000\">│</span>\n",
       "<span style=\"color: #008000; text-decoration-color: #008000\">│</span> └───────────────┴────────────────────────────────────────────────────┴───────────────┴─────────────┴──────────┘ <span style=\"color: #008000; text-decoration-color: #008000\">│</span>\n",
       "<span style=\"color: #008000; text-decoration-color: #008000\">╰─────────────────────────────────────────────────────────────────────────────────────────────────────────────────╯</span>\n",
       "</pre>\n"
      ],
      "text/plain": [
       "\u001b[32m╭─\u001b[0m\u001b[32m────────────────────────────────────────────────\u001b[0m\u001b[32m \u001b[0m\u001b[1;32mMemories List\u001b[0m\u001b[32m \u001b[0m\u001b[32m────────────────────────────────────────────────\u001b[0m\u001b[32m─╮\u001b[0m\n",
       "\u001b[32m│\u001b[0m \u001b[3m                                                   Memories                                                    \u001b[0m \u001b[32m│\u001b[0m\n",
       "\u001b[32m│\u001b[0m ┏━━━━━━━━━━━━━━━┳━━━━━━━━━━━━━━━━━━━━━━━━━━━━━━━━━━━━━━━━━━━━━━━━━━━━┳━━━━━━━━━━━━━━━┳━━━━━━━━━━━━━┳━━━━━━━━━━┓ \u001b[32m│\u001b[0m\n",
       "\u001b[32m│\u001b[0m ┃\u001b[1;35m \u001b[0m\u001b[1;35mID           \u001b[0m\u001b[1;35m \u001b[0m┃\u001b[1;35m \u001b[0m\u001b[1;35mMemory                                            \u001b[0m\u001b[1;35m \u001b[0m┃\u001b[1;35m \u001b[0m\u001b[1;35mCreated At   \u001b[0m\u001b[1;35m \u001b[0m┃\u001b[1;35m \u001b[0m\u001b[1;35mUser ID    \u001b[0m\u001b[1;35m \u001b[0m┃\u001b[1;35m \u001b[0m\u001b[1;35mMetadata\u001b[0m\u001b[1;35m \u001b[0m┃ \u001b[32m│\u001b[0m\n",
       "\u001b[32m│\u001b[0m ┡━━━━━━━━━━━━━━━╇━━━━━━━━━━━━━━━━━━━━━━━━━━━━━━━━━━━━━━━━━━━━━━━━━━━━╇━━━━━━━━━━━━━━━╇━━━━━━━━━━━━━╇━━━━━━━━━━┩ \u001b[32m│\u001b[0m\n",
       "\u001b[32m│\u001b[0m │\u001b[36m \u001b[0m\u001b[36m7b0e1f75-e95…\u001b[0m\u001b[36m \u001b[0m│\u001b[33m \u001b[0m\u001b[33mLikes to drink tea more than coffee               \u001b[0m\u001b[33m \u001b[0m│\u001b[34m \u001b[0m\u001b[34m2025-08-13T1…\u001b[0m\u001b[34m \u001b[0m│\u001b[32m \u001b[0m\u001b[32mPeterRabbit\u001b[0m\u001b[32m \u001b[0m│\u001b[35m \u001b[0m\u001b[35mNone    \u001b[0m\u001b[35m \u001b[0m│ \u001b[32m│\u001b[0m\n",
       "\u001b[32m│\u001b[0m │\u001b[36m \u001b[0m\u001b[36me95f256d-e40…\u001b[0m\u001b[36m \u001b[0m│\u001b[33m \u001b[0m\u001b[33mUser name is PeterRabbit                          \u001b[0m\u001b[33m \u001b[0m│\u001b[34m \u001b[0m\u001b[34m2025-08-13T1…\u001b[0m\u001b[34m \u001b[0m│\u001b[32m \u001b[0m\u001b[32mPeterRabbit\u001b[0m\u001b[32m \u001b[0m│\u001b[35m \u001b[0m\u001b[35mNone    \u001b[0m\u001b[35m \u001b[0m│ \u001b[32m│\u001b[0m\n",
       "\u001b[32m│\u001b[0m └───────────────┴────────────────────────────────────────────────────┴───────────────┴─────────────┴──────────┘ \u001b[32m│\u001b[0m\n",
       "\u001b[32m╰─────────────────────────────────────────────────────────────────────────────────────────────────────────────────╯\u001b[0m\n"
      ]
     },
     "metadata": {},
     "output_type": "display_data"
    }
   ],
   "source": [
    "\n",
    "# List all stored memories\n",
    "print(\"All Stored Memories:\")\n",
    "all_memories = memory_agent.tool.mem0_memory(\n",
    "    action=\"list\", user_id=USER_ID\n",
    ")"
   ]
  },
  {
   "cell_type": "markdown",
   "id": "f5c72c91",
   "metadata": {},
   "source": [
    "## Interactive Agent Usage\n",
    "\n",
    "Finally, we provide an interactive loop for users to interact with the memory agent. Users can store new memories, retrieve existing ones, or list all stored memories.\n",
    "\n",
    "To test interactive usage: \n",
    "1. Install the requirements: `pip install -r requirements.txt`\n",
    "1. Run the python file `personal_agent_with_memory.py`. "
   ]
  },
  {
   "cell_type": "markdown",
   "id": "856ea59c",
   "metadata": {},
   "source": [
    "## Conclusion\n",
    "\n",
    "This notebook demonstrates how to create a personal agent with memory capabilities using the Strands framework. The agent can:\n",
    "\n",
    "1. Store information about the user\n",
    "2. Retrieve relevant memories based on context\n",
    "3. Search the web for additional information\n",
    "4. Provide personalized responses\n",
    "\n",
    "By combining these capabilities, the agent can maintain context across conversations and provide more personalized assistance over time."
   ]
  },
  {
   "cell_type": "markdown",
   "id": "be6fd03a-26cc-4190-bb09-872c6767f972",
   "metadata": {},
   "source": [
    "### Cleanup\n",
    "\n",
    "Run this bash script to clean up the Opensearch Serverless resources. You don't need to run this if you used the \"MEM0_PLATFORM_API\"."
   ]
  },
  {
   "cell_type": "code",
   "execution_count": 1,
   "id": "b6113d4f-45d2-46a5-9853-335b26da0a43",
   "metadata": {},
   "outputs": [
    {
     "name": "stdout",
     "output_type": "stream",
     "text": [
      "Removing Opensearch Serverless resources ...\n",
      "Configuration loaded: {'opensearch_collection_name': 'memory-store', 'opensearch_description': 'Memory vector store'}\n",
      "Deleting OpenSearch Serverless collection: memory-store\n",
      "Warning: Some parameters not found in SSM: An error occurred (ParameterNotFound) when calling the GetParameter operation: \n",
      "Error deleting OpenSearch resources: name 'collection_id' is not defined\n",
      "SSM parameter memory-store-hostname not found\n",
      "SSM parameter memory-store-id not found\n",
      "SSM parameter memory-store-arn not found\n",
      "SSM parameter memory-store-name not found\n",
      "SSM parameter memory-store-encryption_policy not found\n",
      "SSM parameter memory-store-network_policy not found\n",
      "SSM parameter memory-store-access_policy not found\n"
     ]
    }
   ],
   "source": [
    "#!sh prereqs/cleanup_OSS.sh #Mac Users\n",
    "! \"E:\\Program Files\\Git\\bin\\bash.exe\" -c prereqs/cleanup_OSS.sh "
   ]
  }
 ],
 "metadata": {
  "kernelspec": {
   "display_name": ".venvmem",
   "language": "python",
   "name": "python3"
  },
  "language_info": {
   "codemirror_mode": {
    "name": "ipython",
    "version": 3
   },
   "file_extension": ".py",
   "mimetype": "text/x-python",
   "name": "python",
   "nbconvert_exporter": "python",
   "pygments_lexer": "ipython3",
   "version": "3.13.7"
  }
 },
 "nbformat": 4,
 "nbformat_minor": 5
}
