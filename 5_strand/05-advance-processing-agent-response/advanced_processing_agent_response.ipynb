{
 "cells": [
  {
   "cell_type": "markdown",
   "metadata": {
    "collapsed": false,
    "jupyter": {
     "outputs_hidden": false
    },
    "pycharm": {
     "name": "#%% md\n"
    }
   },
   "source": [
    "# Advanced processing of Strands Agents Response"
   ]
  },
  {
   "cell_type": "markdown",
   "metadata": {},
   "source": [
    "Strands Agents allows you to intercept and process events as they happen during agent execution using two methods: \n",
    "    \n",
    "- **Async iterators**: ideal for asynchronous frameworks like FastAPI, aiohttp, or Django Channels. For these environments, the SDK offers the `stream_async` method which returns an asynchronous iterator. \n",
    "- **Callback handlers**: allow you to intercept and process events as they happen during agent execution. This enables real-time monitoring, custom output formatting, and integration with external systems.\n",
    "\n",
    "In this example, we will show you how to use both methods to handle calls on your agent\n",
    "\n",
    "\n",
    "## Agent Details\n",
    "<div style=\"float: left; margin-right: 20px; \">\n",
    "    \n",
    "|Feature             |Description                                        |\n",
    "|--------------------|---------------------------------------------------|\n",
    "|Feature used        |async iterators, callback handlers                 |\n",
    "|Agent Structure     |single agent architecture                          |\n",
    "|Native tools used   |calculator                                         |\n",
    "|Custom tools created|Weather forecast                                   |\n",
    "\n",
    "</div>"
   ]
  },
  {
   "cell_type": "markdown",
   "metadata": {},
   "source": [
    "## Architecture\n",
    "\n",
    "<div style=\"text-align:left;\">\n",
    "    <img src=\"images/architecture.png\" width=\"65%\" />\n",
    "</div>\n",
    "\n",
    "## Key Features\n",
    "* Async Iterators for Streaming\n",
    "* Callback Handlers\n",
    "\n",
    "\n",
    "## Setup and prerequisites\n",
    "\n",
    "### Prerequisites\n",
    "* Python 3.10+\n",
    "* AWS account\n",
    "* Anthropic Claude 3.7 enabled on Amazon Bedrock\n",
    "\n",
    "Let's now install the requirement packages for our Strands Agent Agent"
   ]
  },
  {
   "cell_type": "code",
   "execution_count": 1,
   "metadata": {},
   "outputs": [
    {
     "name": "stderr",
     "output_type": "stream",
     "text": [
      "\u001b[2mUsing Python 3.13.5 environment at: E:\\OneDrive\\OneDriveOnitbuddy\\OneDrive\\workbench\\exampletest\\agenticAIeducation\\5_strand\\07-memory-persistent-agents\\.venvmem\u001b[0m\n",
      "\u001b[2mAudited \u001b[1m7 packages\u001b[0m \u001b[2min 77ms\u001b[0m\u001b[0m\n",
      "\u001b[2mUsing Python 3.13.5 environment at: E:\\OneDrive\\OneDriveOnitbuddy\\OneDrive\\workbench\\exampletest\\agenticAIeducation\\5_strand\\07-memory-persistent-agents\\.venvmem\u001b[0m\n",
      "\u001b[2mAudited \u001b[1m1 package\u001b[0m \u001b[2min 61ms\u001b[0m\u001b[0m\n"
     ]
    }
   ],
   "source": [
    "# installing pre-requisites\n",
    "!uv pip install -r requirements.txt\n",
    "!uv pip install fastapi"
   ]
  },
  {
   "cell_type": "markdown",
   "metadata": {},
   "source": [
    "### Importing dependency packages\n",
    "\n",
    "Now let's import the dependency packages"
   ]
  },
  {
   "cell_type": "code",
   "execution_count": 2,
   "metadata": {},
   "outputs": [],
   "source": [
    "import asyncio\n",
    "\n",
    "import httpx\n",
    "import nest_asyncio\n",
    "import uvicorn\n",
    "from fastapi import FastAPI\n",
    "from fastapi.responses import StreamingResponse\n",
    "from pydantic import BaseModel\n",
    "from strands import Agent, tool\n",
    "from strands_tools import calculator"
   ]
  },
  {
   "cell_type": "markdown",
   "metadata": {},
   "source": [
    "## Method 1 - Async Iterators for Streaming\n"
   ]
  },
  {
   "cell_type": "markdown",
   "metadata": {},
   "source": [
    "Strands Agents provides support for asynchronous iterators through the `stream_async` method, enabling real-time streaming of agent responses in asynchronous environments like web servers, APIs, and other async applications.\n",
    "\n",
    "Since we are show casing this example in a notebook, we need to apply `nest_asyncio` to allow nested use of `asyncio.run` and `loop.run_until_complete`"
   ]
  },
  {
   "cell_type": "code",
   "execution_count": 3,
   "metadata": {},
   "outputs": [],
   "source": [
    "nest_asyncio.apply()"
   ]
  },
  {
   "cell_type": "markdown",
   "metadata": {},
   "source": [
    "### Creating and invoking agent with stream_async\n",
    "\n",
    "Let's now create our agent with a built-in calculator tool and no `callback_handler`. We will use the `stream_async` method to iteract over the streamed agent events"
   ]
  },
  {
   "cell_type": "code",
   "execution_count": 5,
   "metadata": {},
   "outputs": [
    {
     "name": "stdout",
     "output_type": "stream",
     "text": [
      "{'init_event_loop': True}\n",
      "{'start': True}\n",
      "{'start_event_loop': True}\n",
      "{'event': {'messageStart': {'role': 'assistant'}}}\n",
      "{'event': {'contentBlockDelta': {'delta': {'text': 'I'}, 'contentBlockIndex': 0}}}\n",
      "{'data': 'I', 'delta': {'text': 'I'}, 'agent': <strands.agent.agent.Agent object at 0x000002EF3D175090>, 'event_loop_cycle_id': UUID('8f5043c4-1a7a-476f-a56b-67a45ee4e6f3'), 'request_state': {}, 'event_loop_cycle_trace': <strands.telemetry.metrics.Trace object at 0x000002EF3D18E140>, 'event_loop_cycle_span': NonRecordingSpan(SpanContext(trace_id=0x00000000000000000000000000000000, span_id=0x0000000000000000, trace_flags=0x00, trace_state=[], is_remote=False))}\n",
      "{'event': {'contentBlockDelta': {'delta': {'text': \"'ll calculate that\"}, 'contentBlockIndex': 0}}}\n",
      "{'data': \"'ll calculate that\", 'delta': {'text': \"'ll calculate that\"}, 'agent': <strands.agent.agent.Agent object at 0x000002EF3D175090>, 'event_loop_cycle_id': UUID('8f5043c4-1a7a-476f-a56b-67a45ee4e6f3'), 'request_state': {}, 'event_loop_cycle_trace': <strands.telemetry.metrics.Trace object at 0x000002EF3D18E140>, 'event_loop_cycle_span': NonRecordingSpan(SpanContext(trace_id=0x00000000000000000000000000000000, span_id=0x0000000000000000, trace_flags=0x00, trace_state=[], is_remote=False))}\n",
      "{'event': {'contentBlockDelta': {'delta': {'text': ' expression for you using the'}, 'contentBlockIndex': 0}}}\n",
      "{'data': ' expression for you using the', 'delta': {'text': ' expression for you using the'}, 'agent': <strands.agent.agent.Agent object at 0x000002EF3D175090>, 'event_loop_cycle_id': UUID('8f5043c4-1a7a-476f-a56b-67a45ee4e6f3'), 'request_state': {}, 'event_loop_cycle_trace': <strands.telemetry.metrics.Trace object at 0x000002EF3D18E140>, 'event_loop_cycle_span': NonRecordingSpan(SpanContext(trace_id=0x00000000000000000000000000000000, span_id=0x0000000000000000, trace_flags=0x00, trace_state=[], is_remote=False))}\n",
      "{'event': {'contentBlockDelta': {'delta': {'text': ' calculator tool.'}, 'contentBlockIndex': 0}}}\n",
      "{'data': ' calculator tool.', 'delta': {'text': ' calculator tool.'}, 'agent': <strands.agent.agent.Agent object at 0x000002EF3D175090>, 'event_loop_cycle_id': UUID('8f5043c4-1a7a-476f-a56b-67a45ee4e6f3'), 'request_state': {}, 'event_loop_cycle_trace': <strands.telemetry.metrics.Trace object at 0x000002EF3D18E140>, 'event_loop_cycle_span': NonRecordingSpan(SpanContext(trace_id=0x00000000000000000000000000000000, span_id=0x0000000000000000, trace_flags=0x00, trace_state=[], is_remote=False))}\n",
      "{'event': {'contentBlockStop': {'contentBlockIndex': 0}}}\n",
      "{'event': {'contentBlockStart': {'start': {'toolUse': {'toolUseId': 'tooluse_Ktz3RyegQl2651Nl-itpJQ', 'name': 'calculator'}}, 'contentBlockIndex': 1}}}\n",
      "{'event': {'contentBlockDelta': {'delta': {'toolUse': {'input': ''}}, 'contentBlockIndex': 1}}}\n",
      "{'delta': {'toolUse': {'input': ''}}, 'current_tool_use': {'toolUseId': 'tooluse_Ktz3RyegQl2651Nl-itpJQ', 'name': 'calculator', 'input': ''}, 'agent': <strands.agent.agent.Agent object at 0x000002EF3D175090>, 'event_loop_cycle_id': UUID('8f5043c4-1a7a-476f-a56b-67a45ee4e6f3'), 'request_state': {}, 'event_loop_cycle_trace': <strands.telemetry.metrics.Trace object at 0x000002EF3D18E140>, 'event_loop_cycle_span': NonRecordingSpan(SpanContext(trace_id=0x00000000000000000000000000000000, span_id=0x0000000000000000, trace_flags=0x00, trace_state=[], is_remote=False))}\n",
      "{'event': {'contentBlockDelta': {'delta': {'toolUse': {'input': '{\"'}}, 'contentBlockIndex': 1}}}\n",
      "{'delta': {'toolUse': {'input': '{\"'}}, 'current_tool_use': {'toolUseId': 'tooluse_Ktz3RyegQl2651Nl-itpJQ', 'name': 'calculator', 'input': '{\"'}, 'agent': <strands.agent.agent.Agent object at 0x000002EF3D175090>, 'event_loop_cycle_id': UUID('8f5043c4-1a7a-476f-a56b-67a45ee4e6f3'), 'request_state': {}, 'event_loop_cycle_trace': <strands.telemetry.metrics.Trace object at 0x000002EF3D18E140>, 'event_loop_cycle_span': NonRecordingSpan(SpanContext(trace_id=0x00000000000000000000000000000000, span_id=0x0000000000000000, trace_flags=0x00, trace_state=[], is_remote=False))}\n",
      "{'event': {'contentBlockDelta': {'delta': {'toolUse': {'input': 'expressio'}}, 'contentBlockIndex': 1}}}\n",
      "{'delta': {'toolUse': {'input': 'expressio'}}, 'current_tool_use': {'toolUseId': 'tooluse_Ktz3RyegQl2651Nl-itpJQ', 'name': 'calculator', 'input': '{\"expressio'}, 'agent': <strands.agent.agent.Agent object at 0x000002EF3D175090>, 'event_loop_cycle_id': UUID('8f5043c4-1a7a-476f-a56b-67a45ee4e6f3'), 'request_state': {}, 'event_loop_cycle_trace': <strands.telemetry.metrics.Trace object at 0x000002EF3D18E140>, 'event_loop_cycle_span': NonRecordingSpan(SpanContext(trace_id=0x00000000000000000000000000000000, span_id=0x0000000000000000, trace_flags=0x00, trace_state=[], is_remote=False))}\n",
      "{'event': {'contentBlockDelta': {'delta': {'toolUse': {'input': 'n\":'}}, 'contentBlockIndex': 1}}}\n",
      "{'delta': {'toolUse': {'input': 'n\":'}}, 'current_tool_use': {'toolUseId': 'tooluse_Ktz3RyegQl2651Nl-itpJQ', 'name': 'calculator', 'input': '{\"expression\":'}, 'agent': <strands.agent.agent.Agent object at 0x000002EF3D175090>, 'event_loop_cycle_id': UUID('8f5043c4-1a7a-476f-a56b-67a45ee4e6f3'), 'request_state': {}, 'event_loop_cycle_trace': <strands.telemetry.metrics.Trace object at 0x000002EF3D18E140>, 'event_loop_cycle_span': NonRecordingSpan(SpanContext(trace_id=0x00000000000000000000000000000000, span_id=0x0000000000000000, trace_flags=0x00, trace_state=[], is_remote=False))}\n",
      "{'event': {'contentBlockDelta': {'delta': {'toolUse': {'input': ' \"2+2\"}'}}, 'contentBlockIndex': 1}}}\n",
      "{'delta': {'toolUse': {'input': ' \"2+2\"}'}}, 'current_tool_use': {'toolUseId': 'tooluse_Ktz3RyegQl2651Nl-itpJQ', 'name': 'calculator', 'input': '{\"expression\": \"2+2\"}'}, 'agent': <strands.agent.agent.Agent object at 0x000002EF3D175090>, 'event_loop_cycle_id': UUID('8f5043c4-1a7a-476f-a56b-67a45ee4e6f3'), 'request_state': {}, 'event_loop_cycle_trace': <strands.telemetry.metrics.Trace object at 0x000002EF3D18E140>, 'event_loop_cycle_span': NonRecordingSpan(SpanContext(trace_id=0x00000000000000000000000000000000, span_id=0x0000000000000000, trace_flags=0x00, trace_state=[], is_remote=False))}\n",
      "{'event': {'contentBlockStop': {'contentBlockIndex': 1}}}\n",
      "{'event': {'messageStop': {'stopReason': 'tool_use'}}}\n",
      "{'event': {'metadata': {'usage': {'inputTokens': 1947, 'outputTokens': 66, 'totalTokens': 2013}, 'metrics': {'latencyMs': 2201}}}}\n",
      "{'message': {'role': 'assistant', 'content': [{'text': \"I'll calculate that expression for you using the calculator tool.\"}, {'toolUse': {'toolUseId': 'tooluse_Ktz3RyegQl2651Nl-itpJQ', 'name': 'calculator', 'input': {'expression': '2+2'}}}]}}\n"
     ]
    },
    {
     "data": {
      "text/html": [
       "<pre style=\"white-space:pre;overflow-x:auto;line-height:normal;font-family:Menlo,'DejaVu Sans Mono',consolas,'Courier New',monospace\"><span style=\"color: #000080; text-decoration-color: #000080\">╭────────────────────────────────────────────── </span><span style=\"color: #000080; text-decoration-color: #000080; font-weight: bold\">Calculation Result</span><span style=\"color: #000080; text-decoration-color: #000080\"> ───────────────────────────────────────────────╮</span>\n",
       "<span style=\"color: #000080; text-decoration-color: #000080\">│</span>                                                                                                                 <span style=\"color: #000080; text-decoration-color: #000080\">│</span>\n",
       "<span style=\"color: #000080; text-decoration-color: #000080\">│</span>  ╭───────────┬─────────────────────╮                                                                            <span style=\"color: #000080; text-decoration-color: #000080\">│</span>\n",
       "<span style=\"color: #000080; text-decoration-color: #000080\">│</span>  │<span style=\"color: #008080; text-decoration-color: #008080\"> Operation </span>│<span style=\"color: #008000; text-decoration-color: #008000\"> Evaluate Expression </span>│                                                                            <span style=\"color: #000080; text-decoration-color: #000080\">│</span>\n",
       "<span style=\"color: #000080; text-decoration-color: #000080\">│</span>  │<span style=\"color: #008080; text-decoration-color: #008080\"> Input     </span>│<span style=\"color: #008000; text-decoration-color: #008000\"> 2+2                 </span>│                                                                            <span style=\"color: #000080; text-decoration-color: #000080\">│</span>\n",
       "<span style=\"color: #000080; text-decoration-color: #000080\">│</span>  │<span style=\"color: #008080; text-decoration-color: #008080\"> Result    </span>│<span style=\"color: #008000; text-decoration-color: #008000\"> 4                   </span>│                                                                            <span style=\"color: #000080; text-decoration-color: #000080\">│</span>\n",
       "<span style=\"color: #000080; text-decoration-color: #000080\">│</span>  ╰───────────┴─────────────────────╯                                                                            <span style=\"color: #000080; text-decoration-color: #000080\">│</span>\n",
       "<span style=\"color: #000080; text-decoration-color: #000080\">│</span>                                                                                                                 <span style=\"color: #000080; text-decoration-color: #000080\">│</span>\n",
       "<span style=\"color: #000080; text-decoration-color: #000080\">╰─────────────────────────────────────────────────────────────────────────────────────────────────────────────────╯</span>\n",
       "</pre>\n"
      ],
      "text/plain": [
       "\u001b[34m╭─\u001b[0m\u001b[34m─────────────────────────────────────────────\u001b[0m\u001b[34m \u001b[0m\u001b[1;34mCalculation Result\u001b[0m\u001b[34m \u001b[0m\u001b[34m──────────────────────────────────────────────\u001b[0m\u001b[34m─╮\u001b[0m\n",
       "\u001b[34m│\u001b[0m                                                                                                                 \u001b[34m│\u001b[0m\n",
       "\u001b[34m│\u001b[0m  ╭───────────┬─────────────────────╮                                                                            \u001b[34m│\u001b[0m\n",
       "\u001b[34m│\u001b[0m  │\u001b[36m \u001b[0m\u001b[36mOperation\u001b[0m\u001b[36m \u001b[0m│\u001b[32m \u001b[0m\u001b[32mEvaluate Expression\u001b[0m\u001b[32m \u001b[0m│                                                                            \u001b[34m│\u001b[0m\n",
       "\u001b[34m│\u001b[0m  │\u001b[36m \u001b[0m\u001b[36mInput    \u001b[0m\u001b[36m \u001b[0m│\u001b[32m \u001b[0m\u001b[32m2+2                \u001b[0m\u001b[32m \u001b[0m│                                                                            \u001b[34m│\u001b[0m\n",
       "\u001b[34m│\u001b[0m  │\u001b[36m \u001b[0m\u001b[36mResult   \u001b[0m\u001b[36m \u001b[0m│\u001b[32m \u001b[0m\u001b[32m4                  \u001b[0m\u001b[32m \u001b[0m│                                                                            \u001b[34m│\u001b[0m\n",
       "\u001b[34m│\u001b[0m  ╰───────────┴─────────────────────╯                                                                            \u001b[34m│\u001b[0m\n",
       "\u001b[34m│\u001b[0m                                                                                                                 \u001b[34m│\u001b[0m\n",
       "\u001b[34m╰─────────────────────────────────────────────────────────────────────────────────────────────────────────────────╯\u001b[0m\n"
      ]
     },
     "metadata": {},
     "output_type": "display_data"
    },
    {
     "name": "stdout",
     "output_type": "stream",
     "text": [
      "{'message': {'role': 'user', 'content': [{'toolResult': {'status': 'success', 'content': [{'text': 'Result: 4'}], 'toolUseId': 'tooluse_Ktz3RyegQl2651Nl-itpJQ'}}]}}\n",
      "{'start': True}\n",
      "{'start': True}\n",
      "{'start_event_loop': True}\n",
      "{'event': {'messageStart': {'role': 'assistant'}}}\n",
      "{'event': {'contentBlockDelta': {'delta': {'text': 'The'}, 'contentBlockIndex': 0}}}\n",
      "{'data': 'The', 'delta': {'text': 'The'}, 'agent': <strands.agent.agent.Agent object at 0x000002EF3D175090>, 'event_loop_cycle_id': UUID('1e70e485-fda9-472b-a9ab-91271127234f'), 'request_state': {}, 'event_loop_cycle_trace': <strands.telemetry.metrics.Trace object at 0x000002EF3D921310>, 'event_loop_cycle_span': NonRecordingSpan(SpanContext(trace_id=0x00000000000000000000000000000000, span_id=0x0000000000000000, trace_flags=0x00, trace_state=[], is_remote=False)), 'model': <strands.models.bedrock.BedrockModel object at 0x000002EF3D176490>, 'system_prompt': None, 'messages': [{'role': 'user', 'content': [{'text': 'Calculate 2+2'}]}, {'role': 'assistant', 'content': [{'text': \"I'll calculate that expression for you using the calculator tool.\"}, {'toolUse': {'toolUseId': 'tooluse_Ktz3RyegQl2651Nl-itpJQ', 'name': 'calculator', 'input': {'expression': '2+2'}}}]}, {'role': 'user', 'content': [{'toolResult': {'status': 'success', 'content': [{'text': 'Result: 4'}], 'toolUseId': 'tooluse_Ktz3RyegQl2651Nl-itpJQ'}}]}], 'tool_config': {'tools': [{'toolSpec': {'name': 'calculator', 'description': 'Calculator powered by SymPy for comprehensive mathematical operations.\\n\\nThis tool provides advanced mathematical functionality through multiple operation modes,\\nincluding expression evaluation, equation solving, calculus operations (derivatives, integrals),\\nlimits, series expansions, and matrix operations. Results are formatted with appropriate\\nprecision and can be displayed in scientific notation when needed.\\n\\nHow It Works:\\n------------\\n1. The function parses the mathematical expression using SymPy\\'s parser\\n2. Based on the selected mode, it routes the expression to the appropriate handler\\n3. Variables and constants are substituted with their values when provided\\n4. The expression is evaluated symbolically and/or numerically as appropriate\\n5. Results are formatted based on precision preferences and value magnitude\\n6. Rich output is generated with operation details and formatted results\\n\\nOperation Modes:\\n--------------\\n- evaluate: Calculate the value of a mathematical expression\\n- solve: Find solutions to an equation or system of equations\\n- derive: Calculate derivatives of an expression\\n- integrate: Find the indefinite integral of an expression\\n- limit: Evaluate the limit of an expression at a point\\n- series: Generate series expansion of an expression\\n- matrix: Perform matrix operations\\n\\nCommon Usage Scenarios:\\n---------------------\\n- Basic calculations: Evaluating arithmetic expressions\\n- Equation solving: Finding roots of polynomials or systems of equations\\n- Calculus: Computing derivatives and integrals for analysis\\n- Engineering analysis: Working with scientific notations and constants\\n- Mathematics education: Visualizing step-by-step solutions\\n- Data science: Matrix operations and statistical calculations\\n\\nArgs:\\n    expression: The mathematical expression to evaluate, such as \"2 + 2 * 3\",\\n        \"x**2 + 2*x + 1\", or \"sin(pi/2)\". For matrix operations, use array\\n        notation like \"[[1, 2], [3, 4]]\".\\n    mode: The calculation mode to use. Options are:\\n        - \"evaluate\": Compute the value of the expression (default)\\n        - \"solve\": Solve an equation or system of equations\\n        - \"derive\": Calculate the derivative of an expression\\n        - \"integrate\": Find the indefinite integral of an expression\\n        - \"limit\": Calculate the limit of an expression at a point\\n        - \"series\": Generate a series expansion of an expression\\n        - \"matrix\": Perform matrix operations\\n    precision: Number of decimal places for the result (default: 10).\\n        Higher values provide more precise output but may impact performance.\\n    scientific: Whether to use scientific notation for numbers (default: False).\\n        When True, formats large and small numbers using scientific notation.\\n    force_numeric: Force numeric evaluation of symbolic expressions (default: False).\\n        When True, tries to convert symbolic results to numeric values.\\n    variables: Optional dictionary of variable names and their values to substitute\\n        in the expression, e.g., {\"a\": 1, \"b\": 2}.\\n    wrt: Variable to differentiate or integrate with respect to (required for\\n        \"derive\" and \"integrate\" modes).\\n    point: Point at which to evaluate a limit (required for \"limit\" mode).\\n        Use \"oo\" for infinity.\\n    order: Order of derivative or series expansion (optional for \"derive\" and\\n        \"series\" modes, default is 1 for derivatives and 5 for series).\\n\\nReturns:\\n    Dict containing status and response content in the format:\\n    {\\n        \"status\": \"success|error\",\\n        \"content\": [{\"text\": \"Result: <calculated_result>\"}]\\n    }\\n\\n    Success case: Returns the calculation result with appropriate formatting\\n    Error case: Returns information about what went wrong during calculation\\n\\nNotes:\\n    - For equation solving, set the expression equal to zero implicitly (x**2 + 1 means x**2 + 1 = 0)\\n    - Use \\'pi\\' and \\'e\\' for mathematical constants\\n    - The \\'wrt\\' parameter is required for differentiation and integration\\n    - Matrix expressions use Python-like syntax: [[1, 2], [3, 4]]\\n    - Precision control impacts display only, internal calculations use higher precision\\n    - Symbolic results are returned when possible unless force_numeric=True', 'inputSchema': {'json': {'properties': {'expression': {'description': 'The mathematical expression to evaluate, such as \"2 + 2 * 3\",\\n\"x**2 + 2*x + 1\", or \"sin(pi/2)\". For matrix operations, use array\\nnotation like \"[[1, 2], [3, 4]]\".', 'type': 'string'}, 'mode': {'default': None, 'description': 'The calculation mode to use. Options are:\\n- \"evaluate\": Compute the value of the expression (default)\\n- \"solve\": Solve an equation or system of equations\\n- \"derive\": Calculate the derivative of an expression\\n- \"integrate\": Find the indefinite integral of an expression\\n- \"limit\": Calculate the limit of an expression at a point\\n- \"series\": Generate a series expansion of an expression\\n- \"matrix\": Perform matrix operations', 'type': 'string'}, 'precision': {'default': None, 'description': 'Number of decimal places for the result (default: 10).\\nHigher values provide more precise output but may impact performance.', 'type': 'integer'}, 'scientific': {'default': None, 'description': 'Whether to use scientific notation for numbers (default: False).\\nWhen True, formats large and small numbers using scientific notation.', 'type': 'boolean'}, 'force_numeric': {'default': None, 'description': 'Force numeric evaluation of symbolic expressions (default: False).\\nWhen True, tries to convert symbolic results to numeric values.', 'type': 'boolean'}, 'variables': {'default': None, 'description': 'Optional dictionary of variable names and their values to substitute\\nin the expression, e.g., {\"a\": 1, \"b\": 2}.', 'type': 'object'}, 'wrt': {'default': None, 'description': 'Variable to differentiate or integrate with respect to (required for\\n\"derive\" and \"integrate\" modes).', 'type': 'string'}, 'point': {'default': None, 'description': 'Point at which to evaluate a limit (required for \"limit\" mode).\\nUse \"oo\" for infinity.', 'type': 'string'}, 'order': {'default': None, 'description': 'Order of derivative or series expansion (optional for \"derive\" and\\n\"series\" modes, default is 1 for derivatives and 5 for series).', 'type': 'integer'}}, 'required': ['expression'], 'type': 'object'}}}}], 'toolChoice': {'auto': {}}}, 'event_loop_parent_cycle_id': UUID('8f5043c4-1a7a-476f-a56b-67a45ee4e6f3')}\n",
      "{'event': {'contentBlockDelta': {'delta': {'text': ' calculation of 2+2'}, 'contentBlockIndex': 0}}}\n",
      "{'data': ' calculation of 2+2', 'delta': {'text': ' calculation of 2+2'}, 'agent': <strands.agent.agent.Agent object at 0x000002EF3D175090>, 'event_loop_cycle_id': UUID('1e70e485-fda9-472b-a9ab-91271127234f'), 'request_state': {}, 'event_loop_cycle_trace': <strands.telemetry.metrics.Trace object at 0x000002EF3D921310>, 'event_loop_cycle_span': NonRecordingSpan(SpanContext(trace_id=0x00000000000000000000000000000000, span_id=0x0000000000000000, trace_flags=0x00, trace_state=[], is_remote=False)), 'model': <strands.models.bedrock.BedrockModel object at 0x000002EF3D176490>, 'system_prompt': None, 'messages': [{'role': 'user', 'content': [{'text': 'Calculate 2+2'}]}, {'role': 'assistant', 'content': [{'text': \"I'll calculate that expression for you using the calculator tool.\"}, {'toolUse': {'toolUseId': 'tooluse_Ktz3RyegQl2651Nl-itpJQ', 'name': 'calculator', 'input': {'expression': '2+2'}}}]}, {'role': 'user', 'content': [{'toolResult': {'status': 'success', 'content': [{'text': 'Result: 4'}], 'toolUseId': 'tooluse_Ktz3RyegQl2651Nl-itpJQ'}}]}], 'tool_config': {'tools': [{'toolSpec': {'name': 'calculator', 'description': 'Calculator powered by SymPy for comprehensive mathematical operations.\\n\\nThis tool provides advanced mathematical functionality through multiple operation modes,\\nincluding expression evaluation, equation solving, calculus operations (derivatives, integrals),\\nlimits, series expansions, and matrix operations. Results are formatted with appropriate\\nprecision and can be displayed in scientific notation when needed.\\n\\nHow It Works:\\n------------\\n1. The function parses the mathematical expression using SymPy\\'s parser\\n2. Based on the selected mode, it routes the expression to the appropriate handler\\n3. Variables and constants are substituted with their values when provided\\n4. The expression is evaluated symbolically and/or numerically as appropriate\\n5. Results are formatted based on precision preferences and value magnitude\\n6. Rich output is generated with operation details and formatted results\\n\\nOperation Modes:\\n--------------\\n- evaluate: Calculate the value of a mathematical expression\\n- solve: Find solutions to an equation or system of equations\\n- derive: Calculate derivatives of an expression\\n- integrate: Find the indefinite integral of an expression\\n- limit: Evaluate the limit of an expression at a point\\n- series: Generate series expansion of an expression\\n- matrix: Perform matrix operations\\n\\nCommon Usage Scenarios:\\n---------------------\\n- Basic calculations: Evaluating arithmetic expressions\\n- Equation solving: Finding roots of polynomials or systems of equations\\n- Calculus: Computing derivatives and integrals for analysis\\n- Engineering analysis: Working with scientific notations and constants\\n- Mathematics education: Visualizing step-by-step solutions\\n- Data science: Matrix operations and statistical calculations\\n\\nArgs:\\n    expression: The mathematical expression to evaluate, such as \"2 + 2 * 3\",\\n        \"x**2 + 2*x + 1\", or \"sin(pi/2)\". For matrix operations, use array\\n        notation like \"[[1, 2], [3, 4]]\".\\n    mode: The calculation mode to use. Options are:\\n        - \"evaluate\": Compute the value of the expression (default)\\n        - \"solve\": Solve an equation or system of equations\\n        - \"derive\": Calculate the derivative of an expression\\n        - \"integrate\": Find the indefinite integral of an expression\\n        - \"limit\": Calculate the limit of an expression at a point\\n        - \"series\": Generate a series expansion of an expression\\n        - \"matrix\": Perform matrix operations\\n    precision: Number of decimal places for the result (default: 10).\\n        Higher values provide more precise output but may impact performance.\\n    scientific: Whether to use scientific notation for numbers (default: False).\\n        When True, formats large and small numbers using scientific notation.\\n    force_numeric: Force numeric evaluation of symbolic expressions (default: False).\\n        When True, tries to convert symbolic results to numeric values.\\n    variables: Optional dictionary of variable names and their values to substitute\\n        in the expression, e.g., {\"a\": 1, \"b\": 2}.\\n    wrt: Variable to differentiate or integrate with respect to (required for\\n        \"derive\" and \"integrate\" modes).\\n    point: Point at which to evaluate a limit (required for \"limit\" mode).\\n        Use \"oo\" for infinity.\\n    order: Order of derivative or series expansion (optional for \"derive\" and\\n        \"series\" modes, default is 1 for derivatives and 5 for series).\\n\\nReturns:\\n    Dict containing status and response content in the format:\\n    {\\n        \"status\": \"success|error\",\\n        \"content\": [{\"text\": \"Result: <calculated_result>\"}]\\n    }\\n\\n    Success case: Returns the calculation result with appropriate formatting\\n    Error case: Returns information about what went wrong during calculation\\n\\nNotes:\\n    - For equation solving, set the expression equal to zero implicitly (x**2 + 1 means x**2 + 1 = 0)\\n    - Use \\'pi\\' and \\'e\\' for mathematical constants\\n    - The \\'wrt\\' parameter is required for differentiation and integration\\n    - Matrix expressions use Python-like syntax: [[1, 2], [3, 4]]\\n    - Precision control impacts display only, internal calculations use higher precision\\n    - Symbolic results are returned when possible unless force_numeric=True', 'inputSchema': {'json': {'properties': {'expression': {'description': 'The mathematical expression to evaluate, such as \"2 + 2 * 3\",\\n\"x**2 + 2*x + 1\", or \"sin(pi/2)\". For matrix operations, use array\\nnotation like \"[[1, 2], [3, 4]]\".', 'type': 'string'}, 'mode': {'default': None, 'description': 'The calculation mode to use. Options are:\\n- \"evaluate\": Compute the value of the expression (default)\\n- \"solve\": Solve an equation or system of equations\\n- \"derive\": Calculate the derivative of an expression\\n- \"integrate\": Find the indefinite integral of an expression\\n- \"limit\": Calculate the limit of an expression at a point\\n- \"series\": Generate a series expansion of an expression\\n- \"matrix\": Perform matrix operations', 'type': 'string'}, 'precision': {'default': None, 'description': 'Number of decimal places for the result (default: 10).\\nHigher values provide more precise output but may impact performance.', 'type': 'integer'}, 'scientific': {'default': None, 'description': 'Whether to use scientific notation for numbers (default: False).\\nWhen True, formats large and small numbers using scientific notation.', 'type': 'boolean'}, 'force_numeric': {'default': None, 'description': 'Force numeric evaluation of symbolic expressions (default: False).\\nWhen True, tries to convert symbolic results to numeric values.', 'type': 'boolean'}, 'variables': {'default': None, 'description': 'Optional dictionary of variable names and their values to substitute\\nin the expression, e.g., {\"a\": 1, \"b\": 2}.', 'type': 'object'}, 'wrt': {'default': None, 'description': 'Variable to differentiate or integrate with respect to (required for\\n\"derive\" and \"integrate\" modes).', 'type': 'string'}, 'point': {'default': None, 'description': 'Point at which to evaluate a limit (required for \"limit\" mode).\\nUse \"oo\" for infinity.', 'type': 'string'}, 'order': {'default': None, 'description': 'Order of derivative or series expansion (optional for \"derive\" and\\n\"series\" modes, default is 1 for derivatives and 5 for series).', 'type': 'integer'}}, 'required': ['expression'], 'type': 'object'}}}}], 'toolChoice': {'auto': {}}}, 'event_loop_parent_cycle_id': UUID('8f5043c4-1a7a-476f-a56b-67a45ee4e6f3')}\n",
      "{'event': {'contentBlockDelta': {'delta': {'text': ' equals 4.'}, 'contentBlockIndex': 0}}}\n",
      "{'data': ' equals 4.', 'delta': {'text': ' equals 4.'}, 'agent': <strands.agent.agent.Agent object at 0x000002EF3D175090>, 'event_loop_cycle_id': UUID('1e70e485-fda9-472b-a9ab-91271127234f'), 'request_state': {}, 'event_loop_cycle_trace': <strands.telemetry.metrics.Trace object at 0x000002EF3D921310>, 'event_loop_cycle_span': NonRecordingSpan(SpanContext(trace_id=0x00000000000000000000000000000000, span_id=0x0000000000000000, trace_flags=0x00, trace_state=[], is_remote=False)), 'model': <strands.models.bedrock.BedrockModel object at 0x000002EF3D176490>, 'system_prompt': None, 'messages': [{'role': 'user', 'content': [{'text': 'Calculate 2+2'}]}, {'role': 'assistant', 'content': [{'text': \"I'll calculate that expression for you using the calculator tool.\"}, {'toolUse': {'toolUseId': 'tooluse_Ktz3RyegQl2651Nl-itpJQ', 'name': 'calculator', 'input': {'expression': '2+2'}}}]}, {'role': 'user', 'content': [{'toolResult': {'status': 'success', 'content': [{'text': 'Result: 4'}], 'toolUseId': 'tooluse_Ktz3RyegQl2651Nl-itpJQ'}}]}], 'tool_config': {'tools': [{'toolSpec': {'name': 'calculator', 'description': 'Calculator powered by SymPy for comprehensive mathematical operations.\\n\\nThis tool provides advanced mathematical functionality through multiple operation modes,\\nincluding expression evaluation, equation solving, calculus operations (derivatives, integrals),\\nlimits, series expansions, and matrix operations. Results are formatted with appropriate\\nprecision and can be displayed in scientific notation when needed.\\n\\nHow It Works:\\n------------\\n1. The function parses the mathematical expression using SymPy\\'s parser\\n2. Based on the selected mode, it routes the expression to the appropriate handler\\n3. Variables and constants are substituted with their values when provided\\n4. The expression is evaluated symbolically and/or numerically as appropriate\\n5. Results are formatted based on precision preferences and value magnitude\\n6. Rich output is generated with operation details and formatted results\\n\\nOperation Modes:\\n--------------\\n- evaluate: Calculate the value of a mathematical expression\\n- solve: Find solutions to an equation or system of equations\\n- derive: Calculate derivatives of an expression\\n- integrate: Find the indefinite integral of an expression\\n- limit: Evaluate the limit of an expression at a point\\n- series: Generate series expansion of an expression\\n- matrix: Perform matrix operations\\n\\nCommon Usage Scenarios:\\n---------------------\\n- Basic calculations: Evaluating arithmetic expressions\\n- Equation solving: Finding roots of polynomials or systems of equations\\n- Calculus: Computing derivatives and integrals for analysis\\n- Engineering analysis: Working with scientific notations and constants\\n- Mathematics education: Visualizing step-by-step solutions\\n- Data science: Matrix operations and statistical calculations\\n\\nArgs:\\n    expression: The mathematical expression to evaluate, such as \"2 + 2 * 3\",\\n        \"x**2 + 2*x + 1\", or \"sin(pi/2)\". For matrix operations, use array\\n        notation like \"[[1, 2], [3, 4]]\".\\n    mode: The calculation mode to use. Options are:\\n        - \"evaluate\": Compute the value of the expression (default)\\n        - \"solve\": Solve an equation or system of equations\\n        - \"derive\": Calculate the derivative of an expression\\n        - \"integrate\": Find the indefinite integral of an expression\\n        - \"limit\": Calculate the limit of an expression at a point\\n        - \"series\": Generate a series expansion of an expression\\n        - \"matrix\": Perform matrix operations\\n    precision: Number of decimal places for the result (default: 10).\\n        Higher values provide more precise output but may impact performance.\\n    scientific: Whether to use scientific notation for numbers (default: False).\\n        When True, formats large and small numbers using scientific notation.\\n    force_numeric: Force numeric evaluation of symbolic expressions (default: False).\\n        When True, tries to convert symbolic results to numeric values.\\n    variables: Optional dictionary of variable names and their values to substitute\\n        in the expression, e.g., {\"a\": 1, \"b\": 2}.\\n    wrt: Variable to differentiate or integrate with respect to (required for\\n        \"derive\" and \"integrate\" modes).\\n    point: Point at which to evaluate a limit (required for \"limit\" mode).\\n        Use \"oo\" for infinity.\\n    order: Order of derivative or series expansion (optional for \"derive\" and\\n        \"series\" modes, default is 1 for derivatives and 5 for series).\\n\\nReturns:\\n    Dict containing status and response content in the format:\\n    {\\n        \"status\": \"success|error\",\\n        \"content\": [{\"text\": \"Result: <calculated_result>\"}]\\n    }\\n\\n    Success case: Returns the calculation result with appropriate formatting\\n    Error case: Returns information about what went wrong during calculation\\n\\nNotes:\\n    - For equation solving, set the expression equal to zero implicitly (x**2 + 1 means x**2 + 1 = 0)\\n    - Use \\'pi\\' and \\'e\\' for mathematical constants\\n    - The \\'wrt\\' parameter is required for differentiation and integration\\n    - Matrix expressions use Python-like syntax: [[1, 2], [3, 4]]\\n    - Precision control impacts display only, internal calculations use higher precision\\n    - Symbolic results are returned when possible unless force_numeric=True', 'inputSchema': {'json': {'properties': {'expression': {'description': 'The mathematical expression to evaluate, such as \"2 + 2 * 3\",\\n\"x**2 + 2*x + 1\", or \"sin(pi/2)\". For matrix operations, use array\\nnotation like \"[[1, 2], [3, 4]]\".', 'type': 'string'}, 'mode': {'default': None, 'description': 'The calculation mode to use. Options are:\\n- \"evaluate\": Compute the value of the expression (default)\\n- \"solve\": Solve an equation or system of equations\\n- \"derive\": Calculate the derivative of an expression\\n- \"integrate\": Find the indefinite integral of an expression\\n- \"limit\": Calculate the limit of an expression at a point\\n- \"series\": Generate a series expansion of an expression\\n- \"matrix\": Perform matrix operations', 'type': 'string'}, 'precision': {'default': None, 'description': 'Number of decimal places for the result (default: 10).\\nHigher values provide more precise output but may impact performance.', 'type': 'integer'}, 'scientific': {'default': None, 'description': 'Whether to use scientific notation for numbers (default: False).\\nWhen True, formats large and small numbers using scientific notation.', 'type': 'boolean'}, 'force_numeric': {'default': None, 'description': 'Force numeric evaluation of symbolic expressions (default: False).\\nWhen True, tries to convert symbolic results to numeric values.', 'type': 'boolean'}, 'variables': {'default': None, 'description': 'Optional dictionary of variable names and their values to substitute\\nin the expression, e.g., {\"a\": 1, \"b\": 2}.', 'type': 'object'}, 'wrt': {'default': None, 'description': 'Variable to differentiate or integrate with respect to (required for\\n\"derive\" and \"integrate\" modes).', 'type': 'string'}, 'point': {'default': None, 'description': 'Point at which to evaluate a limit (required for \"limit\" mode).\\nUse \"oo\" for infinity.', 'type': 'string'}, 'order': {'default': None, 'description': 'Order of derivative or series expansion (optional for \"derive\" and\\n\"series\" modes, default is 1 for derivatives and 5 for series).', 'type': 'integer'}}, 'required': ['expression'], 'type': 'object'}}}}], 'toolChoice': {'auto': {}}}, 'event_loop_parent_cycle_id': UUID('8f5043c4-1a7a-476f-a56b-67a45ee4e6f3')}\n",
      "{'event': {'contentBlockStop': {'contentBlockIndex': 0}}}\n",
      "{'event': {'messageStop': {'stopReason': 'end_turn'}}}\n",
      "{'event': {'metadata': {'usage': {'inputTokens': 2028, 'outputTokens': 16, 'totalTokens': 2044}, 'metrics': {'latencyMs': 1369}}}}\n",
      "{'message': {'role': 'assistant', 'content': [{'text': 'The calculation of 2+2 equals 4.'}]}}\n",
      "{'result': AgentResult(stop_reason='end_turn', message={'role': 'assistant', 'content': [{'text': 'The calculation of 2+2 equals 4.'}]}, metrics=EventLoopMetrics(cycle_count=2, tool_metrics={'calculator': ToolMetrics(tool={'toolUseId': 'tooluse_Ktz3RyegQl2651Nl-itpJQ', 'name': 'calculator', 'input': {'expression': '2+2'}}, call_count=1, success_count=1, error_count=0, total_time=0.004817962646484375)}, cycle_durations=[1.395965814590454], traces=[<strands.telemetry.metrics.Trace object at 0x000002EF3D18E140>, <strands.telemetry.metrics.Trace object at 0x000002EF3D921310>], accumulated_usage={'inputTokens': 3975, 'outputTokens': 82, 'totalTokens': 4057}, accumulated_metrics={'latencyMs': 3570}), state={})}\n"
     ]
    }
   ],
   "source": [
    "# Initialize our agent without a callback handler\n",
    "agent = Agent(\n",
    "    model=\"apac.anthropic.claude-3-7-sonnet-20250219-v1:0\",  # Optional: Specify the model ID\n",
    "    tools=[calculator], \n",
    "    callback_handler=None)\n",
    "\n",
    "# Async function that iterators over streamed agent events\n",
    "\n",
    "\n",
    "async def process_streaming_response():\n",
    "    agent_stream = agent.stream_async(\"Calculate 2+2\")\n",
    "    async for event in agent_stream:\n",
    "        print(event)\n",
    "\n",
    "\n",
    "# Run the agent\n",
    "asyncio.run(process_streaming_response())"
   ]
  },
  {
   "cell_type": "markdown",
   "metadata": {},
   "source": [
    "###  Tracking event loop lifecycle"
   ]
  },
  {
   "cell_type": "markdown",
   "metadata": {},
   "source": [
    "This example illustrates the event loop lifecycle and how events relate to each other. It's useful for understanding the flow of execution in the Strands Agent:\n",
    "\n",
    "Let's create some printing format code to better analyse the agent stream events. We will continue to use the same agent for it"
   ]
  },
  {
   "cell_type": "code",
   "execution_count": 6,
   "metadata": {
    "collapsed": false,
    "jupyter": {
     "outputs_hidden": false
    },
    "pycharm": {
     "name": "#%%\n"
    }
   },
   "outputs": [
    {
     "name": "stdout",
     "output_type": "stream",
     "text": [
      "🔄 Event loop initialized\n",
      "📝 New cycle started\n",
      "▶️ Event loop cycle starting\n",
      "📟 Text: I\n",
      "📟 Text: 'll answer both part...\n",
      "📟 Text:  For the calculation...\n",
      "📟 Text:  calculator tool.\n",
      "📟 Text: \n",
      "\n",
      "The capital of Fra...\n",
      "📟 Text:  Paris.\n",
      "\n",
      "Now\n",
      "📟 Text:  let's calculate 42\n",
      "📟 Text: +7:\n",
      "🔧 Using tool: calculator\n",
      "🔧 Using tool: calculator\n",
      "🔧 Using tool: calculator\n",
      "🔧 Using tool: calculator\n",
      "🔧 Using tool: calculator\n",
      "📬 New message created: assistant\n"
     ]
    },
    {
     "data": {
      "text/html": [
       "<pre style=\"white-space:pre;overflow-x:auto;line-height:normal;font-family:Menlo,'DejaVu Sans Mono',consolas,'Courier New',monospace\"><span style=\"color: #000080; text-decoration-color: #000080\">╭────────────────────────────────────────────── </span><span style=\"color: #000080; text-decoration-color: #000080; font-weight: bold\">Calculation Result</span><span style=\"color: #000080; text-decoration-color: #000080\"> ───────────────────────────────────────────────╮</span>\n",
       "<span style=\"color: #000080; text-decoration-color: #000080\">│</span>                                                                                                                 <span style=\"color: #000080; text-decoration-color: #000080\">│</span>\n",
       "<span style=\"color: #000080; text-decoration-color: #000080\">│</span>  ╭───────────┬─────────────────────╮                                                                            <span style=\"color: #000080; text-decoration-color: #000080\">│</span>\n",
       "<span style=\"color: #000080; text-decoration-color: #000080\">│</span>  │<span style=\"color: #008080; text-decoration-color: #008080\"> Operation </span>│<span style=\"color: #008000; text-decoration-color: #008000\"> Evaluate Expression </span>│                                                                            <span style=\"color: #000080; text-decoration-color: #000080\">│</span>\n",
       "<span style=\"color: #000080; text-decoration-color: #000080\">│</span>  │<span style=\"color: #008080; text-decoration-color: #008080\"> Input     </span>│<span style=\"color: #008000; text-decoration-color: #008000\"> 42+7                </span>│                                                                            <span style=\"color: #000080; text-decoration-color: #000080\">│</span>\n",
       "<span style=\"color: #000080; text-decoration-color: #000080\">│</span>  │<span style=\"color: #008080; text-decoration-color: #008080\"> Result    </span>│<span style=\"color: #008000; text-decoration-color: #008000\"> 49                  </span>│                                                                            <span style=\"color: #000080; text-decoration-color: #000080\">│</span>\n",
       "<span style=\"color: #000080; text-decoration-color: #000080\">│</span>  ╰───────────┴─────────────────────╯                                                                            <span style=\"color: #000080; text-decoration-color: #000080\">│</span>\n",
       "<span style=\"color: #000080; text-decoration-color: #000080\">│</span>                                                                                                                 <span style=\"color: #000080; text-decoration-color: #000080\">│</span>\n",
       "<span style=\"color: #000080; text-decoration-color: #000080\">╰─────────────────────────────────────────────────────────────────────────────────────────────────────────────────╯</span>\n",
       "</pre>\n"
      ],
      "text/plain": [
       "\u001b[34m╭─\u001b[0m\u001b[34m─────────────────────────────────────────────\u001b[0m\u001b[34m \u001b[0m\u001b[1;34mCalculation Result\u001b[0m\u001b[34m \u001b[0m\u001b[34m──────────────────────────────────────────────\u001b[0m\u001b[34m─╮\u001b[0m\n",
       "\u001b[34m│\u001b[0m                                                                                                                 \u001b[34m│\u001b[0m\n",
       "\u001b[34m│\u001b[0m  ╭───────────┬─────────────────────╮                                                                            \u001b[34m│\u001b[0m\n",
       "\u001b[34m│\u001b[0m  │\u001b[36m \u001b[0m\u001b[36mOperation\u001b[0m\u001b[36m \u001b[0m│\u001b[32m \u001b[0m\u001b[32mEvaluate Expression\u001b[0m\u001b[32m \u001b[0m│                                                                            \u001b[34m│\u001b[0m\n",
       "\u001b[34m│\u001b[0m  │\u001b[36m \u001b[0m\u001b[36mInput    \u001b[0m\u001b[36m \u001b[0m│\u001b[32m \u001b[0m\u001b[32m42+7               \u001b[0m\u001b[32m \u001b[0m│                                                                            \u001b[34m│\u001b[0m\n",
       "\u001b[34m│\u001b[0m  │\u001b[36m \u001b[0m\u001b[36mResult   \u001b[0m\u001b[36m \u001b[0m│\u001b[32m \u001b[0m\u001b[32m49                 \u001b[0m\u001b[32m \u001b[0m│                                                                            \u001b[34m│\u001b[0m\n",
       "\u001b[34m│\u001b[0m  ╰───────────┴─────────────────────╯                                                                            \u001b[34m│\u001b[0m\n",
       "\u001b[34m│\u001b[0m                                                                                                                 \u001b[34m│\u001b[0m\n",
       "\u001b[34m╰─────────────────────────────────────────────────────────────────────────────────────────────────────────────────╯\u001b[0m\n"
      ]
     },
     "metadata": {},
     "output_type": "display_data"
    },
    {
     "name": "stdout",
     "output_type": "stream",
     "text": [
      "📬 New message created: user\n",
      "📝 New cycle started\n",
      "📝 New cycle started\n",
      "▶️ Event loop cycle starting\n",
      "📟 Text: So the capital\n",
      "📟 Text:  of France is Paris\n",
      "📟 Text: , and 42\n",
      "📟 Text: +7 equals\n",
      "📟 Text:  49.\n",
      "📬 New message created: assistant\n"
     ]
    },
    {
     "data": {
      "text/plain": [
       "AgentResult(stop_reason='end_turn', message={'role': 'assistant', 'content': [{'text': 'So the capital of France is Paris, and 42+7 equals 49.'}]}, metrics=EventLoopMetrics(cycle_count=4, tool_metrics={'calculator': ToolMetrics(tool={'toolUseId': 'tooluse_E9sa3CT6R-6aVVvSRQcZvA', 'name': 'calculator', 'input': {'expression': '42+7'}}, call_count=2, success_count=2, error_count=0, total_time=0.013793230056762695)}, cycle_durations=[1.395965814590454, 1.4852395057678223], traces=[<strands.telemetry.metrics.Trace object at 0x000002EF3D18E140>, <strands.telemetry.metrics.Trace object at 0x000002EF3D921310>, <strands.telemetry.metrics.Trace object at 0x000002EF3D0DB070>, <strands.telemetry.metrics.Trace object at 0x000002EF3D0E1790>], accumulated_usage={'inputTokens': 8204, 'outputTokens': 196, 'totalTokens': 8400}, accumulated_metrics={'latencyMs': 7484}), state={})"
      ]
     },
     "execution_count": 6,
     "metadata": {},
     "output_type": "execute_result"
    }
   ],
   "source": [
    "# Async function that iterators over streamed agent events\n",
    "\n",
    "\n",
    "async def process_streaming_response():\n",
    "    agent_stream = agent.stream_async(\"What is the capital of France and what is 42+7?\")\n",
    "    async for event in agent_stream:\n",
    "        # Track event loop lifecycle\n",
    "        if event.get(\"init_event_loop\", False):\n",
    "            print(\"🔄 Event loop initialized\")\n",
    "        elif event.get(\"start_event_loop\", False):\n",
    "            print(\"▶️ Event loop cycle starting\")\n",
    "        elif event.get(\"start\", False):\n",
    "            print(\"📝 New cycle started\")\n",
    "        elif \"message\" in event:\n",
    "            print(f\"📬 New message created: {event['message']['role']}\")\n",
    "        elif event.get(\"force_stop\", False):\n",
    "            print(\n",
    "                f\"🛑 Event loop force-stopped: {event.get('force_stop_reason', 'unknown reason')}\"\n",
    "            )\n",
    "\n",
    "        # Track tool usage\n",
    "        if \"current_tool_use\" in event and event[\"current_tool_use\"].get(\"name\"):\n",
    "            tool_name = event[\"current_tool_use\"][\"name\"]\n",
    "            print(f\"🔧 Using tool: {tool_name}\")\n",
    "\n",
    "        # Show only a snippet of text to keep output clean\n",
    "        if \"data\" in event:\n",
    "            # Only show first 20 chars of each chunk for demo purposes\n",
    "            data_snippet = event[\"data\"][:20] + (\n",
    "                \"...\" if len(event[\"data\"]) > 20 else \"\"\n",
    "            )\n",
    "            print(f\"📟 Text: {data_snippet}\")\n",
    "\n",
    "    return event[\"result\"]\n",
    "\n",
    "\n",
    "# Run the agent\n",
    "asyncio.run(process_streaming_response())"
   ]
  },
  {
   "cell_type": "markdown",
   "metadata": {},
   "source": [
    "### FastAPI Integration\n",
    "\n",
    "You can also integrate your `stream_async` with FastAPI to create a streaming endpoint to your applications. For this, we will add a `weather_forecast` tool to our agent. The architecture update looks as following\n",
    "\n",
    "<div style=\"text-align:left;\">\n",
    "    <img src=\"images/architecture_2.png\" width=\"65%\" />\n",
    "</div>"
   ]
  },
  {
   "cell_type": "code",
   "execution_count": 8,
   "metadata": {},
   "outputs": [
    {
     "name": "stdout",
     "output_type": "stream",
     "text": [
      "✅ Server is running at http://0.0.0.0:8001\n"
     ]
    }
   ],
   "source": [
    "# Tool definition\n",
    "\n",
    "\n",
    "@tool\n",
    "def weather_forecast(city: str, days: int = 3) -> str:\n",
    "    return f\"Weather forecast for {city} for the next {days} days...\"\n",
    "\n",
    "\n",
    "# FastAPI app\n",
    "app = FastAPI()\n",
    "\n",
    "\n",
    "class PromptRequest(BaseModel):\n",
    "    prompt: str\n",
    "\n",
    "\n",
    "@app.post(\"/stream\")\n",
    "async def stream_response(request: PromptRequest):\n",
    "    async def generate():\n",
    "\n",
    "        agent = Agent(\n",
    "            model=\"apac.anthropic.claude-3-7-sonnet-20250219-v1:0\",\n",
    "            tools=[calculator, weather_forecast], \n",
    "            callback_handler=None)\n",
    "        \n",
    "        try:\n",
    "            async for event in agent.stream_async(request.prompt):\n",
    "                if \"data\" in event:\n",
    "                    yield event[\"data\"]\n",
    "\n",
    "        except Exception as e:\n",
    "            yield f\"Error: {str(e)}\"\n",
    "\n",
    "    return StreamingResponse(generate(), media_type=\"text/plain\")\n",
    "\n",
    "\n",
    "# Function to start server without blocking\n",
    "\n",
    "\n",
    "async def start_server():\n",
    "    config = uvicorn.Config(app, host=\"0.0.0.0\", port=8001, log_level=\"info\")\n",
    "    server = uvicorn.Server(config)\n",
    "    await server.serve()\n",
    "\n",
    "\n",
    "# Run server as background task\n",
    "if \"server_task\" not in globals():\n",
    "    server_task = asyncio.create_task(start_server())\n",
    "    await asyncio.sleep(0.1)  # Give server time to start\n",
    "\n",
    "print(\"✅ Server is running at http://0.0.0.0:8001\")"
   ]
  },
  {
   "cell_type": "markdown",
   "metadata": {},
   "source": [
    "#### Invoking the FastAPI agent\n",
    "And we can now invoke the agent with a prompt "
   ]
  },
  {
   "cell_type": "code",
   "execution_count": 9,
   "metadata": {},
   "outputs": [
    {
     "name": "stdout",
     "output_type": "stream",
     "text": [
      "Received: I'll check the current weather forecast for New York City for you.Here is the weather forecast for New York City (NYC) for the next 3 days. The forecast includes temperature, precipitation chances, and general weather conditions for each day. Let me know if you'd like information about a different timeframe or another city!\n"
     ]
    }
   ],
   "source": [
    "async def fetch_stream():\n",
    "    async with httpx.AsyncClient() as client:\n",
    "        async with client.stream(\n",
    "            \"POST\",\n",
    "            \"http://localhost:8001/stream\",\n",
    "            json={\"prompt\": \"What is weather in NYC?\"},\n",
    "        ) as response:\n",
    "            async for line in response.aiter_lines():\n",
    "                if line.strip():  # Skip empty lines\n",
    "                    print(\"Received:\", line)\n",
    "\n",
    "\n",
    "await fetch_stream()"
   ]
  },
  {
   "cell_type": "markdown",
   "metadata": {},
   "source": [
    "## Method 2 - Callback Handlers for streaming"
   ]
  },
  {
   "cell_type": "markdown",
   "metadata": {},
   "source": [
    "Callback handlers are a powerful feature of the Strands Agents that allow you to intercept and process events as they happen during agent execution. This enables real-time monitoring, custom output formatting, and integration with external systems.\n",
    "\n"
   ]
  },
  {
   "cell_type": "markdown",
   "metadata": {},
   "source": [
    "Callback handlers receive events in real-time as they occur during an agent's lifecycle:\n",
    "\n",
    "- Text generation from the model\n",
    "- Tool selection and execution\n",
    "- Reasoning process\n",
    "- Errors and completions\n",
    "\n",
    "\n",
    "Let's now create a custom callback handler function that formats the event inputs to highlight tool usage and model output. To do so, we will again use the agent with a calculator tool only\n",
    "\n",
    "<div style=\"text-align:left;\">\n",
    "    <img src=\"images/architecture.png\" width=\"65%\" />\n",
    "</div>"
   ]
  },
  {
   "cell_type": "code",
   "execution_count": 11,
   "metadata": {},
   "outputs": [
    {
     "name": "stdout",
     "output_type": "stream",
     "text": [
      "MODEL OUTPUT: I\n",
      "MODEL OUTPUT: 'll calculate that for you using the\n",
      "MODEL OUTPUT:  calculator tool.\n",
      "\n",
      "USING TOOL: calculator\n",
      "\n",
      "USING TOOL: calculator\n",
      "\n",
      "USING TOOL: calculator\n",
      "\n",
      "USING TOOL: calculator\n"
     ]
    },
    {
     "data": {
      "text/html": [
       "<pre style=\"white-space:pre;overflow-x:auto;line-height:normal;font-family:Menlo,'DejaVu Sans Mono',consolas,'Courier New',monospace\"><span style=\"color: #000080; text-decoration-color: #000080\">╭────────────────────────────────────────────── </span><span style=\"color: #000080; text-decoration-color: #000080; font-weight: bold\">Calculation Result</span><span style=\"color: #000080; text-decoration-color: #000080\"> ───────────────────────────────────────────────╮</span>\n",
       "<span style=\"color: #000080; text-decoration-color: #000080\">│</span>                                                                                                                 <span style=\"color: #000080; text-decoration-color: #000080\">│</span>\n",
       "<span style=\"color: #000080; text-decoration-color: #000080\">│</span>  ╭───────────┬─────────────────────╮                                                                            <span style=\"color: #000080; text-decoration-color: #000080\">│</span>\n",
       "<span style=\"color: #000080; text-decoration-color: #000080\">│</span>  │<span style=\"color: #008080; text-decoration-color: #008080\"> Operation </span>│<span style=\"color: #008000; text-decoration-color: #008000\"> Evaluate Expression </span>│                                                                            <span style=\"color: #000080; text-decoration-color: #000080\">│</span>\n",
       "<span style=\"color: #000080; text-decoration-color: #000080\">│</span>  │<span style=\"color: #008080; text-decoration-color: #008080\"> Input     </span>│<span style=\"color: #008000; text-decoration-color: #008000\"> 2+2                 </span>│                                                                            <span style=\"color: #000080; text-decoration-color: #000080\">│</span>\n",
       "<span style=\"color: #000080; text-decoration-color: #000080\">│</span>  │<span style=\"color: #008080; text-decoration-color: #008080\"> Result    </span>│<span style=\"color: #008000; text-decoration-color: #008000\"> 4                   </span>│                                                                            <span style=\"color: #000080; text-decoration-color: #000080\">│</span>\n",
       "<span style=\"color: #000080; text-decoration-color: #000080\">│</span>  ╰───────────┴─────────────────────╯                                                                            <span style=\"color: #000080; text-decoration-color: #000080\">│</span>\n",
       "<span style=\"color: #000080; text-decoration-color: #000080\">│</span>                                                                                                                 <span style=\"color: #000080; text-decoration-color: #000080\">│</span>\n",
       "<span style=\"color: #000080; text-decoration-color: #000080\">╰─────────────────────────────────────────────────────────────────────────────────────────────────────────────────╯</span>\n",
       "</pre>\n"
      ],
      "text/plain": [
       "\u001b[34m╭─\u001b[0m\u001b[34m─────────────────────────────────────────────\u001b[0m\u001b[34m \u001b[0m\u001b[1;34mCalculation Result\u001b[0m\u001b[34m \u001b[0m\u001b[34m──────────────────────────────────────────────\u001b[0m\u001b[34m─╮\u001b[0m\n",
       "\u001b[34m│\u001b[0m                                                                                                                 \u001b[34m│\u001b[0m\n",
       "\u001b[34m│\u001b[0m  ╭───────────┬─────────────────────╮                                                                            \u001b[34m│\u001b[0m\n",
       "\u001b[34m│\u001b[0m  │\u001b[36m \u001b[0m\u001b[36mOperation\u001b[0m\u001b[36m \u001b[0m│\u001b[32m \u001b[0m\u001b[32mEvaluate Expression\u001b[0m\u001b[32m \u001b[0m│                                                                            \u001b[34m│\u001b[0m\n",
       "\u001b[34m│\u001b[0m  │\u001b[36m \u001b[0m\u001b[36mInput    \u001b[0m\u001b[36m \u001b[0m│\u001b[32m \u001b[0m\u001b[32m2+2                \u001b[0m\u001b[32m \u001b[0m│                                                                            \u001b[34m│\u001b[0m\n",
       "\u001b[34m│\u001b[0m  │\u001b[36m \u001b[0m\u001b[36mResult   \u001b[0m\u001b[36m \u001b[0m│\u001b[32m \u001b[0m\u001b[32m4                  \u001b[0m\u001b[32m \u001b[0m│                                                                            \u001b[34m│\u001b[0m\n",
       "\u001b[34m│\u001b[0m  ╰───────────┴─────────────────────╯                                                                            \u001b[34m│\u001b[0m\n",
       "\u001b[34m│\u001b[0m                                                                                                                 \u001b[34m│\u001b[0m\n",
       "\u001b[34m╰─────────────────────────────────────────────────────────────────────────────────────────────────────────────────╯\u001b[0m\n"
      ]
     },
     "metadata": {},
     "output_type": "display_data"
    },
    {
     "name": "stdout",
     "output_type": "stream",
     "text": [
      "MODEL OUTPUT: The result\n",
      "MODEL OUTPUT:  of 2+2\n",
      "MODEL OUTPUT:  is 4\n",
      "MODEL OUTPUT: .\n"
     ]
    },
    {
     "data": {
      "text/plain": [
       "AgentResult(stop_reason='end_turn', message={'role': 'assistant', 'content': [{'text': 'The result of 2+2 is 4.'}]}, metrics=EventLoopMetrics(cycle_count=2, tool_metrics={'calculator': ToolMetrics(tool={'toolUseId': 'tooluse_tYAl-HIlRaOYxXAiIK4aoQ', 'name': 'calculator', 'input': {'expression': '2+2'}}, call_count=1, success_count=1, error_count=0, total_time=0.007230043411254883)}, cycle_durations=[1.5697722434997559], traces=[<strands.telemetry.metrics.Trace object at 0x000002EF3EB61D10>, <strands.telemetry.metrics.Trace object at 0x000002EF3EB61F90>], accumulated_usage={'inputTokens': 3974, 'outputTokens': 81, 'totalTokens': 4055}, accumulated_metrics={'latencyMs': 3628}), state={})"
      ]
     },
     "execution_count": 11,
     "metadata": {},
     "output_type": "execute_result"
    }
   ],
   "source": [
    "def custom_callback_handler(**kwargs):\n",
    "    # Process stream data\n",
    "    if \"data\" in kwargs:\n",
    "        print(f\"MODEL OUTPUT: {kwargs['data']}\")\n",
    "    elif \"current_tool_use\" in kwargs and kwargs[\"current_tool_use\"].get(\"name\"):\n",
    "        print(f\"\\nUSING TOOL: {kwargs['current_tool_use']['name']}\")\n",
    "\n",
    "\n",
    "# Create an agent with custom callback handler\n",
    "agent = Agent(   \n",
    "        model=\"apac.anthropic.claude-3-7-sonnet-20250219-v1:0\",  # Optional: Specify the model ID\n",
    "        tools=[calculator], \n",
    "        callback_handler=custom_callback_handler)\n",
    "\n",
    "agent(\"Calculate 2+2\")"
   ]
  },
  {
   "cell_type": "markdown",
   "metadata": {},
   "source": [
    "### Congratulations!\n",
    "\n",
    "In this notebook you learned how to stream your agents outputs using async iteractors and callback handlers. "
   ]
  },
  {
   "cell_type": "code",
   "execution_count": null,
   "id": "lmtevb65ikd",
   "metadata": {},
   "outputs": [],
   "source": [
    "# Check if the server is running and the port is accessible\n",
    "import socket\n",
    "\n",
    "def check_port(host, port):\n",
    "    sock = socket.socket(socket.AF_INET, socket.SOCK_STREAM)\n",
    "    sock.settimeout(1)\n",
    "    result = sock.connect_ex((host, port))\n",
    "    sock.close()\n",
    "    return result == 0\n",
    "\n",
    "print(f\"Port 8001 is open: {check_port('localhost', 8001)}\")\n",
    "print(f\"Port 8001 is open on 0.0.0.0: {check_port('0.0.0.0', 8001)}\")"
   ]
  },
  {
   "cell_type": "code",
   "execution_count": null,
   "id": "tj2o6kzm9v",
   "metadata": {},
   "outputs": [],
   "source": [
    "# Test the corrected fetch_stream function\n",
    "async def fetch_stream():\n",
    "    async with httpx.AsyncClient() as client:\n",
    "        try:\n",
    "            async with client.stream(\n",
    "                \"POST\",\n",
    "                \"http://localhost:8001/stream\",\n",
    "                json={\"prompt\": \"What is weather in NYC?\"},\n",
    "                timeout=10.0\n",
    "            ) as response:\n",
    "                print(\"✅ Connection successful!\")\n",
    "                async for line in response.aiter_lines():\n",
    "                    if line.strip():  # Skip empty lines\n",
    "                        print(\"Received:\", line[:200] + \"...\" if len(line) > 50 else line)\n",
    "        except Exception as e:\n",
    "            print(f\"❌ Error: {e}\")\n",
    "\n",
    "await fetch_stream()"
   ]
  }
 ],
 "metadata": {
  "kernelspec": {
   "display_name": "MemoryVenv",
   "language": "python",
   "name": ".venvmem"
  },
  "language_info": {
   "codemirror_mode": {
    "name": "ipython",
    "version": 3
   },
   "file_extension": ".py",
   "mimetype": "text/x-python",
   "name": "python",
   "nbconvert_exporter": "python",
   "pygments_lexer": "ipython3",
   "version": "3.13.5"
  }
 },
 "nbformat": 4,
 "nbformat_minor": 4
}
