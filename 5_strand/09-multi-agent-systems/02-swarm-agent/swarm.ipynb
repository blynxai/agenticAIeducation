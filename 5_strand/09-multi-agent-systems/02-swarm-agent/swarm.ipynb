{
 "cells": [
  {
   "cell_type": "markdown",
   "metadata": {
    "pycharm": {
     "name": "#%% md\n"
    }
   },
   "source": [
    "# Creating Swarm of agents using Strands Agents"
   ]
  },
  {
   "cell_type": "markdown",
   "metadata": {
    "pycharm": {
     "name": "#%%\n"
    }
   },
   "source": [
    "## Understanding Swarm Multi-Agent Systems\n",
    "\n",
    "A Swarm is a collaborative agent orchestration system where multiple agents work together as a team to solve complex tasks. Unlike traditional sequential or hierarchical multi-agent systems, a Swarm enables autonomous coordination between agents with shared context and working memory.\n",
    "\n",
    "* **Self-organizing agent teams** with shared working memory\n",
    "* **Tool-based coordination** between agents\n",
    "* **Autonomous agent collaboration** without central control\n",
    "* **Dynamic task distribution** based on agent capabilities\n",
    "* **Collective intelligence** through shared context\n",
    "* **Multi-modal input support** for handling text, images, and other content types\n",
    "\n",
    "## How Swarms Work\n",
    "\n",
    "Swarms operate on the principle of emergent intelligence - the idea that a group of specialized agents working together can solve problems more effectively than a single agent. Each agent in a Swarm:\n",
    "\n",
    "1. Has access to the full task context\n",
    "2. Can see the history of which agents have worked on the task\n",
    "3. Can access shared knowledge contributed by other agents\n",
    "4. Can decide when to hand off to another agent with different expertise\n"
   ]
  },
  {
   "cell_type": "markdown",
   "metadata": {},
   "source": [
    "## 1. Quick Start with Swarm tool"
   ]
  },
  {
   "cell_type": "markdown",
   "metadata": {},
   "source": [
    "The Strands Agents SDK provides a built-in swarm tool that simplifies the implementation of multi-agent systems, offering a quick start for users. This tool implements a flexible swarm intelligence system with autonomous coordination between specialized agents.\n",
    "    \n",
    "In this example:\n",
    "1. The agent uses the swarm tool to dynamically create a team of specialized agents. These might include a researcher, an analyst, and a technical writer\n",
    "2. Next the agent executes the swarm\n",
    "3. The swarm agents collaborate autonomously, handing off to each other as needed\n",
    "4. The agent analyzes the swarm results and provides a comprehensive response to the user\n"
   ]
  },
  {
   "cell_type": "code",
   "execution_count": 1,
   "metadata": {},
   "outputs": [
    {
     "name": "stdout",
     "output_type": "stream",
     "text": [
      "Requirement already satisfied: strands-agents in e:\\onedrive\\onedriveonitbuddy\\onedrive\\workbbench\\strands\\samples\\.venv\\lib\\site-packages (from -r requirements.txt (line 1)) (1.4.0)\n",
      "Requirement already satisfied: strands-agents-tools in e:\\onedrive\\onedriveonitbuddy\\onedrive\\workbbench\\strands\\samples\\.venv\\lib\\site-packages (from -r requirements.txt (line 2)) (0.2.3)\n",
      "Requirement already satisfied: boto3<2.0.0,>=1.26.0 in e:\\onedrive\\onedriveonitbuddy\\onedrive\\workbbench\\strands\\samples\\.venv\\lib\\site-packages (from strands-agents->-r requirements.txt (line 1)) (1.40.9)\n",
      "Requirement already satisfied: botocore<2.0.0,>=1.29.0 in e:\\onedrive\\onedriveonitbuddy\\onedrive\\workbbench\\strands\\samples\\.venv\\lib\\site-packages (from strands-agents->-r requirements.txt (line 1)) (1.40.9)\n",
      "Requirement already satisfied: docstring-parser<1.0,>=0.15 in e:\\onedrive\\onedriveonitbuddy\\onedrive\\workbbench\\strands\\samples\\.venv\\lib\\site-packages (from strands-agents->-r requirements.txt (line 1)) (0.17.0)\n",
      "Requirement already satisfied: mcp<2.0.0,>=1.11.0 in e:\\onedrive\\onedriveonitbuddy\\onedrive\\workbbench\\strands\\samples\\.venv\\lib\\site-packages (from strands-agents->-r requirements.txt (line 1)) (1.12.4)\n",
      "Requirement already satisfied: opentelemetry-api<2.0.0,>=1.30.0 in e:\\onedrive\\onedriveonitbuddy\\onedrive\\workbbench\\strands\\samples\\.venv\\lib\\site-packages (from strands-agents->-r requirements.txt (line 1)) (1.36.0)\n",
      "Requirement already satisfied: opentelemetry-instrumentation-threading<1.00b0,>=0.51b0 in e:\\onedrive\\onedriveonitbuddy\\onedrive\\workbbench\\strands\\samples\\.venv\\lib\\site-packages (from strands-agents->-r requirements.txt (line 1)) (0.57b0)\n",
      "Requirement already satisfied: opentelemetry-sdk<2.0.0,>=1.30.0 in e:\\onedrive\\onedriveonitbuddy\\onedrive\\workbbench\\strands\\samples\\.venv\\lib\\site-packages (from strands-agents->-r requirements.txt (line 1)) (1.36.0)\n",
      "Requirement already satisfied: pydantic<3.0.0,>=2.0.0 in e:\\onedrive\\onedriveonitbuddy\\onedrive\\workbbench\\strands\\samples\\.venv\\lib\\site-packages (from strands-agents->-r requirements.txt (line 1)) (2.11.7)\n",
      "Requirement already satisfied: typing-extensions<5.0.0,>=4.13.2 in e:\\onedrive\\onedriveonitbuddy\\onedrive\\workbbench\\strands\\samples\\.venv\\lib\\site-packages (from strands-agents->-r requirements.txt (line 1)) (4.14.1)\n",
      "Requirement already satisfied: watchdog<7.0.0,>=6.0.0 in e:\\onedrive\\onedriveonitbuddy\\onedrive\\workbbench\\strands\\samples\\.venv\\lib\\site-packages (from strands-agents->-r requirements.txt (line 1)) (6.0.0)\n",
      "Requirement already satisfied: jmespath<2.0.0,>=0.7.1 in e:\\onedrive\\onedriveonitbuddy\\onedrive\\workbbench\\strands\\samples\\.venv\\lib\\site-packages (from boto3<2.0.0,>=1.26.0->strands-agents->-r requirements.txt (line 1)) (1.0.1)\n",
      "Requirement already satisfied: s3transfer<0.14.0,>=0.13.0 in e:\\onedrive\\onedriveonitbuddy\\onedrive\\workbbench\\strands\\samples\\.venv\\lib\\site-packages (from boto3<2.0.0,>=1.26.0->strands-agents->-r requirements.txt (line 1)) (0.13.1)\n",
      "Requirement already satisfied: python-dateutil<3.0.0,>=2.1 in e:\\onedrive\\onedriveonitbuddy\\onedrive\\workbbench\\strands\\samples\\.venv\\lib\\site-packages (from botocore<2.0.0,>=1.29.0->strands-agents->-r requirements.txt (line 1)) (2.9.0.post0)\n",
      "Requirement already satisfied: urllib3!=2.2.0,<3,>=1.25.4 in e:\\onedrive\\onedriveonitbuddy\\onedrive\\workbbench\\strands\\samples\\.venv\\lib\\site-packages (from botocore<2.0.0,>=1.29.0->strands-agents->-r requirements.txt (line 1)) (2.5.0)\n",
      "Requirement already satisfied: anyio>=4.5 in e:\\onedrive\\onedriveonitbuddy\\onedrive\\workbbench\\strands\\samples\\.venv\\lib\\site-packages (from mcp<2.0.0,>=1.11.0->strands-agents->-r requirements.txt (line 1)) (4.10.0)\n",
      "Requirement already satisfied: httpx-sse>=0.4 in e:\\onedrive\\onedriveonitbuddy\\onedrive\\workbbench\\strands\\samples\\.venv\\lib\\site-packages (from mcp<2.0.0,>=1.11.0->strands-agents->-r requirements.txt (line 1)) (0.4.1)\n",
      "Requirement already satisfied: httpx>=0.27 in e:\\onedrive\\onedriveonitbuddy\\onedrive\\workbbench\\strands\\samples\\.venv\\lib\\site-packages (from mcp<2.0.0,>=1.11.0->strands-agents->-r requirements.txt (line 1)) (0.28.1)\n",
      "Requirement already satisfied: jsonschema>=4.20.0 in e:\\onedrive\\onedriveonitbuddy\\onedrive\\workbbench\\strands\\samples\\.venv\\lib\\site-packages (from mcp<2.0.0,>=1.11.0->strands-agents->-r requirements.txt (line 1)) (4.25.0)\n",
      "Requirement already satisfied: pydantic-settings>=2.5.2 in e:\\onedrive\\onedriveonitbuddy\\onedrive\\workbbench\\strands\\samples\\.venv\\lib\\site-packages (from mcp<2.0.0,>=1.11.0->strands-agents->-r requirements.txt (line 1)) (2.10.1)\n",
      "Requirement already satisfied: python-multipart>=0.0.9 in e:\\onedrive\\onedriveonitbuddy\\onedrive\\workbbench\\strands\\samples\\.venv\\lib\\site-packages (from mcp<2.0.0,>=1.11.0->strands-agents->-r requirements.txt (line 1)) (0.0.20)\n",
      "Requirement already satisfied: pywin32>=310 in e:\\onedrive\\onedriveonitbuddy\\onedrive\\workbbench\\strands\\samples\\.venv\\lib\\site-packages (from mcp<2.0.0,>=1.11.0->strands-agents->-r requirements.txt (line 1)) (311)\n",
      "Requirement already satisfied: sse-starlette>=1.6.1 in e:\\onedrive\\onedriveonitbuddy\\onedrive\\workbbench\\strands\\samples\\.venv\\lib\\site-packages (from mcp<2.0.0,>=1.11.0->strands-agents->-r requirements.txt (line 1)) (3.0.2)\n",
      "Requirement already satisfied: starlette>=0.27 in e:\\onedrive\\onedriveonitbuddy\\onedrive\\workbbench\\strands\\samples\\.venv\\lib\\site-packages (from mcp<2.0.0,>=1.11.0->strands-agents->-r requirements.txt (line 1)) (0.47.2)\n",
      "Requirement already satisfied: uvicorn>=0.23.1 in e:\\onedrive\\onedriveonitbuddy\\onedrive\\workbbench\\strands\\samples\\.venv\\lib\\site-packages (from mcp<2.0.0,>=1.11.0->strands-agents->-r requirements.txt (line 1)) (0.35.0)\n",
      "Requirement already satisfied: importlib-metadata<8.8.0,>=6.0 in e:\\onedrive\\onedriveonitbuddy\\onedrive\\workbbench\\strands\\samples\\.venv\\lib\\site-packages (from opentelemetry-api<2.0.0,>=1.30.0->strands-agents->-r requirements.txt (line 1)) (8.7.0)\n",
      "Requirement already satisfied: zipp>=3.20 in e:\\onedrive\\onedriveonitbuddy\\onedrive\\workbbench\\strands\\samples\\.venv\\lib\\site-packages (from importlib-metadata<8.8.0,>=6.0->opentelemetry-api<2.0.0,>=1.30.0->strands-agents->-r requirements.txt (line 1)) (3.23.0)\n",
      "Requirement already satisfied: opentelemetry-instrumentation==0.57b0 in e:\\onedrive\\onedriveonitbuddy\\onedrive\\workbbench\\strands\\samples\\.venv\\lib\\site-packages (from opentelemetry-instrumentation-threading<1.00b0,>=0.51b0->strands-agents->-r requirements.txt (line 1)) (0.57b0)\n",
      "Requirement already satisfied: wrapt<2.0.0,>=1.0.0 in e:\\onedrive\\onedriveonitbuddy\\onedrive\\workbbench\\strands\\samples\\.venv\\lib\\site-packages (from opentelemetry-instrumentation-threading<1.00b0,>=0.51b0->strands-agents->-r requirements.txt (line 1)) (1.17.3)\n",
      "Requirement already satisfied: opentelemetry-semantic-conventions==0.57b0 in e:\\onedrive\\onedriveonitbuddy\\onedrive\\workbbench\\strands\\samples\\.venv\\lib\\site-packages (from opentelemetry-instrumentation==0.57b0->opentelemetry-instrumentation-threading<1.00b0,>=0.51b0->strands-agents->-r requirements.txt (line 1)) (0.57b0)\n",
      "Requirement already satisfied: packaging>=18.0 in e:\\onedrive\\onedriveonitbuddy\\onedrive\\workbbench\\strands\\samples\\.venv\\lib\\site-packages (from opentelemetry-instrumentation==0.57b0->opentelemetry-instrumentation-threading<1.00b0,>=0.51b0->strands-agents->-r requirements.txt (line 1)) (25.0)\n",
      "Requirement already satisfied: annotated-types>=0.6.0 in e:\\onedrive\\onedriveonitbuddy\\onedrive\\workbbench\\strands\\samples\\.venv\\lib\\site-packages (from pydantic<3.0.0,>=2.0.0->strands-agents->-r requirements.txt (line 1)) (0.7.0)\n",
      "Requirement already satisfied: pydantic-core==2.33.2 in e:\\onedrive\\onedriveonitbuddy\\onedrive\\workbbench\\strands\\samples\\.venv\\lib\\site-packages (from pydantic<3.0.0,>=2.0.0->strands-agents->-r requirements.txt (line 1)) (2.33.2)\n",
      "Requirement already satisfied: typing-inspection>=0.4.0 in e:\\onedrive\\onedriveonitbuddy\\onedrive\\workbbench\\strands\\samples\\.venv\\lib\\site-packages (from pydantic<3.0.0,>=2.0.0->strands-agents->-r requirements.txt (line 1)) (0.4.1)\n",
      "Requirement already satisfied: six>=1.5 in e:\\onedrive\\onedriveonitbuddy\\onedrive\\workbbench\\strands\\samples\\.venv\\lib\\site-packages (from python-dateutil<3.0.0,>=2.1->botocore<2.0.0,>=1.29.0->strands-agents->-r requirements.txt (line 1)) (1.17.0)\n",
      "Requirement already satisfied: aws-requests-auth<0.5.0,>=0.4.3 in e:\\onedrive\\onedriveonitbuddy\\onedrive\\workbbench\\strands\\samples\\.venv\\lib\\site-packages (from strands-agents-tools->-r requirements.txt (line 2)) (0.4.3)\n",
      "Requirement already satisfied: dill<0.5.0,>=0.4.0 in e:\\onedrive\\onedriveonitbuddy\\onedrive\\workbbench\\strands\\samples\\.venv\\lib\\site-packages (from strands-agents-tools->-r requirements.txt (line 2)) (0.4.0)\n",
      "Requirement already satisfied: markdownify<2.0.0,>=1.0.0 in e:\\onedrive\\onedriveonitbuddy\\onedrive\\workbbench\\strands\\samples\\.venv\\lib\\site-packages (from strands-agents-tools->-r requirements.txt (line 2)) (1.2.0)\n",
      "Requirement already satisfied: pillow<12.0.0,>=11.2.1 in e:\\onedrive\\onedriveonitbuddy\\onedrive\\workbbench\\strands\\samples\\.venv\\lib\\site-packages (from strands-agents-tools->-r requirements.txt (line 2)) (11.3.0)\n",
      "Requirement already satisfied: prompt-toolkit<4.0.0,>=3.0.51 in e:\\onedrive\\onedriveonitbuddy\\onedrive\\workbbench\\strands\\samples\\.venv\\lib\\site-packages (from strands-agents-tools->-r requirements.txt (line 2)) (3.0.51)\n",
      "Requirement already satisfied: pyjwt<3.0.0,>=2.10.1 in e:\\onedrive\\onedriveonitbuddy\\onedrive\\workbbench\\strands\\samples\\.venv\\lib\\site-packages (from strands-agents-tools->-r requirements.txt (line 2)) (2.10.1)\n",
      "Requirement already satisfied: readabilipy<1.0.0,>=0.2.0 in e:\\onedrive\\onedriveonitbuddy\\onedrive\\workbbench\\strands\\samples\\.venv\\lib\\site-packages (from strands-agents-tools->-r requirements.txt (line 2)) (0.3.0)\n",
      "Requirement already satisfied: rich<15.0.0,>=14.0.0 in e:\\onedrive\\onedriveonitbuddy\\onedrive\\workbbench\\strands\\samples\\.venv\\lib\\site-packages (from strands-agents-tools->-r requirements.txt (line 2)) (14.1.0)\n",
      "Requirement already satisfied: slack-bolt<2.0.0,>=1.23.0 in e:\\onedrive\\onedriveonitbuddy\\onedrive\\workbbench\\strands\\samples\\.venv\\lib\\site-packages (from strands-agents-tools->-r requirements.txt (line 2)) (1.23.0)\n",
      "Requirement already satisfied: sympy<2.0.0,>=1.12.0 in e:\\onedrive\\onedriveonitbuddy\\onedrive\\workbbench\\strands\\samples\\.venv\\lib\\site-packages (from strands-agents-tools->-r requirements.txt (line 2)) (1.14.0)\n",
      "Requirement already satisfied: tenacity<10.0.0,>=9.1.2 in e:\\onedrive\\onedriveonitbuddy\\onedrive\\workbbench\\strands\\samples\\.venv\\lib\\site-packages (from strands-agents-tools->-r requirements.txt (line 2)) (9.1.2)\n",
      "Requirement already satisfied: tzdata in e:\\onedrive\\onedriveonitbuddy\\onedrive\\workbbench\\strands\\samples\\.venv\\lib\\site-packages (from strands-agents-tools->-r requirements.txt (line 2)) (2025.2)\n",
      "Requirement already satisfied: requests>=0.14.0 in e:\\onedrive\\onedriveonitbuddy\\onedrive\\workbbench\\strands\\samples\\.venv\\lib\\site-packages (from aws-requests-auth<0.5.0,>=0.4.3->strands-agents-tools->-r requirements.txt (line 2)) (2.32.4)\n",
      "Requirement already satisfied: beautifulsoup4<5,>=4.9 in e:\\onedrive\\onedriveonitbuddy\\onedrive\\workbbench\\strands\\samples\\.venv\\lib\\site-packages (from markdownify<2.0.0,>=1.0.0->strands-agents-tools->-r requirements.txt (line 2)) (4.13.4)\n",
      "Requirement already satisfied: soupsieve>1.2 in e:\\onedrive\\onedriveonitbuddy\\onedrive\\workbbench\\strands\\samples\\.venv\\lib\\site-packages (from beautifulsoup4<5,>=4.9->markdownify<2.0.0,>=1.0.0->strands-agents-tools->-r requirements.txt (line 2)) (2.7)\n",
      "Requirement already satisfied: wcwidth in e:\\onedrive\\onedriveonitbuddy\\onedrive\\workbbench\\strands\\samples\\.venv\\lib\\site-packages (from prompt-toolkit<4.0.0,>=3.0.51->strands-agents-tools->-r requirements.txt (line 2)) (0.2.13)\n",
      "Requirement already satisfied: html5lib in e:\\onedrive\\onedriveonitbuddy\\onedrive\\workbbench\\strands\\samples\\.venv\\lib\\site-packages (from readabilipy<1.0.0,>=0.2.0->strands-agents-tools->-r requirements.txt (line 2)) (1.1)\n",
      "Requirement already satisfied: lxml in e:\\onedrive\\onedriveonitbuddy\\onedrive\\workbbench\\strands\\samples\\.venv\\lib\\site-packages (from readabilipy<1.0.0,>=0.2.0->strands-agents-tools->-r requirements.txt (line 2)) (6.0.0)\n",
      "Requirement already satisfied: regex in e:\\onedrive\\onedriveonitbuddy\\onedrive\\workbbench\\strands\\samples\\.venv\\lib\\site-packages (from readabilipy<1.0.0,>=0.2.0->strands-agents-tools->-r requirements.txt (line 2)) (2025.7.34)\n",
      "Requirement already satisfied: markdown-it-py>=2.2.0 in e:\\onedrive\\onedriveonitbuddy\\onedrive\\workbbench\\strands\\samples\\.venv\\lib\\site-packages (from rich<15.0.0,>=14.0.0->strands-agents-tools->-r requirements.txt (line 2)) (4.0.0)\n",
      "Requirement already satisfied: pygments<3.0.0,>=2.13.0 in e:\\onedrive\\onedriveonitbuddy\\onedrive\\workbbench\\strands\\samples\\.venv\\lib\\site-packages (from rich<15.0.0,>=14.0.0->strands-agents-tools->-r requirements.txt (line 2)) (2.19.2)\n",
      "Collecting slack_sdk<4,>=3.35.0 (from slack-bolt<2.0.0,>=1.23.0->strands-agents-tools->-r requirements.txt (line 2))\n",
      "  Using cached slack_sdk-3.36.0-py2.py3-none-any.whl.metadata (15 kB)\n",
      "Requirement already satisfied: mpmath<1.4,>=1.1.0 in e:\\onedrive\\onedriveonitbuddy\\onedrive\\workbbench\\strands\\samples\\.venv\\lib\\site-packages (from sympy<2.0.0,>=1.12.0->strands-agents-tools->-r requirements.txt (line 2)) (1.3.0)\n",
      "Requirement already satisfied: idna>=2.8 in e:\\onedrive\\onedriveonitbuddy\\onedrive\\workbbench\\strands\\samples\\.venv\\lib\\site-packages (from anyio>=4.5->mcp<2.0.0,>=1.11.0->strands-agents->-r requirements.txt (line 1)) (3.10)\n",
      "Requirement already satisfied: sniffio>=1.1 in e:\\onedrive\\onedriveonitbuddy\\onedrive\\workbbench\\strands\\samples\\.venv\\lib\\site-packages (from anyio>=4.5->mcp<2.0.0,>=1.11.0->strands-agents->-r requirements.txt (line 1)) (1.3.1)\n",
      "Requirement already satisfied: certifi in e:\\onedrive\\onedriveonitbuddy\\onedrive\\workbbench\\strands\\samples\\.venv\\lib\\site-packages (from httpx>=0.27->mcp<2.0.0,>=1.11.0->strands-agents->-r requirements.txt (line 1)) (2025.8.3)\n",
      "Requirement already satisfied: httpcore==1.* in e:\\onedrive\\onedriveonitbuddy\\onedrive\\workbbench\\strands\\samples\\.venv\\lib\\site-packages (from httpx>=0.27->mcp<2.0.0,>=1.11.0->strands-agents->-r requirements.txt (line 1)) (1.0.9)\n",
      "Requirement already satisfied: h11>=0.16 in e:\\onedrive\\onedriveonitbuddy\\onedrive\\workbbench\\strands\\samples\\.venv\\lib\\site-packages (from httpcore==1.*->httpx>=0.27->mcp<2.0.0,>=1.11.0->strands-agents->-r requirements.txt (line 1)) (0.16.0)\n",
      "Requirement already satisfied: attrs>=22.2.0 in e:\\onedrive\\onedriveonitbuddy\\onedrive\\workbbench\\strands\\samples\\.venv\\lib\\site-packages (from jsonschema>=4.20.0->mcp<2.0.0,>=1.11.0->strands-agents->-r requirements.txt (line 1)) (25.3.0)\n",
      "Requirement already satisfied: jsonschema-specifications>=2023.03.6 in e:\\onedrive\\onedriveonitbuddy\\onedrive\\workbbench\\strands\\samples\\.venv\\lib\\site-packages (from jsonschema>=4.20.0->mcp<2.0.0,>=1.11.0->strands-agents->-r requirements.txt (line 1)) (2025.4.1)\n",
      "Requirement already satisfied: referencing>=0.28.4 in e:\\onedrive\\onedriveonitbuddy\\onedrive\\workbbench\\strands\\samples\\.venv\\lib\\site-packages (from jsonschema>=4.20.0->mcp<2.0.0,>=1.11.0->strands-agents->-r requirements.txt (line 1)) (0.36.2)\n",
      "Requirement already satisfied: rpds-py>=0.7.1 in e:\\onedrive\\onedriveonitbuddy\\onedrive\\workbbench\\strands\\samples\\.venv\\lib\\site-packages (from jsonschema>=4.20.0->mcp<2.0.0,>=1.11.0->strands-agents->-r requirements.txt (line 1)) (0.27.0)\n",
      "Requirement already satisfied: mdurl~=0.1 in e:\\onedrive\\onedriveonitbuddy\\onedrive\\workbbench\\strands\\samples\\.venv\\lib\\site-packages (from markdown-it-py>=2.2.0->rich<15.0.0,>=14.0.0->strands-agents-tools->-r requirements.txt (line 2)) (0.1.2)\n",
      "Requirement already satisfied: python-dotenv>=0.21.0 in e:\\onedrive\\onedriveonitbuddy\\onedrive\\workbbench\\strands\\samples\\.venv\\lib\\site-packages (from pydantic-settings>=2.5.2->mcp<2.0.0,>=1.11.0->strands-agents->-r requirements.txt (line 1)) (1.1.1)\n",
      "Requirement already satisfied: charset_normalizer<4,>=2 in e:\\onedrive\\onedriveonitbuddy\\onedrive\\workbbench\\strands\\samples\\.venv\\lib\\site-packages (from requests>=0.14.0->aws-requests-auth<0.5.0,>=0.4.3->strands-agents-tools->-r requirements.txt (line 2)) (3.4.3)\n",
      "Requirement already satisfied: click>=7.0 in e:\\onedrive\\onedriveonitbuddy\\onedrive\\workbbench\\strands\\samples\\.venv\\lib\\site-packages (from uvicorn>=0.23.1->mcp<2.0.0,>=1.11.0->strands-agents->-r requirements.txt (line 1)) (8.2.1)\n",
      "Requirement already satisfied: colorama in e:\\onedrive\\onedriveonitbuddy\\onedrive\\workbbench\\strands\\samples\\.venv\\lib\\site-packages (from click>=7.0->uvicorn>=0.23.1->mcp<2.0.0,>=1.11.0->strands-agents->-r requirements.txt (line 1)) (0.4.6)\n",
      "Requirement already satisfied: webencodings in e:\\onedrive\\onedriveonitbuddy\\onedrive\\workbbench\\strands\\samples\\.venv\\lib\\site-packages (from html5lib->readabilipy<1.0.0,>=0.2.0->strands-agents-tools->-r requirements.txt (line 2)) (0.5.1)\n",
      "Using cached slack_sdk-3.36.0-py2.py3-none-any.whl (293 kB)\n",
      "Installing collected packages: slack_sdk\n",
      "Successfully installed slack_sdk-3.36.0\n"
     ]
    },
    {
     "name": "stderr",
     "output_type": "stream",
     "text": [
      "WARNING: Ignoring invalid distribution ~lack-sdk (E:\\OneDrive\\OneDriveOnitbuddy\\OneDrive\\workbbench\\strands\\samples\\.venv\\Lib\\site-packages)\n",
      "WARNING: Ignoring invalid distribution ~mespath (E:\\OneDrive\\OneDriveOnitbuddy\\OneDrive\\workbbench\\strands\\samples\\.venv\\Lib\\site-packages)\n",
      "WARNING: Ignoring invalid distribution ~lack-sdk (E:\\OneDrive\\OneDriveOnitbuddy\\OneDrive\\workbbench\\strands\\samples\\.venv\\Lib\\site-packages)\n",
      "WARNING: Ignoring invalid distribution ~mespath (E:\\OneDrive\\OneDriveOnitbuddy\\OneDrive\\workbbench\\strands\\samples\\.venv\\Lib\\site-packages)\n",
      "WARNING: Ignoring invalid distribution ~lack-sdk (E:\\OneDrive\\OneDriveOnitbuddy\\OneDrive\\workbbench\\strands\\samples\\.venv\\Lib\\site-packages)\n",
      "WARNING: Ignoring invalid distribution ~mespath (E:\\OneDrive\\OneDriveOnitbuddy\\OneDrive\\workbbench\\strands\\samples\\.venv\\Lib\\site-packages)\n",
      "WARNING: Ignoring invalid distribution ~lack-sdk (E:\\OneDrive\\OneDriveOnitbuddy\\OneDrive\\workbbench\\strands\\samples\\.venv\\Lib\\site-packages)\n",
      "WARNING: Ignoring invalid distribution ~mespath (E:\\OneDrive\\OneDriveOnitbuddy\\OneDrive\\workbbench\\strands\\samples\\.venv\\Lib\\site-packages)\n",
      "\n",
      "[notice] A new release of pip is available: 25.1.1 -> 25.2\n",
      "[notice] To update, run: python.exe -m pip install --upgrade pip\n"
     ]
    }
   ],
   "source": [
    "!pip install -r requirements.txt"
   ]
  },
  {
   "cell_type": "code",
   "execution_count": null,
   "metadata": {},
   "outputs": [],
   "source": [
    "from strands import Agent\n",
    "from strands_tools import swarm"
   ]
  },
  {
   "cell_type": "markdown",
   "metadata": {
    "vscode": {
     "languageId": "markdown"
    }
   },
   "source": [
    "## 1.1 Swarm as a Tool"
   ]
  },
  {
   "cell_type": "code",
   "execution_count": null,
   "metadata": {},
   "outputs": [],
   "source": [
    "# Agent initialization\n",
    "agent = Agent(model=\"apac.anthropic.claude-3-7-sonnet-20250219-v1:0\",tools=[swarm])\n",
    "\n",
    "# Invocation through natural language\n",
    "result = str(agent(\n",
    "    \"Use a swarm of 4 agents to analyze the current market trend for generative ai based agents.\"\n",
    "))"
   ]
  },
  {
   "cell_type": "code",
   "execution_count": null,
   "metadata": {},
   "outputs": [],
   "source": [
    "print(result)"
   ]
  },
  {
   "cell_type": "markdown",
   "metadata": {},
   "source": [
    "The swarm tool implements a flexible swarm intelligence system built on the Strands SDK's native Swarm multi-agent pattern. This system enables users to define custom teams of specialized AI agents that collaborate autonomously through shared context and tool-based coordination.\n",
    "\n",
    "**Key Features:**\n",
    "- **Custom Agent Teams**: User-defined agent specifications with individual system prompts, per-agent tool configuration, and model settings\n",
    "- **Autonomous Coordination**: Built-in coordination tools (handoff_to_agent, complete_swarm_task) with shared working memory across all agents\n",
    "- **Advanced Configuration**: Individual model providers and settings per agent, customizable tool access, comprehensive timeout and safety mechanisms\n",
    "- **Emergent Collective Intelligence**: Agents autonomously decide when to collaborate or handoff, with dynamic task distribution based on capabilities\n",
    "\n",
    "The full implementation of the swarm tool can be found in the [Strands Tools repository](https://github.com/strands-agents/tools/blob/main/src/strands_tools/swarm.py).\n",
    "\n",
    "**Key Parameters:**\n",
    "- `task`: The main task to be processed by the swarm\n",
    "- `agents`: List of agent specifications with name, system_prompt, tools, model_provider, and model_settings\n",
    "- `max_handoffs`: Maximum number of agent handoffs allowed (default: 20)\n",
    "- `max_iterations`: Maximum total iterations across all agents (default: 20)\n",
    "- `execution_timeout`: Total execution timeout in seconds (default: 900.0)\n",
    "- `node_timeout`: Individual agent timeout in seconds (default: 300.0)\n",
    "- `repetitive_handoff_detection_window`: Number of recent nodes to check for ping-pong behavior\n",
    "- `repetitive_handoff_min_unique_agents`: Minimum unique nodes required in recent sequence\n",
    "\n",
    "**How the Swarm Tool Works:**\n",
    "1. **Agent Creation**: Creates specialized agents based on user specifications with individual model providers and tools\n",
    "2. **Swarm Initialization**: Sets up the Strands SDK Swarm with coordination tools and safety mechanisms\n",
    "3. **Autonomous Execution**: Agents collaborate through handoffs and shared context without central control\n",
    "4. **Result Aggregation**: Collects individual contributions and provides comprehensive execution metrics\n"
   ]
  },
  {
   "cell_type": "markdown",
   "metadata": {},
   "source": [
    "## 2. Creating a Swarm with Strands Agents"
   ]
  },
  {
   "cell_type": "markdown",
   "metadata": {},
   "source": [
    "Strands Agents SDK allows you to create swarms using existing Agent objects, even when they use different model providers or have different configurations. The Swarm system enables autonomous coordination between agents through auto handoff mechanisms and shared context, allowing agents to dynamically transfer control when they need specialized expertise from other agents.\n",
    "\n",
    "### 2.1 Agent Coordination with Auto Handoff"
   ]
  },
  {
   "cell_type": "markdown",
   "metadata": {},
   "source": [
    "<p align=\"center\">\n",
    "    <img src=\"./images/swarm_example.png\">\n",
    "</p>"
   ]
  },
  {
   "cell_type": "markdown",
   "metadata": {},
   "source": [
    "In this coordination approach, agents use the Strands SDK's native Swarm pattern with built-in handoff tools to autonomously transfer control to other specialized agents when they need different expertise. Each agent is automatically equipped with coordination tools like `handoff_to_agent` and `complete_swarm_task`. The following example demonstrates a swarm of specialized agents collaborating through shared context and autonomous handoffs:"
   ]
  },
  {
   "cell_type": "code",
   "execution_count": null,
   "metadata": {},
   "outputs": [],
   "source": [
    "# Create specialized agents with different expertise\n",
    "research_agent = Agent(system_prompt=(\"\"\"You are a Research Agent specializing in gathering and analyzing information.\n",
    "Your role in the swarm is to provide factual information and research insights on the topic.\n",
    "You should focus on providing accurate data and identifying key aspects of the problem.\n",
    "When receiving input from other agents, evaluate if their information aligns with your research.\n",
    "\"\"\"), \n",
    "name=\"research_agent\",model=\"apac.anthropic.claude-3-7-sonnet-20250219-v1:0\")\n",
    "\n",
    "creative_agent = Agent(system_prompt=(\"\"\"You are a Creative Agent specializing in generating innovative solutions.\n",
    "Your role in the swarm is to think outside the box and propose creative approaches.\n",
    "You should build upon information from other agents while adding your unique creative perspective.\n",
    "Focus on novel approaches that others might not have considered.\n",
    "\"\"\"), \n",
    "name=\"creative_agent\",model=\"apac.anthropic.claude-3-7-sonnet-20250219-v1:0\")\n",
    "\n",
    "critical_agent = Agent(system_prompt=(\"\"\"You are a Critical Agent specializing in analyzing proposals and finding flaws.\n",
    "Your role in the swarm is to evaluate solutions proposed by other agents and identify potential issues.\n",
    "You should carefully examine proposed solutions, find weaknesses or oversights, and suggest improvements.\n",
    "Be constructive in your criticism while ensuring the final solution is robust.\n",
    "\"\"\"), \n",
    "name=\"critical_agent\",model=\"apac.anthropic.claude-3-7-sonnet-20250219-v1:0\")\n",
    "\n",
    "summarizer_agent = Agent(system_prompt=(\"\"\"You are a Summarizer Agent specializing in synthesizing information.\n",
    "Your role in the swarm is to gather insights from all agents and create a cohesive final solution.\n",
    "You should combine the best ideas and address the criticisms to create a comprehensive response.\n",
    "Focus on creating a clear, actionable summary that addresses the original query effectively.\n",
    "\"\"\"),name=\"summarizer_agent\",model=\"apac.anthropic.claude-3-7-sonnet-20250219-v1:0\")"
   ]
  },
  {
   "cell_type": "markdown",
   "metadata": {},
   "source": [
    "The agent coordination is implemented using the Strands SDK's native Swarm class, which automatically provides coordination tools and manages shared context:"
   ]
  },
  {
   "cell_type": "code",
   "execution_count": null,
   "metadata": {},
   "outputs": [],
   "source": [
    "from strands.multiagent import Swarm\n",
    "\n",
    "# Create a swarm with these agents\n",
    "swarm = Swarm(\n",
    "    [research_agent, creative_agent, critical_agent, summarizer_agent],\n",
    "    max_handoffs=20,\n",
    "    max_iterations=20,\n",
    "    execution_timeout=900.0,  # 15 minutes\n",
    "    node_timeout=300.0,       # 5 minutes per agent\n",
    "    repetitive_handoff_detection_window=8,  # There must be >= 3 unique agents in the last 8 handoffs\n",
    "    repetitive_handoff_min_unique_agents=3\n",
    ")"
   ]
  },
  {
   "cell_type": "markdown",
   "metadata": {},
   "source": [
    "The swarm operates through autonomous agent coordination, with agents deciding when to handoff based on their expertise and the task requirements:"
   ]
  },
  {
   "cell_type": "code",
   "execution_count": null,
   "metadata": {},
   "outputs": [],
   "source": [
    "# Execute the swarm on a task\n",
    "result = swarm(\"Create a blog post explaining Agentic AI then create a summary for a social media post.\")"
   ]
  },
  {
   "cell_type": "code",
   "execution_count": null,
   "metadata": {},
   "outputs": [],
   "source": [
    "# Access the final result\n",
    "print(f\"Status: {result.status}\")"
   ]
  },
  {
   "cell_type": "markdown",
   "metadata": {},
   "source": [
    "In this example:\n",
    "\n",
    "* The research_agent might start by gathering information about Agentic AI\n",
    "* Handoff to the creative_agent to develop engaging content and structure\n",
    "* The critical_agent reviews the content for accuracy and completeness\n",
    "* Finally, the summarizer_agent synthesizes all contributions into a cohesive blog post\n",
    "* Agents can handoff multiple times as needed, with the swarm automatically managing coordination\n"
   ]
  },
  {
   "cell_type": "code",
   "execution_count": null,
   "metadata": {},
   "outputs": [],
   "source": [
    "# See which agents were involved\n",
    "for node in result.node_history:\n",
    "    print(f\"Agent: {node.node_id}\")\n",
    "\n",
    "# Get results from specific nodes\n",
    "research_result = result.results[\"research_agent\"].result\n",
    "print(f\"Research: {research_result}\")\n",
    "\n",
    "# Get performance metrics\n",
    "print(f\"Total iterations: {result.execution_count}\")\n",
    "print(f\"Execution time: {result.execution_time}ms\")\n",
    "print(f\"Token usage: {result.accumulated_usage}\")"
   ]
  },
  {
   "cell_type": "markdown",
   "metadata": {},
   "source": [
    "The swarm system automatically manages agent coordination, shared context, and handoff mechanisms. Agents can autonomously decide when to transfer control to other specialists, creating a seamless collaborative workflow with built-in safety features like timeout protection and repetitive handoff detection.\n"
   ]
  },
  {
   "cell_type": "markdown",
   "metadata": {},
   "source": [
    "## When to use Swarm:\n",
    "\n",
    "- For complex tasks requiring diverse expertise and specialized knowledge\n",
    "- When you need multiple perspectives and collaborative problem-solving\n",
    "- For tasks that benefit from autonomous agent coordination and collective intelligence\n",
    "- When handling multi-modal inputs like text and images together\n",
    "- For projects requiring dynamic task distribution based on agent capabilities\n",
    "\n",
    "## Best Practices\n",
    "\n",
    "1. **Create specialized agents**: Define clear roles for each agent in your Swarm\n",
    "2. **Use descriptive agent names**: Names should reflect the agent's specialty\n",
    "3. **Set appropriate timeouts**: Adjust based on task complexity and expected runtime\n",
    "4. **Enable repetitive handoff detection**: Set appropriate values for `repetitive_handoff_detection_window` and `repetitive_handoff_min_unique_agents` to prevent ping-pong behavior\n",
    "5. **Include diverse expertise**: Ensure your Swarm has agents with complementary skills\n",
    "6. **Provide agent descriptions**: Add descriptions to your agents to help other agents understand their capabilities\n",
    "7. **Leverage multi-modal inputs**: Use ContentBlocks for rich inputs including images\n",
    "\n",
    "## Conclusion\n",
    "\n",
    "Multi-agent swarms solve complex problems through emergent collective intelligence. The Strands Agents SDK provides both a flexible swarm tool and native Swarm class for creating custom agent teams that collaborate autonomously. By distributing tasks across specialized agents with individual model providers, tools, and configurations, swarms achieve better results than single agents working alone. With built-in coordination tools, shared context, and comprehensive safety mechanisms, developers can create sophisticated multi-agent systems that handle complex, multi-faceted problems through self-organizing collaboration.\n",
    "\n",
    "For further details on Swarms check out the [Strands Documentation](https://strandsagents.com/latest/documentation/docs/user-guide/concepts/multi-agent/swarm/)"
   ]
  }
 ],
 "metadata": {
  "kernelspec": {
   "display_name": ".venv",
   "language": "python",
   "name": "python3"
  },
  "language_info": {
   "codemirror_mode": {
    "name": "ipython",
    "version": 3
   },
   "file_extension": ".py",
   "mimetype": "text/x-python",
   "name": "python",
   "nbconvert_exporter": "python",
   "pygments_lexer": "ipython3",
   "version": "3.13.7"
  }
 },
 "nbformat": 4,
 "nbformat_minor": 4
}
