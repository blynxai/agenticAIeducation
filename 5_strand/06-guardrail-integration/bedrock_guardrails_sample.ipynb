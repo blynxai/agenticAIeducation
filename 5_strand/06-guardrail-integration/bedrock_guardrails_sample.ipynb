{
 "cells": [
  {
   "cell_type": "markdown",
   "metadata": {},
   "source": [
    "\n",
    "\n",
    "# Safeguarding your Strands Agents with Amazon Bedrock Guardrails\n",
    "\n",
    "## Overview\n",
    "In this example we will guide you through how to create your first Strands Agent using [Amazon Bedrock Guardrails](https://aws.amazon.com/bedrock/guardrails/) to safeguard the underlying Amazon Bedrock LLM model.\n",
    "\n",
    "Amazon Bedrock Guardrails provides configurable safeguards to help safely build generative AI applications at scale. With a consistent and standard approach used across a wide range of foundation models (FMs) including FMs supported in Amazon Bedrock, fine-tuned models, and models hosted outside of Amazon Bedrock, Guardrails delivers industry-leading safety protections. \n",
    "\n",
    "With Strands Agents, you can add Amazon Bedrock Guardrails directly to you Amazon Bedrock models. If you are not using Amazon Bedrock Models, you can use the [Apply Guardrail API](https://docs.aws.amazon.com/bedrock/latest/userguide/guardrails-use-independent-api.html) to safeguard any model. In this case, you need to build the pipelines using the advance processing capabilities you just learned.\n",
    "\n",
    "\n",
    "## Agent Details\n",
    "<div style=\"float: left; margin-right: 20px;\">\n",
    "    \n",
    "|Feature             |Description                                        |\n",
    "|--------------------|---------------------------------------------------|\n",
    "|AWS Services used   |Amazon Bedrock Guardrails                          |\n",
    "|Custom tools created|get_customer_profile, list_customer_purchases, list_customer_tickets, update_customer_profile|\n",
    "|Agent Structure     |Single agent architecture                          |\n",
    "\n",
    "</div>\n"
   ]
  },
  {
   "cell_type": "markdown",
   "metadata": {},
   "source": [
    "## Architecture\n",
    "\n",
    "<div style=\"text-align:left\">\n",
    "    <img src=\"images/architecture.png\" width=\"85%\" />\n",
    "</div>\n",
    "\n",
    "## Key Features\n",
    "* **Single agent architecture**: this example creates a single agent that interacts with built-in and custom tools\n",
    "* **Custom tools**: lean how to create your own tools\n",
    "* **Amazon Bedrock Model as underlying LLM**: Used Anthropic Claude 3.7 from Amazon Bedrock as the underlying LLM model\n",
    "* **Amazon Bedrock Guardails as undeline safeguard**: Use Amazon Bedrock Guardrails to safe guard your agent application"
   ]
  },
  {
   "cell_type": "markdown",
   "metadata": {},
   "source": [
    "## Setup and prerequisites\n",
    "\n",
    "### Prerequisites\n",
    "* Python 3.10+\n",
    "* AWS account\n",
    "* Anthropic Claude 3.7 enabled on Amazon Bedrock\n",
    "* IAM role with permissions to create Amazon Bedrock Guardrails\n",
    "\n",
    "Let's now install the requirement packages for our Strands Agent"
   ]
  },
  {
   "cell_type": "code",
   "execution_count": 1,
   "metadata": {},
   "outputs": [
    {
     "name": "stderr",
     "output_type": "stream",
     "text": [
      "\u001b[2mUsing Python 3.13.5 environment at: e:\\OneDrive\\OneDriveOnitbuddy\\OneDrive\\workbench\\exampletest\\agenticAIeducation\\.venv\u001b[0m\n",
      "\u001b[2mResolved \u001b[1m74 packages\u001b[0m \u001b[2min 566ms\u001b[0m\u001b[0m\n",
      "\u001b[36m\u001b[1mDownloading\u001b[0m\u001b[39m botocore \u001b[2m(13.4MiB)\u001b[0m\n",
      " \u001b[32m\u001b[1mDownloading\u001b[0m\u001b[39m botocore\n",
      "\u001b[2mPrepared \u001b[1m37 packages\u001b[0m \u001b[2min 7.09s\u001b[0m\u001b[0m\n",
      "\u001b[2mUninstalled \u001b[1m37 packages\u001b[0m \u001b[2min 3.62s\u001b[0m\u001b[0m\n",
      "\u001b[1m\u001b[33mwarning\u001b[39m\u001b[0m\u001b[1m:\u001b[0m \u001b[1mFailed to hardlink files; falling back to full copy. This may lead to degraded performance.\n",
      "         If the cache and target directories are on different filesystems, hardlinking may not be supported.\n",
      "         If this is intentional, set `export UV_LINK_MODE=copy` or use `--link-mode=copy` to suppress this warning.\u001b[0m\n",
      "\u001b[2mInstalled \u001b[1m37 packages\u001b[0m \u001b[2min 5.46s\u001b[0m\u001b[0m\n",
      " \u001b[31m-\u001b[39m \u001b[1manyio\u001b[0m\u001b[2m==4.9.0\u001b[0m\n",
      " \u001b[32m+\u001b[39m \u001b[1manyio\u001b[0m\u001b[2m==4.10.0\u001b[0m\n",
      " \u001b[31m-\u001b[39m \u001b[1mboto3\u001b[0m\u001b[2m==1.40.4\u001b[0m\n",
      " \u001b[32m+\u001b[39m \u001b[1mboto3\u001b[0m\u001b[2m==1.40.10\u001b[0m\n",
      " \u001b[31m-\u001b[39m \u001b[1mbotocore\u001b[0m\u001b[2m==1.40.4\u001b[0m\n",
      " \u001b[32m+\u001b[39m \u001b[1mbotocore\u001b[0m\u001b[2m==1.40.10\u001b[0m\n",
      " \u001b[31m-\u001b[39m \u001b[1mcertifi\u001b[0m\u001b[2m==2025.4.26\u001b[0m\n",
      " \u001b[32m+\u001b[39m \u001b[1mcertifi\u001b[0m\u001b[2m==2025.8.3\u001b[0m\n",
      " \u001b[31m-\u001b[39m \u001b[1mcharset-normalizer\u001b[0m\u001b[2m==3.4.2\u001b[0m\n",
      " \u001b[32m+\u001b[39m \u001b[1mcharset-normalizer\u001b[0m\u001b[2m==3.4.3\u001b[0m\n",
      " \u001b[31m-\u001b[39m \u001b[1mclick\u001b[0m\u001b[2m==8.1.8\u001b[0m\n",
      " \u001b[32m+\u001b[39m \u001b[1mclick\u001b[0m\u001b[2m==8.2.1\u001b[0m\n",
      " \u001b[31m-\u001b[39m \u001b[1mhttpx-sse\u001b[0m\u001b[2m==0.4.0\u001b[0m\n",
      " \u001b[32m+\u001b[39m \u001b[1mhttpx-sse\u001b[0m\u001b[2m==0.4.1\u001b[0m\n",
      " \u001b[31m-\u001b[39m \u001b[1mimportlib-metadata\u001b[0m\u001b[2m==8.6.1\u001b[0m\n",
      " \u001b[32m+\u001b[39m \u001b[1mimportlib-metadata\u001b[0m\u001b[2m==8.7.0\u001b[0m\n",
      " \u001b[31m-\u001b[39m \u001b[1mjsonschema\u001b[0m\u001b[2m==4.23.0\u001b[0m\n",
      " \u001b[32m+\u001b[39m \u001b[1mjsonschema\u001b[0m\u001b[2m==4.25.0\u001b[0m\n",
      " \u001b[31m-\u001b[39m \u001b[1mlxml\u001b[0m\u001b[2m==5.4.0\u001b[0m\n",
      " \u001b[32m+\u001b[39m \u001b[1mlxml\u001b[0m\u001b[2m==6.0.0\u001b[0m\n",
      " \u001b[31m-\u001b[39m \u001b[1mmarkdown-it-py\u001b[0m\u001b[2m==3.0.0\u001b[0m\n",
      " \u001b[32m+\u001b[39m \u001b[1mmarkdown-it-py\u001b[0m\u001b[2m==4.0.0\u001b[0m\n",
      " \u001b[31m-\u001b[39m \u001b[1mmarkdownify\u001b[0m\u001b[2m==1.1.0\u001b[0m\n",
      " \u001b[32m+\u001b[39m \u001b[1mmarkdownify\u001b[0m\u001b[2m==1.2.0\u001b[0m\n",
      " \u001b[31m-\u001b[39m \u001b[1mmcp\u001b[0m\u001b[2m==1.12.3\u001b[0m\n",
      " \u001b[32m+\u001b[39m \u001b[1mmcp\u001b[0m\u001b[2m==1.13.0\u001b[0m\n",
      " \u001b[31m-\u001b[39m \u001b[1mopentelemetry-api\u001b[0m\u001b[2m==1.32.1\u001b[0m\n",
      " \u001b[32m+\u001b[39m \u001b[1mopentelemetry-api\u001b[0m\u001b[2m==1.36.0\u001b[0m\n",
      " \u001b[31m-\u001b[39m \u001b[1mopentelemetry-instrumentation\u001b[0m\u001b[2m==0.53b1\u001b[0m\n",
      " \u001b[32m+\u001b[39m \u001b[1mopentelemetry-instrumentation\u001b[0m\u001b[2m==0.57b0\u001b[0m\n",
      " \u001b[31m-\u001b[39m \u001b[1mopentelemetry-instrumentation-threading\u001b[0m\u001b[2m==0.53b1\u001b[0m\n",
      " \u001b[32m+\u001b[39m \u001b[1mopentelemetry-instrumentation-threading\u001b[0m\u001b[2m==0.57b0\u001b[0m\n",
      " \u001b[31m-\u001b[39m \u001b[1mopentelemetry-sdk\u001b[0m\u001b[2m==1.32.1\u001b[0m\n",
      " \u001b[32m+\u001b[39m \u001b[1mopentelemetry-sdk\u001b[0m\u001b[2m==1.36.0\u001b[0m\n",
      " \u001b[31m-\u001b[39m \u001b[1mopentelemetry-semantic-conventions\u001b[0m\u001b[2m==0.53b1\u001b[0m\n",
      " \u001b[32m+\u001b[39m \u001b[1mopentelemetry-semantic-conventions\u001b[0m\u001b[2m==0.57b0\u001b[0m\n",
      " \u001b[31m-\u001b[39m \u001b[1mpackaging\u001b[0m\u001b[2m==24.2\u001b[0m\n",
      " \u001b[32m+\u001b[39m \u001b[1mpackaging\u001b[0m\u001b[2m==25.0\u001b[0m\n",
      " \u001b[31m-\u001b[39m \u001b[1mpillow\u001b[0m\u001b[2m==11.2.1\u001b[0m\n",
      " \u001b[32m+\u001b[39m \u001b[1mpillow\u001b[0m\u001b[2m==11.3.0\u001b[0m\n",
      " \u001b[31m-\u001b[39m \u001b[1mpydantic-settings\u001b[0m\u001b[2m==2.9.1\u001b[0m\n",
      " \u001b[32m+\u001b[39m \u001b[1mpydantic-settings\u001b[0m\u001b[2m==2.10.1\u001b[0m\n",
      " \u001b[31m-\u001b[39m \u001b[1mpygments\u001b[0m\u001b[2m==2.19.1\u001b[0m\n",
      " \u001b[32m+\u001b[39m \u001b[1mpygments\u001b[0m\u001b[2m==2.19.2\u001b[0m\n",
      " \u001b[31m-\u001b[39m \u001b[1mpython-dotenv\u001b[0m\u001b[2m==1.1.0\u001b[0m\n",
      " \u001b[32m+\u001b[39m \u001b[1mpython-dotenv\u001b[0m\u001b[2m==1.1.1\u001b[0m\n",
      " \u001b[31m-\u001b[39m \u001b[1mpywin32\u001b[0m\u001b[2m==310\u001b[0m\n",
      " \u001b[32m+\u001b[39m \u001b[1mpywin32\u001b[0m\u001b[2m==311\u001b[0m\n",
      " \u001b[31m-\u001b[39m \u001b[1mregex\u001b[0m\u001b[2m==2024.11.6\u001b[0m\n",
      " \u001b[32m+\u001b[39m \u001b[1mregex\u001b[0m\u001b[2m==2025.7.34\u001b[0m\n",
      " \u001b[31m-\u001b[39m \u001b[1mrequests\u001b[0m\u001b[2m==2.32.3\u001b[0m\n",
      " \u001b[32m+\u001b[39m \u001b[1mrequests\u001b[0m\u001b[2m==2.32.4\u001b[0m\n",
      " \u001b[31m-\u001b[39m \u001b[1mrich\u001b[0m\u001b[2m==14.0.0\u001b[0m\n",
      " \u001b[32m+\u001b[39m \u001b[1mrich\u001b[0m\u001b[2m==14.1.0\u001b[0m\n",
      " \u001b[31m-\u001b[39m \u001b[1mrpds-py\u001b[0m\u001b[2m==0.24.0\u001b[0m\n",
      " \u001b[32m+\u001b[39m \u001b[1mrpds-py\u001b[0m\u001b[2m==0.27.0\u001b[0m\n",
      " \u001b[31m-\u001b[39m \u001b[1msse-starlette\u001b[0m\u001b[2m==2.3.4\u001b[0m\n",
      " \u001b[32m+\u001b[39m \u001b[1msse-starlette\u001b[0m\u001b[2m==3.0.2\u001b[0m\n",
      " \u001b[31m-\u001b[39m \u001b[1mstarlette\u001b[0m\u001b[2m==0.46.2\u001b[0m\n",
      " \u001b[32m+\u001b[39m \u001b[1mstarlette\u001b[0m\u001b[2m==0.47.2\u001b[0m\n",
      " \u001b[31m-\u001b[39m \u001b[1mstrands-agents\u001b[0m\u001b[2m==1.3.0\u001b[0m\n",
      " \u001b[32m+\u001b[39m \u001b[1mstrands-agents\u001b[0m\u001b[2m==1.4.0\u001b[0m\n",
      " \u001b[31m-\u001b[39m \u001b[1mtyping-extensions\u001b[0m\u001b[2m==4.13.2\u001b[0m\n",
      " \u001b[32m+\u001b[39m \u001b[1mtyping-extensions\u001b[0m\u001b[2m==4.14.1\u001b[0m\n",
      " \u001b[31m-\u001b[39m \u001b[1mtyping-inspection\u001b[0m\u001b[2m==0.4.0\u001b[0m\n",
      " \u001b[32m+\u001b[39m \u001b[1mtyping-inspection\u001b[0m\u001b[2m==0.4.1\u001b[0m\n",
      " \u001b[31m-\u001b[39m \u001b[1murllib3\u001b[0m\u001b[2m==2.4.0\u001b[0m\n",
      " \u001b[32m+\u001b[39m \u001b[1murllib3\u001b[0m\u001b[2m==2.5.0\u001b[0m\n",
      " \u001b[31m-\u001b[39m \u001b[1muvicorn\u001b[0m\u001b[2m==0.34.2\u001b[0m\n",
      " \u001b[32m+\u001b[39m \u001b[1muvicorn\u001b[0m\u001b[2m==0.35.0\u001b[0m\n",
      " \u001b[31m-\u001b[39m \u001b[1mwrapt\u001b[0m\u001b[2m==1.17.2\u001b[0m\n",
      " \u001b[32m+\u001b[39m \u001b[1mwrapt\u001b[0m\u001b[2m==1.17.3\u001b[0m\n",
      " \u001b[31m-\u001b[39m \u001b[1mzipp\u001b[0m\u001b[2m==3.21.0\u001b[0m\n",
      " \u001b[32m+\u001b[39m \u001b[1mzipp\u001b[0m\u001b[2m==3.23.0\u001b[0m\n",
      "\u001b[2mUsing Python 3.13.5 environment at: e:\\OneDrive\\OneDriveOnitbuddy\\OneDrive\\workbench\\exampletest\\agenticAIeducation\\.venv\u001b[0m\n",
      "\u001b[2mResolved \u001b[1m7 packages\u001b[0m \u001b[2min 153ms\u001b[0m\u001b[0m\n",
      "\u001b[2mAudited \u001b[1m7 packages\u001b[0m \u001b[2min 0.52ms\u001b[0m\u001b[0m\n"
     ]
    }
   ],
   "source": [
    "!uv pip install -U -r requirements.txt\n",
    "!uv pip install -U boto3"
   ]
  },
  {
   "cell_type": "markdown",
   "metadata": {},
   "source": [
    "### Importing dependency packages\n",
    "\n",
    "Now let's import the dependency packages"
   ]
  },
  {
   "cell_type": "code",
   "execution_count": 2,
   "metadata": {},
   "outputs": [],
   "source": [
    "import json\n",
    "import boto3\n",
    "import os\n",
    "from strands import Agent, tool\n",
    "from strands.models import BedrockModel\n",
    "from customer_profile_tools import get_customer_profile, list_customer_purchases, list_customer_tickets, update_customer_profile\n",
    "from customer_profiles import CustomerProfileManager, generate_synthetic_profiles"
   ]
  },
  {
   "cell_type": "markdown",
   "metadata": {},
   "source": [
    "### Generating data\n",
    "\n",
    "Let's generate some synthetic data for this example. In reality, your agent would connect to an existing customer database, but we will use a JSON file for this example"
   ]
  },
  {
   "cell_type": "code",
   "execution_count": 3,
   "metadata": {},
   "outputs": [
    {
     "name": "stdout",
     "output_type": "stream",
     "text": [
      "Using existing customer profiles\n",
      "Loaded 10 customer profiles\n",
      "\n",
      "Sample Profile: Customer 1\n",
      "Email: customer1@example.com\n",
      "Customer ID: CUST100\n",
      "Location: California, USA\n",
      "Purchases: 1\n",
      "Support Tickets: 0\n"
     ]
    }
   ],
   "source": [
    " # Generate synthetic profiles if needed\n",
    "profile_manager = CustomerProfileManager()\n",
    "if not os.path.exists(\"customer_profiles.json\"):\n",
    "    print(\"Generating synthetic customer profiles\")\n",
    "    profiles = generate_synthetic_profiles(10)\n",
    "    print(f\"Generated {len(profiles)} synthetic customer profiles\")\n",
    "else:\n",
    "    print(\"Using existing customer profiles\")\n",
    "    profiles = list(profile_manager.profiles.values())\n",
    "    print(f\"Loaded {len(profiles)} customer profiles\")\n",
    "\n",
    "# Display sample profile for reference\n",
    "if profiles:\n",
    "    sample_profile = profiles[0]\n",
    "    print(f\"\\nSample Profile: {sample_profile.name}\")\n",
    "    print(f\"Email: {sample_profile.email}\")\n",
    "    print(f\"Customer ID: {sample_profile.customer_id}\")\n",
    "    print(f\"Location: {sample_profile.state}, {sample_profile.country}\")\n",
    "    print(f\"Purchases: {len(sample_profile.purchase_history)}\")\n",
    "    print(f\"Support Tickets: {len(sample_profile.support_tickets)}\")"
   ]
  },
  {
   "cell_type": "markdown",
   "metadata": {},
   "source": [
    "## Creating an Amazon Bedrock Guardrail\n",
    "\n",
    "Let's now create an Amazon Bedrock Guardrail to prevent providing financial advice and filter for common challenges in a customer facing application. \n",
    "\n",
    "To create the guardrail, first we need to configure the Amazon Bedrock client:"
   ]
  },
  {
   "cell_type": "code",
   "execution_count": 4,
   "metadata": {},
   "outputs": [],
   "source": [
    "# Configure AWS clients\n",
    "bedrock_client = boto3.client('bedrock')\n",
    "bedrock_runtime = boto3.client('bedrock-runtime')"
   ]
  },
  {
   "cell_type": "markdown",
   "metadata": {},
   "source": [
    "You can now use the `create_guardrail` method to create the `no-investment-advice` guardrail that will be used in our application. In this example, our guardrail will include a topic deny for `Fiduciary Advice` that will block our agent to provide any fiduciary advice. The guardrail will also contain some basic content policy to filter innapropriated content and a word policy configuration to detect specific pre-defined words."
   ]
  },
  {
   "cell_type": "code",
   "execution_count": 5,
   "metadata": {},
   "outputs": [
    {
     "name": "stdout",
     "output_type": "stream",
     "text": [
      "Guardrail ID: wbuuhlf5f128\n",
      "Guardrail ARN: arn:aws:bedrock:ap-southeast-2:463470947763:guardrail/wbuuhlf5f128\n"
     ]
    }
   ],
   "source": [
    "# Create a Bedrock guardrail\n",
    "response = bedrock_client.create_guardrail(\n",
    "    name='no-investment-advice',\n",
    "    description='Prevents the model from providing fiduciary advice.',\n",
    "    topicPolicyConfig={\n",
    "        'topicsConfig': [\n",
    "            {\n",
    "                'name': 'Fiduciary Advice',\n",
    "                'definition': 'Providing personalized advice or recommendations on managing financial assets, investments, or trusts in a fiduciary capacity or assuming related obligations and liabilities.',\n",
    "                'examples': [\n",
    "                    'What stocks should I invest in for my retirement?',\n",
    "                    'Is it a good idea to put my money in a mutual fund?',\n",
    "                    'How should I allocate my 401(k) investments?',\n",
    "                    'What type of trust fund should I set up for my children?',\n",
    "                    'Should I hire a financial advisor to manage my investments?'\n",
    "                ],\n",
    "                'type': 'DENY'\n",
    "            }\n",
    "        ]\n",
    "    },\n",
    "    contentPolicyConfig={\n",
    "        'filtersConfig': [\n",
    "            {\n",
    "                'type': 'SEXUAL',\n",
    "                'inputStrength': 'HIGH',\n",
    "                'outputStrength': 'HIGH'\n",
    "            },\n",
    "            {\n",
    "                'type': 'VIOLENCE',\n",
    "                'inputStrength': 'HIGH',\n",
    "                'outputStrength': 'HIGH'\n",
    "            },\n",
    "            {\n",
    "                'type': 'HATE',\n",
    "                'inputStrength': 'HIGH',\n",
    "                'outputStrength': 'HIGH'\n",
    "            },\n",
    "            {\n",
    "                'type': 'INSULTS',\n",
    "                'inputStrength': 'HIGH',\n",
    "                'outputStrength': 'HIGH'\n",
    "            },\n",
    "            {\n",
    "                'type': 'MISCONDUCT',\n",
    "                'inputStrength': 'HIGH',\n",
    "                'outputStrength': 'HIGH'\n",
    "            },\n",
    "            {\n",
    "                'type': 'PROMPT_ATTACK',\n",
    "                'inputStrength': 'HIGH',\n",
    "                'outputStrength': 'NONE'\n",
    "            }\n",
    "        ]\n",
    "    },\n",
    "    wordPolicyConfig={\n",
    "        'wordsConfig': [\n",
    "            {'text': 'fiduciary advice'},\n",
    "            {'text': 'investment recommendations'},\n",
    "            {'text': 'stock picks'},\n",
    "            {'text': 'financial planning guidance'},\n",
    "            {'text': 'portfolio allocation advice'},\n",
    "            {'text': 'retirement fund suggestions'},\n",
    "            {'text': 'wealth management tips'},\n",
    "            {'text': 'trust fund setup'},\n",
    "            {'text': 'investment strategy'},\n",
    "            {'text': 'financial advisor recommendations'}\n",
    "        ],\n",
    "        'managedWordListsConfig': [\n",
    "            {\n",
    "                'type': 'PROFANITY'\n",
    "            }\n",
    "        ]\n",
    "    },\n",
    "    blockedInputMessaging='I apologize, but I am not able to provide fiduciary advice. For your privacy and security, please modify your input and try again without including any financial, or restricted details.',\n",
    "    blockedOutputsMessaging='I apologize, but I am not able to provide fiduciary advice. For your privacy and security, please modify your input and try again without including financial, or restricted details.',\n",
    ")\n",
    "\n",
    "# Print the response to get the guardrail ID\n",
    "print(\"Guardrail ID:\", response.get('guardrailId'))\n",
    "print(\"Guardrail ARN:\", response.get('guardrailArn'))\n",
    "\n",
    "# Store the guardrail ID for later use\n"
   ]
  },
  {
   "cell_type": "code",
   "execution_count": 6,
   "metadata": {},
   "outputs": [],
   "source": [
    "guardrail_id = response.get('guardrailId')\n",
    "guardrail_version = \"DRAFT\"  # Initial version is always 1"
   ]
  },
  {
   "cell_type": "markdown",
   "metadata": {},
   "source": [
    "### Testing the guardrail directly\n",
    "\n",
    "To verify that the guardrail works as expected, we will create the `test_guardrail` support function. this function will use the `apply_guardrail` method to safeguard the input text and provide information about any actions taken by the guardrail "
   ]
  },
  {
   "cell_type": "code",
   "execution_count": 7,
   "metadata": {},
   "outputs": [
    {
     "name": "stdout",
     "output_type": "stream",
     "text": [
      "Testing safe input:\n",
      "Action: NONE\n",
      "Action Reason: No action.\n",
      "Content INPUT blocked: False\n",
      "\n",
      "Testing input that should be blocked:\n",
      "Action: GUARDRAIL_INTERVENED\n",
      "Action Reason: Guardrail blocked.\n",
      "Content INPUT blocked: True\n",
      "Blocked topics: ['Fiduciary Advice']\n",
      "Modified content: I apologize, but I am not able to provide fiduciary advice. For your privacy and security, please modify your input and try again without including any financial, or restricted details.\n"
     ]
    },
    {
     "data": {
      "text/plain": [
       "{'ResponseMetadata': {'RequestId': '2b067bf3-4345-4357-922f-e42dd0137204',\n",
       "  'HTTPStatusCode': 200,\n",
       "  'HTTPHeaders': {'date': 'Fri, 15 Aug 2025 02:09:36 GMT',\n",
       "   'content-type': 'application/json',\n",
       "   'content-length': '1369',\n",
       "   'connection': 'keep-alive',\n",
       "   'x-amzn-requestid': '2b067bf3-4345-4357-922f-e42dd0137204'},\n",
       "  'RetryAttempts': 0},\n",
       " 'usage': {'topicPolicyUnits': 1,\n",
       "  'contentPolicyUnits': 1,\n",
       "  'wordPolicyUnits': 1,\n",
       "  'sensitiveInformationPolicyUnits': 0,\n",
       "  'sensitiveInformationPolicyFreeUnits': 0,\n",
       "  'contextualGroundingPolicyUnits': 0},\n",
       " 'action': 'GUARDRAIL_INTERVENED',\n",
       " 'actionReason': 'Guardrail blocked.',\n",
       " 'outputs': [{'text': 'I apologize, but I am not able to provide fiduciary advice. For your privacy and security, please modify your input and try again without including any financial, or restricted details.'}],\n",
       " 'assessments': [{'topicPolicy': {'topics': [{'name': 'Fiduciary Advice',\n",
       "      'type': 'DENY',\n",
       "      'action': 'BLOCKED',\n",
       "      'detected': True}]},\n",
       "   'invocationMetrics': {'guardrailProcessingLatency': 205,\n",
       "    'usage': {'topicPolicyUnits': 1,\n",
       "     'contentPolicyUnits': 1,\n",
       "     'wordPolicyUnits': 1,\n",
       "     'sensitiveInformationPolicyUnits': 0,\n",
       "     'sensitiveInformationPolicyFreeUnits': 0,\n",
       "     'contextualGroundingPolicyUnits': 0},\n",
       "    'guardrailCoverage': {'textCharacters': {'guarded': 49, 'total': 49}}}}],\n",
       " 'guardrailCoverage': {'textCharacters': {'guarded': 49, 'total': 49}}}"
      ]
     },
     "execution_count": 7,
     "metadata": {},
     "output_type": "execute_result"
    }
   ],
   "source": [
    "# Test function to check if input/output is blocked by guardrail\n",
    "def test_guardrail(text, source_type='INPUT'):\n",
    "      response = bedrock_runtime.apply_guardrail(\n",
    "          guardrailIdentifier=guardrail_id,\n",
    "          guardrailVersion=guardrail_version,\n",
    "          source=source_type,  # can be 'INPUT' or 'OUTPUT'\n",
    "          content=[{\"text\": {\"text\": text}}]\n",
    "      )\n",
    "\n",
    "      # New response format uses different fields\n",
    "      print(f\"Action: {response.get('action')}\")\n",
    "      print(f\"Action Reason: {response.get('actionReason', 'None')}\")\n",
    "\n",
    "      # Check if content was blocked\n",
    "      is_blocked = response.get('action') == 'GUARDRAIL_INTERVENED'\n",
    "      print(f\"Content {source_type} blocked: {is_blocked}\")\n",
    "\n",
    "      if is_blocked:\n",
    "          # Print topic policies that were triggered\n",
    "          assessments = response.get('assessments', [])\n",
    "          if assessments and 'topicPolicy' in assessments[0]:\n",
    "              print(\"Blocked topics:\", [topic.get('name') for topic in\n",
    "  assessments[0]['topicPolicy'].get('topics', [])\n",
    "                                       if topic.get('action') == 'BLOCKED'])\n",
    "\n",
    "          # Print the modified output if available\n",
    "          if 'outputs' in response and response['outputs']:\n",
    "              print(\"Modified content:\", response['outputs'][0].get('text', 'None'))\n",
    "\n",
    "      return response\n",
    "\n",
    "# Test some safe input\n",
    "print(\"Testing safe input:\")\n",
    "test_guardrail(\"Tell me about general financial literacy concepts.\")\n",
    "\n",
    "# Test input that should be blocked\n",
    "print(\"\\nTesting input that should be blocked:\")\n",
    "test_guardrail(\"What stocks should I invest in for my retirement?\")"
   ]
  },
  {
   "cell_type": "markdown",
   "metadata": {},
   "source": [
    "## Integrating with Strands Agent\n",
    "\n",
    "Now that we confirmed the guardrail is working as expected, let's integrate it the Amazon Bedrock Guardrail with a Strands Agent. This is done via the Bedrock Model object, by setting the `guardrail_id`, `guardrail_version` and `guardrail_trace`. Once the model object is created you can use it to create your agent. We will use a couple of custom tools in this agent: `get_customer_profile`, `list_customer_purchases`, `list_customer_tickets`, `update_customer_profile`. To see their implementation check the `customer_profile_tools.py` file"
   ]
  },
  {
   "cell_type": "code",
   "execution_count": 8,
   "metadata": {},
   "outputs": [
    {
     "data": {
      "text/plain": [
       "('wbuuhlf5f128', 'DRAFT')"
      ]
     },
     "execution_count": 8,
     "metadata": {},
     "output_type": "execute_result"
    }
   ],
   "source": [
    "guardrail_id, guardrail_version"
   ]
  },
  {
   "cell_type": "code",
   "execution_count": 10,
   "metadata": {},
   "outputs": [],
   "source": [
    "# Create a Bedrock model with guardrail configuration\n",
    "bedrock_model = BedrockModel(\n",
    "    model_id=\"apac.anthropic.claude-3-7-sonnet-20250219-v1:0\",\n",
    "    guardrail_id=guardrail_id,\n",
    "    guardrail_version=guardrail_version,\n",
    "    # Enable trace info for debugging\n",
    "    guardrail_trace=\"enabled\"\n",
    ")\n",
    "\n",
    "# Create agent with the guardrail-protected model\n",
    "agent = Agent(\n",
    "    system_prompt=\"You are a helpful assistant that provides customer support for retail products.\",\n",
    "    model=bedrock_model,\n",
    "    tools=[\n",
    "        get_customer_profile,\n",
    "        list_customer_purchases,\n",
    "        list_customer_tickets,\n",
    "        update_customer_profile\n",
    "    ]\n",
    ")"
   ]
  },
  {
   "cell_type": "markdown",
   "metadata": {},
   "source": [
    "### Testing the Strands Agent with Guardrails\n",
    "\n",
    "Let's test our agent with both safe and risky inputs. To do so we will process the agent's response and check if the `stop_reason` is due to a guardrail intervention."
   ]
  },
  {
   "cell_type": "code",
   "execution_count": 11,
   "metadata": {},
   "outputs": [],
   "source": [
    "# Helper function to test the agent and check for guardrail interventions\n",
    "def test_agent_with_guardrail(prompt):\n",
    "    print(f\"\\nUser: {prompt}\")\n",
    "\n",
    "    # Get agent response\n",
    "    response = agent(prompt)\n",
    "\n",
    "    # Check for guardrail intervention\n",
    "    if hasattr(response, 'stop_reason') and response.stop_reason == \"guardrail_intervened\":\n",
    "        print(\"\\n ⚠️ GUARDRAIL INTERVENED!\")\n",
    "        #print(f\"Response: {response}\")\n",
    "    else:\n",
    "        return response"
   ]
  },
  {
   "cell_type": "code",
   "execution_count": 12,
   "metadata": {},
   "outputs": [
    {
     "name": "stdout",
     "output_type": "stream",
     "text": [
      "\n",
      "User:  what is my latest purchase my Customer ID is CUST100?\n",
      "I'll help you find your latest purchase information using your Customer ID CUST100. Let me look that up for you right away.\n",
      "Tool #1: list_customer_purchases\n",
      "Based on your customer records, your latest purchase is:\n",
      "\n",
      "**Purchase Details:**\n",
      "- Product: SolarPanel Pro\n",
      "- Product Type: panel\n",
      "- Price: $1,200\n",
      "- Quantity: 1\n",
      "- Purchase Date: January 1, 2025\n",
      "\n",
      "This appears to be the only purchase in your record. Is there anything specific about this SolarPanel Pro purchase you'd like to know more about?"
     ]
    },
    {
     "data": {
      "text/plain": [
       "AgentResult(stop_reason='end_turn', message={'role': 'assistant', 'content': [{'text': \"Based on your customer records, your latest purchase is:\\n\\n**Purchase Details:**\\n- Product: SolarPanel Pro\\n- Product Type: panel\\n- Price: $1,200\\n- Quantity: 1\\n- Purchase Date: January 1, 2025\\n\\nThis appears to be the only purchase in your record. Is there anything specific about this SolarPanel Pro purchase you'd like to know more about?\"}]}, metrics=EventLoopMetrics(cycle_count=2, tool_metrics={'list_customer_purchases': ToolMetrics(tool={'toolUseId': 'tooluse_zchjmmpDT6aw6Awk6PhGAg', 'name': 'list_customer_purchases', 'input': {'customer_id': 'CUST100'}}, call_count=1, success_count=1, error_count=0, total_time=0.00045990943908691406)}, cycle_durations=[3.9230291843414307], traces=[<strands.telemetry.metrics.Trace object at 0x0000026E4E1417F0>, <strands.telemetry.metrics.Trace object at 0x0000026E4E8F88A0>], accumulated_usage={'inputTokens': 2094, 'outputTokens': 181, 'totalTokens': 2275}, accumulated_metrics={'latencyMs': 7015}), state={})"
      ]
     },
     "execution_count": 12,
     "metadata": {},
     "output_type": "execute_result"
    }
   ],
   "source": [
    "# Test with a safe question \n",
    "test_agent_with_guardrail(\n",
    "    \" what is my latest purchase my Customer ID is CUST100?\"\n",
    ")"
   ]
  },
  {
   "cell_type": "code",
   "execution_count": 13,
   "metadata": {},
   "outputs": [
    {
     "name": "stdout",
     "output_type": "stream",
     "text": [
      "\n",
      "User: My SSN is 123-45-6789. Can you help me understand how to protect my retirement account?\n",
      "I apologize, but I am not able to provide fiduciary advice. For your privacy and security, please modify your input and try again without including any financial, or restricted details.\n",
      " ⚠️ GUARDRAIL INTERVENED!\n"
     ]
    }
   ],
   "source": [
    "# Test with a question that asks about investment recommendation, or hate or violence\n",
    "test_agent_with_guardrail(\n",
    "    \"My SSN is 123-45-6789. Can you help me understand how to protect my retirement account?\"\n",
    ")"
   ]
  },
  {
   "cell_type": "markdown",
   "metadata": {},
   "source": [
    "## Inspecting Conversation History\n",
    "\n",
    "Let's examine the conversation history to see how guardrails affected it:"
   ]
  },
  {
   "cell_type": "code",
   "execution_count": 14,
   "metadata": {},
   "outputs": [
    {
     "name": "stdout",
     "output_type": "stream",
     "text": [
      "Conversation history: [\n",
      "    {\n",
      "        \"role\": \"user\",\n",
      "        \"content\": [\n",
      "            {\n",
      "                \"text\": \" what is my latest purchase my Customer ID is CUST100?\"\n",
      "            }\n",
      "        ]\n",
      "    },\n",
      "    {\n",
      "        \"role\": \"assistant\",\n",
      "        \"content\": [\n",
      "            {\n",
      "                \"text\": \"I'll help you find your latest purchase information using your Customer ID CUST100. Let me look that up for you right away.\"\n",
      "            },\n",
      "            {\n",
      "                \"toolUse\": {\n",
      "                    \"toolUseId\": \"tooluse_zchjmmpDT6aw6Awk6PhGAg\",\n",
      "                    \"name\": \"list_customer_purchases\",\n",
      "                    \"input\": {\n",
      "                        \"customer_id\": \"CUST100\"\n",
      "                    }\n",
      "                }\n",
      "            }\n",
      "        ]\n",
      "    },\n",
      "    {\n",
      "        \"role\": \"user\",\n",
      "        \"content\": [\n",
      "            {\n",
      "                \"toolResult\": {\n",
      "                    \"toolUseId\": \"tooluse_zchjmmpDT6aw6Awk6PhGAg\",\n",
      "                    \"status\": \"success\",\n",
      "                    \"content\": [\n",
      "                        {\n",
      "                            \"text\": \"[{'purchase_id': 'PUR1000', 'product_name': 'SolarPanel Pro', 'product_type': 'panel', 'price': 1200, 'quantity': 1, 'purchase_date': '2025-01-01T10:42:48.613846'}]\"\n",
      "                        }\n",
      "                    ]\n",
      "                }\n",
      "            }\n",
      "        ]\n",
      "    },\n",
      "    {\n",
      "        \"role\": \"assistant\",\n",
      "        \"content\": [\n",
      "            {\n",
      "                \"text\": \"Based on your customer records, your latest purchase is:\\n\\n**Purchase Details:**\\n- Product: SolarPanel Pro\\n- Product Type: panel\\n- Price: $1,200\\n- Quantity: 1\\n- Purchase Date: January 1, 2025\\n\\nThis appears to be the only purchase in your record. Is there anything specific about this SolarPanel Pro purchase you'd like to know more about?\"\n",
      "            }\n",
      "        ]\n",
      "    },\n",
      "    {\n",
      "        \"role\": \"user\",\n",
      "        \"content\": [\n",
      "            {\n",
      "                \"text\": \"[User input redacted.]\"\n",
      "            }\n",
      "        ]\n",
      "    },\n",
      "    {\n",
      "        \"role\": \"assistant\",\n",
      "        \"content\": [\n",
      "            {\n",
      "                \"text\": \"I apologize, but I am not able to provide fiduciary advice. For your privacy and security, please modify your input and try again without including any financial, or restricted details.\"\n",
      "            }\n",
      "        ]\n",
      "    }\n",
      "]\n"
     ]
    }
   ],
   "source": [
    "# Print the conversation history\n",
    "print(f\"Conversation history: {json.dumps(agent.messages, indent=4)}\")"
   ]
  },
  {
   "cell_type": "markdown",
   "metadata": {},
   "source": [
    "## Integrating Bedrock guardrails to a chatbot \n",
    "\n",
    "Amazon Bedrock provides a built-in guardrails framework that integrates directly with Strands Agents SDK. If a guardrail is triggered, the Strands Agents SDK will automatically overwrite the users input in conversation history. This is done so that follow-up questions are not also blocked by the same questions. This can be configured with the guardrail_redact_input boolean, and the guardrail_redact_input_message string to chage the overwrite message. Additionally, the same functionality is built for the model's output, but this is disabled by default. You can enable this with the guardrail_redact_output boolean, and change the overwrite message with the guardrail_redact_output_message string. Below is an example of how to leverage Bedrock guardrails in your code:"
   ]
  },
  {
   "cell_type": "code",
   "execution_count": 15,
   "metadata": {},
   "outputs": [],
   "source": [
    "bedrock_model = BedrockModel(\n",
    "    model_id=\"apac.anthropic.claude-3-7-sonnet-20250219-v1:0\",\n",
    "    guardrail_id=guardrail_id,         # Your Bedrock guardrail ID\n",
    "    guardrail_version=guardrail_version,             # Guardrail version\n",
    "    guardrail_trace=\"enabled\",\n",
    "    guardrail_redact_output = True,        \n",
    "    guardrail_redact_input = True,\n",
    "    guardrail_redact_input_message = \"Guardrail Intervened and Redacted\"     \n",
    ")\n",
    "\n",
    "# Create agent with the guardrail-protected model\n",
    "agent = Agent(\n",
    "    system_prompt=\"You are a helpful assistant that provides customer support for retail products.\",\n",
    "    model=bedrock_model,\n",
    "    tools=[\n",
    "        get_customer_profile,\n",
    "        list_customer_purchases,\n",
    "        list_customer_tickets,\n",
    "        update_customer_profile\n",
    "    ]\n",
    ")"
   ]
  },
  {
   "cell_type": "code",
   "execution_count": 16,
   "metadata": {},
   "outputs": [
    {
     "name": "stdout",
     "output_type": "stream",
     "text": [
      "I'll help you retrieve the data for customer ID CUST100. Let me look up that customer's information for you.\n",
      "Tool #1: get_customer_profile\n",
      "I'll also check for any additional purchase history and support tickets for this customer:\n",
      "Tool #2: list_customer_purchases\n",
      "\n",
      "Tool #3: list_customer_tickets\n",
      "## Customer Profile: CUST100\n",
      "\n",
      "Here is the data for customer ID CUST100:\n",
      "\n",
      "### Basic Information:\n",
      "- Name: Customer 1\n",
      "- Email: customer1@example.com\n",
      "- Location: California, USA\n",
      "- Account Created: August 14, 2025\n",
      "- Last Updated: August 14, 2025\n",
      "\n",
      "### Preferences:\n",
      "- Contact Preference: Email\n",
      "- Newsletter Subscription: Yes\n",
      "- Maintenance Reminder: Yes\n",
      "\n",
      "### Purchase History:\n",
      "- Purchase ID: PUR1000\n",
      "- Product: SolarPanel Pro (panel)\n",
      "- Price: $1,200\n",
      "- Quantity: 1\n",
      "- Purchase Date: January 1, 2025\n",
      "\n",
      "### Support Tickets:\n",
      "- No support tickets found for this customer.\n",
      "\n",
      "Is there any specific aspect of this customer's information you'd like me to elaborate on?"
     ]
    },
    {
     "data": {
      "text/plain": [
       "AgentResult(stop_reason='end_turn', message={'role': 'assistant', 'content': [{'text': \"## Customer Profile: CUST100\\n\\nHere is the data for customer ID CUST100:\\n\\n### Basic Information:\\n- Name: Customer 1\\n- Email: customer1@example.com\\n- Location: California, USA\\n- Account Created: August 14, 2025\\n- Last Updated: August 14, 2025\\n\\n### Preferences:\\n- Contact Preference: Email\\n- Newsletter Subscription: Yes\\n- Maintenance Reminder: Yes\\n\\n### Purchase History:\\n- Purchase ID: PUR1000\\n- Product: SolarPanel Pro (panel)\\n- Price: $1,200\\n- Quantity: 1\\n- Purchase Date: January 1, 2025\\n\\n### Support Tickets:\\n- No support tickets found for this customer.\\n\\nIs there any specific aspect of this customer's information you'd like me to elaborate on?\"}]}, metrics=EventLoopMetrics(cycle_count=4, tool_metrics={'get_customer_profile': ToolMetrics(tool={'toolUseId': 'tooluse_rSBsFPQ1QxO8BsC8EhY5FQ', 'name': 'get_customer_profile', 'input': {'customer_id': 'CUST100'}}, call_count=1, success_count=1, error_count=0, total_time=0.0007977485656738281), 'list_customer_purchases': ToolMetrics(tool={'toolUseId': 'tooluse_79zt8SPgRBWCjiLje77pww', 'name': 'list_customer_purchases', 'input': {'customer_id': 'CUST100'}}, call_count=1, success_count=1, error_count=0, total_time=0.00040459632873535156), 'list_customer_tickets': ToolMetrics(tool={'toolUseId': 'tooluse_tjjr_Qe8RQCL07kCyaD2_w', 'name': 'list_customer_tickets', 'input': {'customer_id': 'CUST100'}}, call_count=1, success_count=1, error_count=0, total_time=0.00039386749267578125)}, cycle_durations=[5.3126349449157715], traces=[<strands.telemetry.metrics.Trace object at 0x0000026E4EC62850>, <strands.telemetry.metrics.Trace object at 0x0000026E4D993930>, <strands.telemetry.metrics.Trace object at 0x0000026E4E8ECA10>, <strands.telemetry.metrics.Trace object at 0x0000026E4E8BF750>], accumulated_usage={'inputTokens': 5165, 'outputTokens': 418, 'totalTokens': 5583}, accumulated_metrics={'latencyMs': 13269}), state={})"
      ]
     },
     "execution_count": 16,
     "metadata": {},
     "output_type": "execute_result"
    }
   ],
   "source": [
    "# Test a safe question for the customer support Agent\n",
    "agent(f\"what is the data from customer_id {sample_profile.customer_id}?\")"
   ]
  },
  {
   "cell_type": "code",
   "execution_count": 17,
   "metadata": {},
   "outputs": [
    {
     "name": "stdout",
     "output_type": "stream",
     "text": [
      "I apologize, but I am not able to provide fiduciary advice. For your privacy and security, please modify your input and try again without including any financial, or restricted details."
     ]
    },
    {
     "data": {
      "text/plain": [
       "AgentResult(stop_reason='guardrail_intervened', message={'role': 'assistant', 'content': [{'text': '[Assistant output redacted.]'}]}, metrics=EventLoopMetrics(cycle_count=5, tool_metrics={'get_customer_profile': ToolMetrics(tool={'toolUseId': 'tooluse_rSBsFPQ1QxO8BsC8EhY5FQ', 'name': 'get_customer_profile', 'input': {'customer_id': 'CUST100'}}, call_count=1, success_count=1, error_count=0, total_time=0.0007977485656738281), 'list_customer_purchases': ToolMetrics(tool={'toolUseId': 'tooluse_79zt8SPgRBWCjiLje77pww', 'name': 'list_customer_purchases', 'input': {'customer_id': 'CUST100'}}, call_count=1, success_count=1, error_count=0, total_time=0.00040459632873535156), 'list_customer_tickets': ToolMetrics(tool={'toolUseId': 'tooluse_tjjr_Qe8RQCL07kCyaD2_w', 'name': 'list_customer_tickets', 'input': {'customer_id': 'CUST100'}}, call_count=1, success_count=1, error_count=0, total_time=0.00039386749267578125)}, cycle_durations=[5.3126349449157715, 0.3662698268890381], traces=[<strands.telemetry.metrics.Trace object at 0x0000026E4EC62850>, <strands.telemetry.metrics.Trace object at 0x0000026E4D993930>, <strands.telemetry.metrics.Trace object at 0x0000026E4E8ECA10>, <strands.telemetry.metrics.Trace object at 0x0000026E4E8BF750>, <strands.telemetry.metrics.Trace object at 0x0000026E4E8BFED0>], accumulated_usage={'inputTokens': 5165, 'outputTokens': 418, 'totalTokens': 5583}, accumulated_metrics={'latencyMs': 13608}), state={})"
      ]
     },
     "execution_count": 17,
     "metadata": {},
     "output_type": "execute_result"
    }
   ],
   "source": [
    "# Test with user input in which guadrail is intervened and input is redacted with custom message \n",
    "agent(\"How should I allocate my 401(k) investments?\")"
   ]
  },
  {
   "cell_type": "markdown",
   "metadata": {},
   "source": [
    "The custom message for the redacted input is stored in the conversation history like this :"
   ]
  },
  {
   "cell_type": "code",
   "execution_count": 18,
   "metadata": {},
   "outputs": [
    {
     "name": "stdout",
     "output_type": "stream",
     "text": [
      "Conversation history: [\n",
      "    {\n",
      "        \"role\": \"user\",\n",
      "        \"content\": [\n",
      "            {\n",
      "                \"text\": \"what is the data from customer_id CUST100?\"\n",
      "            }\n",
      "        ]\n",
      "    },\n",
      "    {\n",
      "        \"role\": \"assistant\",\n",
      "        \"content\": [\n",
      "            {\n",
      "                \"text\": \"I'll help you retrieve the data for customer ID CUST100. Let me look up that customer's information for you.\"\n",
      "            },\n",
      "            {\n",
      "                \"toolUse\": {\n",
      "                    \"toolUseId\": \"tooluse_rSBsFPQ1QxO8BsC8EhY5FQ\",\n",
      "                    \"name\": \"get_customer_profile\",\n",
      "                    \"input\": {\n",
      "                        \"customer_id\": \"CUST100\"\n",
      "                    }\n",
      "                }\n",
      "            }\n",
      "        ]\n",
      "    },\n",
      "    {\n",
      "        \"role\": \"user\",\n",
      "        \"content\": [\n",
      "            {\n",
      "                \"toolResult\": {\n",
      "                    \"toolUseId\": \"tooluse_rSBsFPQ1QxO8BsC8EhY5FQ\",\n",
      "                    \"status\": \"success\",\n",
      "                    \"content\": [\n",
      "                        {\n",
      "                            \"text\": \"{'customer_id': 'CUST100', 'name': 'Customer 1', 'email': 'customer1@example.com', 'country': 'USA', 'state': 'California', 'purchase_history': [{'purchase_id': 'PUR1000', 'product_name': 'SolarPanel Pro', 'product_type': 'panel', 'price': 1200, 'quantity': 1, 'purchase_date': '2025-01-01T10:42:48.613846'}], 'support_tickets': [], 'preferences': {'contact_preference': 'email', 'newsletter': True, 'maintenance_reminder': True}, 'created_at': '2025-08-14T10:42:48.613885', 'updated_at': '2025-08-14T10:42:48.613887'}\"\n",
      "                        }\n",
      "                    ]\n",
      "                }\n",
      "            }\n",
      "        ]\n",
      "    },\n",
      "    {\n",
      "        \"role\": \"assistant\",\n",
      "        \"content\": [\n",
      "            {\n",
      "                \"text\": \"I'll also check for any additional purchase history and support tickets for this customer:\"\n",
      "            },\n",
      "            {\n",
      "                \"toolUse\": {\n",
      "                    \"toolUseId\": \"tooluse_79zt8SPgRBWCjiLje77pww\",\n",
      "                    \"name\": \"list_customer_purchases\",\n",
      "                    \"input\": {\n",
      "                        \"customer_id\": \"CUST100\"\n",
      "                    }\n",
      "                }\n",
      "            }\n",
      "        ]\n",
      "    },\n",
      "    {\n",
      "        \"role\": \"user\",\n",
      "        \"content\": [\n",
      "            {\n",
      "                \"toolResult\": {\n",
      "                    \"toolUseId\": \"tooluse_79zt8SPgRBWCjiLje77pww\",\n",
      "                    \"status\": \"success\",\n",
      "                    \"content\": [\n",
      "                        {\n",
      "                            \"text\": \"[{'purchase_id': 'PUR1000', 'product_name': 'SolarPanel Pro', 'product_type': 'panel', 'price': 1200, 'quantity': 1, 'purchase_date': '2025-01-01T10:42:48.613846'}]\"\n",
      "                        }\n",
      "                    ]\n",
      "                }\n",
      "            }\n",
      "        ]\n",
      "    },\n",
      "    {\n",
      "        \"role\": \"assistant\",\n",
      "        \"content\": [\n",
      "            {\n",
      "                \"toolUse\": {\n",
      "                    \"toolUseId\": \"tooluse_tjjr_Qe8RQCL07kCyaD2_w\",\n",
      "                    \"name\": \"list_customer_tickets\",\n",
      "                    \"input\": {\n",
      "                        \"customer_id\": \"CUST100\"\n",
      "                    }\n",
      "                }\n",
      "            }\n",
      "        ]\n",
      "    },\n",
      "    {\n",
      "        \"role\": \"user\",\n",
      "        \"content\": [\n",
      "            {\n",
      "                \"toolResult\": {\n",
      "                    \"toolUseId\": \"tooluse_tjjr_Qe8RQCL07kCyaD2_w\",\n",
      "                    \"status\": \"success\",\n",
      "                    \"content\": [\n",
      "                        {\n",
      "                            \"text\": \"[]\"\n",
      "                        }\n",
      "                    ]\n",
      "                }\n",
      "            }\n",
      "        ]\n",
      "    },\n",
      "    {\n",
      "        \"role\": \"assistant\",\n",
      "        \"content\": [\n",
      "            {\n",
      "                \"text\": \"## Customer Profile: CUST100\\n\\nHere is the data for customer ID CUST100:\\n\\n### Basic Information:\\n- Name: Customer 1\\n- Email: customer1@example.com\\n- Location: California, USA\\n- Account Created: August 14, 2025\\n- Last Updated: August 14, 2025\\n\\n### Preferences:\\n- Contact Preference: Email\\n- Newsletter Subscription: Yes\\n- Maintenance Reminder: Yes\\n\\n### Purchase History:\\n- Purchase ID: PUR1000\\n- Product: SolarPanel Pro (panel)\\n- Price: $1,200\\n- Quantity: 1\\n- Purchase Date: January 1, 2025\\n\\n### Support Tickets:\\n- No support tickets found for this customer.\\n\\nIs there any specific aspect of this customer's information you'd like me to elaborate on?\"\n",
      "            }\n",
      "        ]\n",
      "    },\n",
      "    {\n",
      "        \"role\": \"user\",\n",
      "        \"content\": [\n",
      "            {\n",
      "                \"text\": \"Guardrail Intervened and Redacted\"\n",
      "            }\n",
      "        ]\n",
      "    },\n",
      "    {\n",
      "        \"role\": \"assistant\",\n",
      "        \"content\": [\n",
      "            {\n",
      "                \"text\": \"[Assistant output redacted.]\"\n",
      "            }\n",
      "        ]\n",
      "    }\n",
      "]\n"
     ]
    }
   ],
   "source": [
    "print(f\"Conversation history: {json.dumps(agent.messages, indent=4)}\")"
   ]
  },
  {
   "cell_type": "markdown",
   "metadata": {},
   "source": [
    "## Clean up \n",
    "\n",
    "Please delete the guardrail as follows :"
   ]
  },
  {
   "cell_type": "code",
   "execution_count": 19,
   "metadata": {},
   "outputs": [
    {
     "data": {
      "text/plain": [
       "{'ResponseMetadata': {'RequestId': 'ec15f3e9-f3d4-4851-917b-706773101889',\n",
       "  'HTTPStatusCode': 202,\n",
       "  'HTTPHeaders': {'date': 'Fri, 15 Aug 2025 02:17:13 GMT',\n",
       "   'content-type': 'application/json',\n",
       "   'content-length': '2',\n",
       "   'connection': 'keep-alive',\n",
       "   'x-amzn-requestid': 'ec15f3e9-f3d4-4851-917b-706773101889'},\n",
       "  'RetryAttempts': 0}}"
      ]
     },
     "execution_count": 19,
     "metadata": {},
     "output_type": "execute_result"
    }
   ],
   "source": [
    "bedrock_client.delete_guardrail(guardrailIdentifier=guardrail_id)"
   ]
  },
  {
   "cell_type": "markdown",
   "metadata": {},
   "source": [
    "## Congratulations!\n",
    "\n",
    "In this notebook, we demonstrated how to:\n",
    "\n",
    "1. Create an Amazon Bedrock guardrail that prevents providing financial advice\n",
    "2. Test the guardrail directly using the Bedrock Runtime API\n",
    "3. Integrate the guardrail with a Strands agent\n",
    "4. Test the agent with various inputs to see the guardrail in action\n",
    "5. Integrate bedrock guardrails in a chatbot with Strands agent.\n",
    "5. Delete the Guardrail\n",
    "\n",
    "Guardrails help in keeping AI responses remain safe, compliant, and appropriate for your use case.\n"
   ]
  }
 ],
 "metadata": {
  "kernelspec": {
   "display_name": "TraiEnv",
   "language": "python",
   "name": "venv"
  },
  "language_info": {
   "codemirror_mode": {
    "name": "ipython",
    "version": 3
   },
   "file_extension": ".py",
   "mimetype": "text/x-python",
   "name": "python",
   "nbconvert_exporter": "python",
   "pygments_lexer": "ipython3",
   "version": "3.13.7"
  }
 },
 "nbformat": 4,
 "nbformat_minor": 4
}
