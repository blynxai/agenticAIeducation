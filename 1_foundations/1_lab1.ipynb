{
 "cells": [
  {
   "cell_type": "markdown",
   "metadata": {},
   "source": [
    "# Welcome to the start of your adventure in Agentic AI"
   ]
  },
  {
   "cell_type": "markdown",
   "metadata": {},
   "source": [
    "<table style=\"margin: 0; text-align: left; width:100%\">\n",
    "    <tr>\n",
    "        <td style=\"width: 150px; height: 150px; vertical-align: middle;\">\n",
    "            <img src=\"../assets/stop.png\"  width=\"150\" height=\"150\" style=\"display: block;\" />\n",
    "        </td>\n",
    "        <td>\n",
    "            <h2 style=\"color:#9ac1e6;\">Are you ready for action??</h2>\n",
    "            <span style=\"color:#9ac1e6;\">Have you completed all the setup steps in the <a href=\"../setup/\">setup</a> folder?<br/>\n",
    "            Have you checked out the guides in the <a href=\"../guides/01_intro.ipynb\">guides</a> folder?<br/>\n",
    "            Well in that case, you're ready!!\n",
    "            </span>\n",
    "        </td>\n",
    "    </tr>\n",
    "</table>"
   ]
  },
  {
   "cell_type": "markdown",
   "metadata": {},
   "source": [
    "<table style=\"margin: 0; text-align: left; width:100%\">\n",
    "    <tr>\n",
    "        <td style=\"width: 150px; height: 150px; vertical-align: middle;\">\n",
    "            <img src=\"../assets/livingresource.png\" width=\"150\" height=\"150\" style=\"display: block;\" />\n",
    "        </td>\n",
    "        <td>\n",
    "            <h2 style=\"color:#9ac1e6;\">This code is a live resource - I may be making updates to this resource based on recent developments</h2>\n",
    "            <span style=\"color:#9ac1e6;\">Please feel free to use this Jupyter Notebook as a living resource. If you have any questions please don't hesitate to reach out. I also push updates regularly to GitHub. </span>\n",
    "        </td>\n",
    "    </tr>\n",
    "</table>"
   ]
  },
  {
   "cell_type": "markdown",
   "metadata": {},
   "source": [
    "### And please do remember to contact me if I can help\n",
    "\n",
    "Mike Nedelko: mike@syncopy.ai\n",
    "\n",
    "\n",
    "### New to Notebooks like this one? Head over to the guides folder!\n",
    "\n",
    "Just to check you've already added the Python and Jupyter extensions to Cursor, if not already installed:\n",
    "- Open extensions (View >> extensions)\n",
    "- Search for python, and when the results show, click on the ms-python one, and Install it if not already installed\n",
    "- Search for jupyter, and when the results show, click on the Microsoft one, and Install it if not already installed  \n",
    "Then View >> Explorer to bring back the File Explorer.\n",
    "\n",
    "And then:\n",
    "1. Click where it says \"Select Kernel\" near the top right, and select the option called `.venv (Python 3.12.9)` or similar, which should be the first choice or the most prominent choice. You may need to choose \"Python Environments\" first.\n",
    "2. Click in each \"cell\" below, starting with the cell immediately below this text, and press Shift+Enter to run\n",
    "3. Enjoy!\n",
    "\n",
    "After you click \"Select Kernel\", if there is no option like `.venv (Python 3.12.9)` then please do the following:  \n",
    "1. On Mac: From the Cursor menu, choose Settings >> VS Code Settings (NOTE: be sure to select `VSCode Settings` not `Cursor Settings`);  \n",
    "On Windows PC: From the File menu, choose Preferences >> VS Code Settings(NOTE: be sure to select `VSCode Settings` not `Cursor Settings`)  \n",
    "2. In the Settings search bar, type \"venv\"  \n",
    "3. In the field \"Path to folder with a list of Virtual Environments\" put the path to the project root, like C:\\Users\\username\\projects\\agents (on a Windows PC) or /Users/username/projects/agents (on Mac or Linux).  \n",
    "And then try again.\n",
    "\n",
    "Having problems with missing Python versions in that list? Have you ever used Anaconda before? It might be interferring. Quit Cursor, bring up a new command line, and make sure that your Anaconda environment is deactivated:    \n",
    "`conda deactivate`  \n",
    "And if you still have any problems with conda and python versions, it's possible that you will need to run this too:  \n",
    "`conda config --set auto_activate_base false`  \n",
    "and then from within the Agents directory, you should be able to run `uv python list` and see the Python 3.12 version."
   ]
  },
  {
   "cell_type": "code",
   "execution_count": 1,
   "metadata": {},
   "outputs": [],
   "source": [
    "# First let's do an import\n",
    "from dotenv import load_dotenv\n"
   ]
  },
  {
   "cell_type": "code",
   "execution_count": 2,
   "metadata": {},
   "outputs": [
    {
     "data": {
      "text/plain": [
       "True"
      ]
     },
     "execution_count": 2,
     "metadata": {},
     "output_type": "execute_result"
    }
   ],
   "source": [
    "# Next it's time to load the API keys into environment variables\n",
    "\n",
    "load_dotenv(override=True)"
   ]
  },
  {
   "cell_type": "code",
   "execution_count": 3,
   "metadata": {},
   "outputs": [
    {
     "name": "stdout",
     "output_type": "stream",
     "text": [
      "OpenAI API Key exists and begins sk-proj-\n"
     ]
    }
   ],
   "source": [
    "# Check the keys\n",
    "\n",
    "import os\n",
    "openai_api_key = os.getenv('OPENAI_API_KEY')\n",
    "\n",
    "if openai_api_key:\n",
    "    print(f\"OpenAI API Key exists and begins {openai_api_key[:8]}\")\n",
    "else:\n",
    "    print(\"OpenAI API Key not set - please head to the troubleshooting guide in the setup folder\")\n",
    "    \n"
   ]
  },
  {
   "cell_type": "code",
   "execution_count": 4,
   "metadata": {},
   "outputs": [],
   "source": [
    "# And now - the all important import statement\n",
    "# If you get an import error - head over to troubleshooting guide\n",
    "\n",
    "from openai import OpenAI"
   ]
  },
  {
   "cell_type": "code",
   "execution_count": 5,
   "metadata": {},
   "outputs": [],
   "source": [
    "# And now we'll create an instance of the OpenAI class\n",
    "# If you're not sure what it means to create an instance of a class - head over to the guides folder!\n",
    "# If you get a NameError - head over to the guides folder to learn about NameErrors\n",
    "\n",
    "openai = OpenAI()"
   ]
  },
  {
   "cell_type": "code",
   "execution_count": 6,
   "metadata": {},
   "outputs": [],
   "source": [
    "# Create a list of messages in the familiar OpenAI format\n",
    "\n",
    "messages = [{\"role\": \"user\", \"content\": \"What is 2+2?\"}]"
   ]
  },
  {
   "cell_type": "code",
   "execution_count": 7,
   "metadata": {},
   "outputs": [
    {
     "name": "stdout",
     "output_type": "stream",
     "text": [
      "2 + 2 equals 4.\n"
     ]
    }
   ],
   "source": [
    "# And now call it! Any problems, head to the troubleshooting guide\n",
    "# This uses GPT 4.1 nano, the incredibly cheap model\n",
    "\n",
    "response = openai.chat.completions.create(\n",
    "    model=\"gpt-4.1-nano\",\n",
    "    messages=messages\n",
    ")\n",
    "\n",
    "print(response.choices[0].message.content)\n"
   ]
  },
  {
   "cell_type": "code",
   "execution_count": 8,
   "metadata": {},
   "outputs": [],
   "source": [
    "# And now - let's ask for a question:\n",
    "\n",
    "question = \"Please propose a hard, challenging question to assess someone's IQ. Respond only with the question.\"\n",
    "messages = [{\"role\": \"user\", \"content\": question}]\n"
   ]
  },
  {
   "cell_type": "code",
   "execution_count": 9,
   "metadata": {},
   "outputs": [
    {
     "name": "stdout",
     "output_type": "stream",
     "text": [
      "A bat and a ball cost $1.10 in total. The bat costs $1.00 more than the ball. How much does the ball cost?\n"
     ]
    }
   ],
   "source": [
    "# ask it - this uses GPT 4.1 mini, still cheap but more powerful than nano\n",
    "\n",
    "response = openai.chat.completions.create(\n",
    "    model=\"gpt-4.1-mini\",\n",
    "    messages=messages\n",
    ")\n",
    "\n",
    "question = response.choices[0].message.content\n",
    "\n",
    "print(question)\n"
   ]
  },
  {
   "cell_type": "code",
   "execution_count": 10,
   "metadata": {},
   "outputs": [],
   "source": [
    "# form a new messages list\n",
    "messages = [{\"role\": \"user\", \"content\": question}]\n"
   ]
  },
  {
   "cell_type": "code",
   "execution_count": 11,
   "metadata": {},
   "outputs": [
    {
     "name": "stdout",
     "output_type": "stream",
     "text": [
      "Let's denote the cost of the ball as \\( x \\).\n",
      "\n",
      "- The bat costs \\( x + 1.00 \\) (since it's $1.00 more than the ball).\n",
      "- The total cost is \\( x + (x + 1.00) = 1.10 \\).\n",
      "\n",
      "Set up the equation:\n",
      "\n",
      "\\[\n",
      "2x + 1.00 = 1.10\n",
      "\\]\n",
      "\n",
      "Subtract 1.00 from both sides:\n",
      "\n",
      "\\[\n",
      "2x = 0.10\n",
      "\\]\n",
      "\n",
      "Divide both sides by 2:\n",
      "\n",
      "\\[\n",
      "x = 0.05\n",
      "\\]\n",
      "\n",
      "**Answer:**\n",
      "\n",
      "The ball costs **5 cents**.\n"
     ]
    }
   ],
   "source": [
    "# Ask it again\n",
    "\n",
    "response = openai.chat.completions.create(\n",
    "    model=\"gpt-4.1-mini\",\n",
    "    messages=messages\n",
    ")\n",
    "\n",
    "answer = response.choices[0].message.content\n",
    "print(answer)\n"
   ]
  },
  {
   "cell_type": "code",
   "execution_count": 12,
   "metadata": {},
   "outputs": [
    {
     "data": {
      "text/markdown": [
       "Let's denote the cost of the ball as \\( x \\).\n",
       "\n",
       "- The bat costs \\( x + 1.00 \\) (since it's $1.00 more than the ball).\n",
       "- The total cost is \\( x + (x + 1.00) = 1.10 \\).\n",
       "\n",
       "Set up the equation:\n",
       "\n",
       "\\[\n",
       "2x + 1.00 = 1.10\n",
       "\\]\n",
       "\n",
       "Subtract 1.00 from both sides:\n",
       "\n",
       "\\[\n",
       "2x = 0.10\n",
       "\\]\n",
       "\n",
       "Divide both sides by 2:\n",
       "\n",
       "\\[\n",
       "x = 0.05\n",
       "\\]\n",
       "\n",
       "**Answer:**\n",
       "\n",
       "The ball costs **5 cents**."
      ],
      "text/plain": [
       "<IPython.core.display.Markdown object>"
      ]
     },
     "metadata": {},
     "output_type": "display_data"
    }
   ],
   "source": [
    "from IPython.display import Markdown, display\n",
    "\n",
    "display(Markdown(answer))\n",
    "\n"
   ]
  },
  {
   "cell_type": "markdown",
   "metadata": {},
   "source": [
    "# Congratulations!\n",
    "\n",
    "That was a small, simple step in the direction of Agentic AI, with your new environment!\n",
    "\n",
    "Next time things get more interesting..."
   ]
  },
  {
   "cell_type": "markdown",
   "metadata": {},
   "source": [
    "<table style=\"margin: 0; text-align: left; width:100%\">\n",
    "    <tr>\n",
    "        <td style=\"width: 150px; height: 150px; vertical-align: middle;\">\n",
    "            <img src=\"../assets/exercise.png\" width=\"150\" height=\"150\" style=\"display: block;\" />\n",
    "        </td>\n",
    "        <td>\n",
    "            <h2 style=\"color:#9ac1e6;\">Exercise</h2>\n",
    "            <span style=\"color:#9ac1e6;\">Now try this commercial application:<br/>\n",
    "            First ask the LLM to pick a business problem you currentluy have that might be worth exploring for an Agentic AI opportunity.<br/>\n",
    "            Then ask the LLM to present a pain-point in that industry - something challenging that might be ripe for an Agentic solution.<br/>\n",
    "            Finally have 3 third LLM call propose the Agentic AI solution.\n",
    "            </span>\n",
    "        </td>\n",
    "    </tr>\n",
    "</table>"
   ]
  },
  {
   "cell_type": "code",
   "execution_count": 20,
   "metadata": {},
   "outputs": [
    {
     "data": {
      "text/markdown": [
       "A common business pain point in scaling marketing operations is **inadequate integration and automation across marketing channels**. \n",
       "\n",
       "As organizations grow, the volume and complexity of campaigns increase, involving multiple platforms (email, social media, CRM, advertising, analytics, etc.). Without seamless integration and automation, marketing teams struggle with data silos, manual processes, inconsistent messaging, and delayed campaign execution. This leads to inefficiencies, increased operational costs, and difficulty in measuring true campaign performance at scale."
      ],
      "text/plain": [
       "<IPython.core.display.Markdown object>"
      ]
     },
     "metadata": {},
     "output_type": "display_data"
    },
    {
     "data": {
      "text/markdown": [
       "Certainly! Here's one agentic AI solution concept that addresses the pain point:\n",
       "\n",
       "### AI-Driven Unified Marketing Orchestrator (AI-UMO)\n",
       "\n",
       "**Concept:**  \n",
       "An autonomous AI platform that acts as a centralized “marketing brain,” seamlessly integrating multiple marketing channels and tools, automating workflows end-to-end, and optimizing campaign execution in real-time across platforms.\n",
       "\n",
       "---\n",
       "\n",
       "### How It Works:\n",
       "\n",
       "1. **Channel Integration Layer:**  \n",
       "   AI-UMO connects via APIs to a wide array of marketing platforms — email marketing systems, social media schedulers, CRMs, ad platforms, analytics suites, etc., breaking down data silos and syncing data bi-directionally.\n",
       "\n",
       "2. **Intelligent Campaign Planner:**  \n",
       "   Based on business objectives, past campaign performance, and current market trends (fed via analytics engines), the agent designs and optimizes multi-channel campaign plans. It assigns proper budgets, audience segments, message variants, and timings.\n",
       "\n",
       "3. **Automated Workflow Execution:**  \n",
       "   The AI autonomously launches campaigns, executes scheduled messaging, manages bids on ad platforms, syncs contact data, and triggers follow-ups or retargeting based on user behavior — all without manual intervention.\n",
       "\n",
       "4. **Real-Time Optimization:**  \n",
       "   Continuously monitors campaign KPIs and channel-level performance. If a tactic underperforms, the AI reallocates budgets, modifies messaging, or changes targeting on the fly to maximize ROI.\n",
       "\n",
       "5. **Unified Analytics and Reporting:**  \n",
       "   Aggregates data across all channels into one dashboard with actionable insights, predictive outcomes, and transparency into attribution — providing clear measurement of true campaign performance.\n",
       "\n",
       "---\n",
       "\n",
       "### Why This is Agentic AI:\n",
       "\n",
       "- **Proactive Decision-Making:** The platform doesn’t just automate preset tasks; it autonomously decides how and when to act to improve campaign effectiveness.  \n",
       "- **Learning and Adaptation:** Uses reinforcement learning to improve strategies based on outcomes.  \n",
       "- **Cross-Platform Autonomy:** Acts as an independent agent coordinating complex, multi-party marketing ecosystems without requiring constant human input.\n",
       "\n",
       "---\n",
       "\n",
       "### Business Idea Outlook:\n",
       "\n",
       "- **Target Customers:** Mid-size to enterprise companies scaling marketing operations across multiple channels.  \n",
       "- **Revenue Model:** SaaS subscription with tiered pricing by number of integrations, campaign volume, and sophistication of AI capabilities.  \n",
       "- **Competitive Edge:** Positions as the only truly autonomous marketing orchestration AI, reducing headcount needs, speeding time-to-market, and improving campaign ROI with minimal manual effort.  \n",
       "- **Expansion Potential:** Integrate with emerging marketing tech and add industry-specific templates/AI models for specialized verticals (retail, SaaS, finance, etc.)\n",
       "\n",
       "---\n",
       "\n",
       "If executed well, AI-UMO could become the indispensable “command center” for complex omnichannel marketing, addressing key pain points of integration, automation, and data-driven optimization at scale."
      ],
      "text/plain": [
       "<IPython.core.display.Markdown object>"
      ]
     },
     "metadata": {},
     "output_type": "display_data"
    },
    {
     "data": {
      "text/markdown": [
       "Certainly! Below is a concise example of an agentic AI agent using the OpenAI SDK (in Python) that addresses the pain point of inadequate integration and automation across marketing channels by:\n",
       "\n",
       "- Pulling campaign data from multiple channels (mocked here),\n",
       "- Synthesizing a unified campaign summary,\n",
       "- Suggesting next automated actions (like budget reallocation or message adjustments),\n",
       "- And generating a simple action plan.\n",
       "\n",
       "This is a simplified starting point to illustrate agentic behavior—autonomously integrating data, analyzing it, and recommending next steps.\n",
       "\n",
       "```python\n",
       "import openai\n",
       "\n",
       "openai.api_key = \"YOUR_OPENAI_API_KEY\"\n",
       "\n",
       "# Mock function to simulate fetching campaign metrics from different channels\n",
       "def fetch_channel_data():\n",
       "    return {\n",
       "        \"email\": {\"open_rate\": 0.22, \"click_rate\": 0.05, \"cost\": 500},\n",
       "        \"social_media\": {\"engagement_rate\": 0.03, \"impressions\": 50000, \"cost\": 1200},\n",
       "        \"ads\": {\"ctr\": 0.015, \"conversions\": 100, \"cost\": 3000},\n",
       "        \"crm\": {\"new_leads\": 150, \"follow_ups\": 130}\n",
       "    }\n",
       "\n",
       "def create_prompt(data):\n",
       "    prompt = f\"\"\"\n",
       "You are a marketing AI agent that integrates multi-channel campaign data and autonomously suggests optimizations.\n",
       "\n",
       "Campaign data summary:\n",
       "Email: Open rate {data['email']['open_rate']*100:.1f}%, Click rate {data['email']['click_rate']*100:.1f}%, Cost ${data['email']['cost']}\n",
       "Social Media: Engagement rate {data['social_media']['engagement_rate']*100:.2f}%, Impressions {data['social_media']['impressions']}, Cost ${data['social_media']['cost']}\n",
       "Ads: CTR {data['ads']['ctr']*100:.2f}%, Conversions {data['ads']['conversions']}, Cost ${data['ads']['cost']}\n",
       "CRM: New leads {data['crm']['new_leads']}, Follow-ups {data['crm']['follow_ups']}\n",
       "\n",
       "Based on this data, identify:\n",
       "1. Which channel is underperforming relative to its cost?\n",
       "2. Suggest one concrete automated action to improve campaign ROI.\n",
       "3. Outline a brief next-step action plan for the unified campaign automation.\n",
       "\n",
       "Provide the answer as a numbered list.\n",
       "\"\"\"\n",
       "    return prompt\n",
       "\n",
       "def run_agentic_analysis():\n",
       "    channel_data = fetch_channel_data()\n",
       "    prompt = create_prompt(channel_data)\n",
       "    \n",
       "    response = openai.ChatCompletion.create(\n",
       "        model=\"gpt-4\",\n",
       "        messages=[{\"role\":\"system\", \"content\": \"You are a helpful, autonomous marketing AI agent.\"},\n",
       "                  {\"role\":\"user\", \"content\": prompt}],\n",
       "        temperature=0.5,\n",
       "        max_tokens=250,\n",
       "    )\n",
       "    \n",
       "    return response.choices[0].message.content.strip()\n",
       "\n",
       "if __name__ == \"__main__\":\n",
       "    result = run_agentic_analysis()\n",
       "    print(\"Agentic AI Marketing Agent Output:\\n\")\n",
       "    print(result)\n",
       "```\n",
       "\n",
       "---\n",
       "\n",
       "### How this addresses the pain point:\n",
       "\n",
       "- **Integration:** consolidates data from multiple marketing channels.  \n",
       "- **Automation:** analyzes and proactively identifies underperformance.  \n",
       "- **Agentic:** autonomously recommends specific actions and next steps without manual rule creation.\n",
       "\n",
       "This minimal example can be extended with real API integration, workflow triggers, and feedback loops for continuous autonomous campaign management."
      ],
      "text/plain": [
       "<IPython.core.display.Markdown object>"
      ]
     },
     "metadata": {},
     "output_type": "display_data"
    }
   ],
   "source": [
    "# First create the messages:\n",
    "\n",
    "messages = [{\"role\": \"user\", \"content\": \"Propose a business pain point in the area of 'scaling marketing operations' \"}]\n",
    "\n",
    "# Then make the first call:\n",
    "\n",
    "response = openai.chat.completions.create(\n",
    "    model=\"gpt-4.1-mini\",\n",
    "    messages=messages\n",
    ")\n",
    "\n",
    "# Then read the business idea:\n",
    "\n",
    "pain_point = response.choices[0].message.content\n",
    "\n",
    "display(Markdown(pain_point))\n",
    "\n",
    "# And repeat!\n",
    "\n",
    "messages =[{\"role\": \"user\", \"content\": f\"Given the {pain_point}, propose one agentic AI solution that can be turned into a business idea?\"}]\n",
    "\n",
    "# Then make the second call:\n",
    "\n",
    "response = openai.chat.completions.create(\n",
    "    model=\"gpt-4.1-mini\",\n",
    "    messages=messages\n",
    ")\n",
    "\n",
    "solution_proposal= response.choices[0].message.content\n",
    "\n",
    "display(Markdown(solution_proposal))\n",
    "\n",
    "# And repeat!\n",
    "\n",
    "messages =[{\"role\": \"user\", \"content\": f\"Given the {solution_proposal}, write an small agentic agent using the OpenAI SDK that can be used to solve the {pain_point}. Keep the solution brief and to the point.\"}]\n",
    "\n",
    "# Then make the third call:\n",
    "\n",
    "response = openai.chat.completions.create(\n",
    "    model=\"gpt-4.1-mini\",\n",
    "    messages=messages\n",
    ")\n",
    "\n",
    "final_solution = response.choices[0].message.content\n",
    "\n",
    "display(Markdown(final_solution))"
   ]
  },
  {
   "cell_type": "markdown",
   "metadata": {},
   "source": []
  }
 ],
 "metadata": {
  "kernelspec": {
   "display_name": ".venv",
   "language": "python",
   "name": "python3"
  },
  "language_info": {
   "codemirror_mode": {
    "name": "ipython",
    "version": 3
   },
   "file_extension": ".py",
   "mimetype": "text/x-python",
   "name": "python",
   "nbconvert_exporter": "python",
   "pygments_lexer": "ipython3",
   "version": "3.12.2"
  }
 },
 "nbformat": 4,
 "nbformat_minor": 2
}
