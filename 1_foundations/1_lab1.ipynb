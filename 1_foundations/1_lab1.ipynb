{
 "cells": [
  {
   "cell_type": "markdown",
   "metadata": {},
   "source": [
    "# Welcome to the start of your adventure in Agentic AI"
   ]
  },
  {
   "cell_type": "markdown",
   "metadata": {},
   "source": [
    "<table style=\"margin: 0; text-align: left; width:100%\">\n",
    "    <tr>\n",
    "        <td style=\"width: 150px; height: 150px; vertical-align: middle;\">\n",
    "            <img src=\"../assets/stop.png\"  width=\"150\" height=\"150\" style=\"display: block;\" />\n",
    "        </td>\n",
    "        <td>\n",
    "            <h2 style=\"color:#9ac1e6;\">Are you ready for action??</h2>\n",
    "            <span style=\"color:#9ac1e6;\">Have you completed all the setup steps in the <a href=\"../setup/\">setup</a> folder?<br/>\n",
    "            Have you checked out the guides in the <a href=\"../guides/01_intro.ipynb\">guides</a> folder?<br/>\n",
    "            Well in that case, you're ready!!\n",
    "            </span>\n",
    "        </td>\n",
    "    </tr>\n",
    "</table>"
   ]
  },
  {
   "cell_type": "markdown",
   "metadata": {},
   "source": [
    "<table style=\"margin: 0; text-align: left; width:100%\">\n",
    "    <tr>\n",
    "        <td style=\"width: 150px; height: 150px; vertical-align: middle;\">\n",
    "            <img src=\"../assets/livingresource.png\" width=\"150\" height=\"150\" style=\"display: block;\" />\n",
    "        </td>\n",
    "        <td>\n",
    "            <h2 style=\"color:#9ac1e6;\">This code is a live resource - I may be making updates to this resource based on recent developments</h2>\n",
    "            <span style=\"color:#9ac1e6;\">Please feel free to use this Jupyter Notebook as a living resource. If you have any questions please don't hesitate to reach out. I also push updates regularly to GitHub. </span>\n",
    "        </td>\n",
    "    </tr>\n",
    "</table>"
   ]
  },
  {
   "cell_type": "markdown",
   "metadata": {},
   "source": [
    "### And please do remember to contact me if I can help\n",
    "\n",
    "Mike Nedelko: mike@syncopy.ai\n",
    "\n",
    "\n",
    "### New to Notebooks like this one? Head over to the guides folder!\n",
    "\n",
    "Just to check you've already added the Python and Jupyter extensions to Cursor, if not already installed:\n",
    "- Open extensions (View >> extensions)\n",
    "- Search for python, and when the results show, click on the ms-python one, and Install it if not already installed\n",
    "- Search for jupyter, and when the results show, click on the Microsoft one, and Install it if not already installed  \n",
    "Then View >> Explorer to bring back the File Explorer.\n",
    "\n",
    "And then:\n",
    "1. Click where it says \"Select Kernel\" near the top right, and select the option called `.venv (Python 3.12.9)` or similar, which should be the first choice or the most prominent choice. You may need to choose \"Python Environments\" first.\n",
    "2. Click in each \"cell\" below, starting with the cell immediately below this text, and press Shift+Enter to run\n",
    "3. Enjoy!\n",
    "\n",
    "After you click \"Select Kernel\", if there is no option like `.venv (Python 3.12.9)` then please do the following:  \n",
    "1. On Mac: From the Cursor menu, choose Settings >> VS Code Settings (NOTE: be sure to select `VSCode Settings` not `Cursor Settings`);  \n",
    "On Windows PC: From the File menu, choose Preferences >> VS Code Settings(NOTE: be sure to select `VSCode Settings` not `Cursor Settings`)  \n",
    "2. In the Settings search bar, type \"venv\"  \n",
    "3. In the field \"Path to folder with a list of Virtual Environments\" put the path to the project root, like C:\\Users\\username\\projects\\agenticAIeducation (on a Windows PC) or /Users/username/projects/agenticAIeducation (on Mac or Linux).  \n",
    "And then try again.\n",
    "\n",
    "Having problems with missing Python versions in that list? Have you ever used Anaconda before? It might be interferring. Quit Cursor, bring up a new command line, and make sure that your Anaconda environment is deactivated:    \n",
    "`conda deactivate`  \n",
    "And if you still have any problems with conda and python versions, it's possible that you will need to run this too:  \n",
    "`conda config --set auto_activate_base false`  \n",
    "and then from within the Agents directory, you should be able to run `uv python list` and see the Python 3.12 version."
   ]
  },
  {
   "cell_type": "code",
   "execution_count": 1,
   "metadata": {},
   "outputs": [],
   "source": [
    "# First let's do an import\n",
    "from dotenv import load_dotenv\n"
   ]
  },
  {
   "cell_type": "code",
   "execution_count": null,
   "metadata": {},
   "outputs": [],
   "source": [
    "# Next it's time to load the API keys into environment variables\n",
    "\n",
    "load_dotenv(override=True)"
   ]
  },
  {
   "cell_type": "code",
   "execution_count": null,
   "metadata": {},
   "outputs": [],
   "source": [
    "# Check the keys\n",
    "\n",
    "import os\n",
    "openai_api_key = os.getenv('OPENAI_API_KEY')\n",
    "\n",
    "if openai_api_key:\n",
    "    print(f\"OpenAI API Key exists and begins {openai_api_key[:8]}\")\n",
    "else:\n",
    "    print(\"OpenAI API Key not set - please head to the troubleshooting guide in the setup folder\")\n",
    "    \n"
   ]
  },
  {
   "cell_type": "code",
   "execution_count": 4,
   "metadata": {},
   "outputs": [],
   "source": [
    "# And now - the all important import statement\n",
    "# If you get an import error - head over to troubleshooting guide\n",
    "\n",
    "from openai import OpenAI"
   ]
  },
  {
   "cell_type": "code",
   "execution_count": 5,
   "metadata": {},
   "outputs": [],
   "source": [
    "# And now we'll create an instance of the OpenAI class\n",
    "# If you're not sure what it means to create an instance of a class - head over to the guides folder!\n",
    "# If you get a NameError - head over to the guides folder to learn about NameErrors\n",
    "\n",
    "openai = OpenAI()"
   ]
  },
  {
   "cell_type": "code",
   "execution_count": 6,
   "metadata": {},
   "outputs": [],
   "source": [
    "# Create a list of messages in the familiar OpenAI format\n",
    "\n",
    "messages = [{\"role\": \"user\", \"content\": \"What is 2+2?\"}]"
   ]
  },
  {
   "cell_type": "code",
   "execution_count": null,
   "metadata": {},
   "outputs": [
    {
     "name": "stdout",
     "output_type": "stream",
     "text": [
      "2 + 2 = 4\n"
     ]
    }
   ],
   "source": [
    "# And now call it! Any problems, head to the troubleshooting guide\n",
    "# This uses GPT 4.1 nano, the incredibly cheap model\n",
    "\n",
    "response = openai.chat.completions.create(\n",
    "    model=\"gpt-4.1-nano\",\n",
    "    messages=messages\n",
    ")\n",
    "\n",
    "print(response.choices[0].message.content)\n"
   ]
  },
  {
   "cell_type": "code",
   "execution_count": 8,
   "metadata": {},
   "outputs": [],
   "source": [
    "# And now - let's ask for a question:\n",
    "\n",
    "question = \"Please propose a hard, challenging question to assess someone's IQ. Respond only with the question.\"\n",
    "messages = [{\"role\": \"user\", \"content\": question}]\n"
   ]
  },
  {
   "cell_type": "code",
   "execution_count": null,
   "metadata": {},
   "outputs": [],
   "source": [
    "# ask it - this uses GPT 4.1 mini, still cheap but more powerful than nano\n",
    "\n",
    "response = openai.chat.completions.create(\n",
    "    model=\"gpt-4.1-mini\",\n",
    "    messages=messages\n",
    ")\n",
    "\n",
    "question = response.choices[0].message.content\n",
    "\n",
    "print(question)\n"
   ]
  },
  {
   "cell_type": "code",
   "execution_count": 10,
   "metadata": {},
   "outputs": [],
   "source": [
    "# form a new messages list\n",
    "messages = [{\"role\": \"user\", \"content\": question}]\n"
   ]
  },
  {
   "cell_type": "code",
   "execution_count": null,
   "metadata": {},
   "outputs": [
    {
     "name": "stdout",
     "output_type": "stream",
     "text": [
      "Let's define the variables:\n",
      "\n",
      "- Let the cost of the ball be \\( x \\) dollars.\n",
      "- Then the cost of the bat is \\( x + 1.00 \\) dollars (since the bat costs $1 more than the ball).\n",
      "\n",
      "The total cost is given as:\n",
      "\\[\n",
      "x + (x + 1.00) = 1.10\n",
      "\\]\n",
      "\n",
      "Combine like terms:\n",
      "\\[\n",
      "2x + 1.00 = 1.10\n",
      "\\]\n",
      "\n",
      "Subtract 1.00 from both sides:\n",
      "\\[\n",
      "2x = 0.10\n",
      "\\]\n",
      "\n",
      "Divide both sides by 2:\n",
      "\\[\n",
      "x = 0.05\n",
      "\\]\n",
      "\n",
      "**Answer:** The ball costs **5 cents** (or $0.05).\n"
     ]
    }
   ],
   "source": [
    "# Ask it again\n",
    "\n",
    "response = openai.chat.completions.create(\n",
    "    model=\"gpt-4.1-mini\",\n",
    "    messages=messages\n",
    ")\n",
    "\n",
    "answer = response.choices[0].message.content\n",
    "print(answer)\n"
   ]
  },
  {
   "cell_type": "code",
   "execution_count": null,
   "metadata": {},
   "outputs": [
    {
     "data": {
      "text/markdown": [
       "Let's define the variables:\n",
       "\n",
       "- Let the cost of the ball be \\( x \\) dollars.\n",
       "- Then the cost of the bat is \\( x + 1.00 \\) dollars (since the bat costs $1 more than the ball).\n",
       "\n",
       "The total cost is given as:\n",
       "\\[\n",
       "x + (x + 1.00) = 1.10\n",
       "\\]\n",
       "\n",
       "Combine like terms:\n",
       "\\[\n",
       "2x + 1.00 = 1.10\n",
       "\\]\n",
       "\n",
       "Subtract 1.00 from both sides:\n",
       "\\[\n",
       "2x = 0.10\n",
       "\\]\n",
       "\n",
       "Divide both sides by 2:\n",
       "\\[\n",
       "x = 0.05\n",
       "\\]\n",
       "\n",
       "**Answer:** The ball costs **5 cents** (or $0.05)."
      ],
      "text/plain": [
       "<IPython.core.display.Markdown object>"
      ]
     },
     "metadata": {},
     "output_type": "display_data"
    }
   ],
   "source": [
    "from IPython.display import Markdown, display\n",
    "\n",
    "display(Markdown(answer))\n",
    "\n"
   ]
  },
  {
   "cell_type": "markdown",
   "metadata": {},
   "source": [
    "# Congratulations!\n",
    "\n",
    "That was a small, simple step in the direction of Agentic AI, with your new environment!\n",
    "\n",
    "Next time things get more interesting..."
   ]
  },
  {
   "cell_type": "markdown",
   "metadata": {},
   "source": [
    "<table style=\"margin: 0; text-align: left; width:100%\">\n",
    "    <tr>\n",
    "        <td style=\"width: 150px; height: 150px; vertical-align: middle;\">\n",
    "            <img src=\"../assets/exercise.png\" width=\"150\" height=\"150\" style=\"display: block;\" />\n",
    "        </td>\n",
    "        <td>\n",
    "            <h2 style=\"color:#9ac1e6;\">Exercise</h2>\n",
    "            <span style=\"color:#9ac1e6;\">Now try this commercial application:<br/>\n",
    "            First ask the LLM to pick a business problem you currentluy have that might be worth exploring for an Agentic AI opportunity.<br/>\n",
    "            Then ask the LLM to present a pain-point in that industry - something challenging that might be ripe for an Agentic solution.<br/>\n",
    "            Finally have 3 third LLM call propose the Agentic AI solution.\n",
    "            </span>\n",
    "        </td>\n",
    "    </tr>\n",
    "</table>"
   ]
  },
  {
   "cell_type": "code",
   "execution_count": 13,
   "metadata": {},
   "outputs": [
    {
     "data": {
      "text/markdown": [
       "A key business pain point in scaling marketing operations is **inefficient campaign management due to fragmented tools and processes**. As organizations grow, marketing teams often struggle with coordinating multiple campaigns across various channels because their tools, data sources, and workflows are siloed. This fragmentation leads to duplicated efforts, inconsistent messaging, delayed execution, and difficulty measuring overall campaign performance, ultimately hindering the ability to scale marketing efforts effectively and maintain ROI."
      ],
      "text/plain": [
       "<IPython.core.display.Markdown object>"
      ]
     },
     "metadata": {},
     "output_type": "display_data"
    },
    {
     "data": {
      "text/markdown": [
       "**Agentic AI Solution Proposal: Unified Autonomous Campaign Orchestrator (UACO)**\n",
       "\n",
       "### Concept Overview:\n",
       "Develop an **AI-powered autonomous campaign orchestrator** that integrates fragmented marketing tools, data sources, and processes into a single intelligent system. This agentic AI acts as a central brain that plans, manages, optimizes, and reports on multichannel marketing campaigns across the entire organization, effectively eliminating silos and manual coordination overhead.\n",
       "\n",
       "---\n",
       "\n",
       "### How It Works:\n",
       "\n",
       "1. **Integration Layer:**  \n",
       "   Connects to a company’s existing marketing stack (CRM, email platforms, social media managers, ad networks, analytics tools, content management systems, etc.) via APIs, ingesting real-time data streams.\n",
       "\n",
       "2. **Intelligent Campaign Planning:**  \n",
       "   Using historical campaign performance, audience insights, and business KPIs, the AI designs optimized multichannel campaign strategies autonomously — selecting channels, timing, messaging variants, and budget allocations.\n",
       "\n",
       "3. **Autonomous Execution & Coordination:**  \n",
       "   The orchestrator autonomously launches campaigns across channels with synchronized schedules and consistent brand messaging, dynamically adjusting based on real-time performance data.\n",
       "\n",
       "4. **Continuous Learning & Optimization:**  \n",
       "   The AI monitors engagement, conversions, and ROI metrics continuously, performing automated A/B tests, reallocating budgets, pausing underperforming ads, and suggesting creative tweaks without human intervention.\n",
       "\n",
       "5. **Unified Performance Dashboard:**  \n",
       "   Provides a single pane of glass for marketing managers to monitor all campaigns, channels, and KPIs with AI-generated insights and recommendations — eliminating fragmented reporting and manual data consolidation.\n",
       "\n",
       "6. **Collaboration & Workflow Automation:**  \n",
       "   Facilitates seamless team collaboration by automating task assignments, approvals, and timelines within the platform, shrinking delays caused by process fragmentation.\n",
       "\n",
       "---\n",
       "\n",
       "### Business Idea / Model:\n",
       "\n",
       "**Product:** SaaS platform offering the Unified Autonomous Campaign Orchestrator.  \n",
       "**Target customers:** Mid-to-large enterprises with complex, multichannel marketing requirements struggling with siloed systems and teams.  \n",
       "**Revenue model:** Subscription pricing tiered by number of campaigns, channels integrated, and AI usage. Additional professional services for customization and onboarding.\n",
       "\n",
       "---\n",
       "\n",
       "### Key Benefits:\n",
       "\n",
       "- **Eliminates tool/process fragmentation** by acting as a single source of control.  \n",
       "- **Saves time and reduces duplicated efforts** via automation and centralized workflows.  \n",
       "- **Improves campaign consistency and brand messaging** across channels automatically.  \n",
       "- **Accelerates campaign execution** through autonomous scheduling and adjustments.  \n",
       "- **Enhances measurement and accountability** with unified real-time performance analytics.  \n",
       "- **Enables scalable marketing operations** resulting in maximized ROI and faster growth.\n",
       "\n",
       "---\n",
       "\n",
       "### Summary:\n",
       "\n",
       "By offering a single, intelligent AI agent that autonomously orchestrates multichannel marketing campaigns end-to-end, this solution directly resolves the pain point caused by fragmented tools and processes. It empowers marketing teams to scale operations efficiently, maintain consistency, and achieve better measurable outcomes—all while minimizing manual coordination and complexity. This agentic AI can revolutionize how businesses run marketing at scale."
      ],
      "text/plain": [
       "<IPython.core.display.Markdown object>"
      ]
     },
     "metadata": {},
     "output_type": "display_data"
    },
    {
     "data": {
      "text/markdown": [
       "```python\n",
       "from openai import OpenAI\n",
       "import os\n",
       "\n",
       "# Initialize the OpenAI client\n",
       "client = OpenAI()\n",
       "\n",
       "def unified_campaign_orchestrator(prompt):\n",
       "    \"\"\"\n",
       "    A simple agentic function to assist marketing teams by:\n",
       "    - Synthesizing fragmented campaign info from multiple channels\n",
       "    - Suggesting unified next steps to optimize execution\n",
       "    - Highlighting inconsistencies or duplications\n",
       "    \n",
       "    It acts as a single \"brain\" to reduce inefficiency caused by siloed tools/processes.\n",
       "    \"\"\"\n",
       "\n",
       "    system_message = {\n",
       "        \"role\": \"system\",\n",
       "        \"content\": (\n",
       "            \"You are the Unified Autonomous Campaign Orchestrator (UACO), an AI assistant that helps \"\n",
       "            \"marketing teams identify inefficiencies due to fragmented campaigns, inconsistent messaging, \"\n",
       "            \"and duplicated efforts across multichannel operations. \"\n",
       "            \"Given raw summaries or data from different campaigns and channels, produce a concise report \"\n",
       "            \"that highlights: \"\n",
       "            \"1) Overlapping campaigns or duplicated efforts, \"\n",
       "            \"2) Messaging inconsistencies, \"\n",
       "            \"3) Suggested prioritized next actions for unified, efficient campaign management.\"\n",
       "        )\n",
       "    }\n",
       "\n",
       "    user_message = {\n",
       "        \"role\": \"user\",\n",
       "        \"content\": prompt\n",
       "    }\n",
       "\n",
       "    response = client.chat.completions.create(\n",
       "        model=\"gpt-4o-mini\",\n",
       "        messages=[system_message, user_message],\n",
       "        max_tokens=500,\n",
       "        temperature=0.3,\n",
       "    )\n",
       "\n",
       "    return response.choices[0].message.content\n",
       "\n",
       "\n",
       "if __name__ == \"__main__\":\n",
       "    # Example fragmented campaign data input (simulated)\n",
       "    fragmented_campaign_data = \"\"\"\n",
       "    - Email Campaign A targets same audience as FB Ads Campaign B, but offers conflicting promotions.\n",
       "    - Google Ads Campaign C and LinkedIn Ads Campaign D run simultaneously but with different CTAs.\n",
       "    - Multiple teams manually report conversions causing delays and inconsistent metrics.\n",
       "    \"\"\"\n",
       "\n",
       "    report = unified_campaign_orchestrator(fragmented_campaign_data)\n",
       "    print(\"===== Unified Campaign Orchestration Report =====\")\n",
       "    print(report)\n",
       "```\n",
       "\n",
       "---\n",
       "\n",
       "### Explanation:\n",
       "\n",
       "- This minimal agent ingests fragmented campaign info describing multiple channels and workflows.\n",
       "- The system prompt instructs the model to detect duplicated efforts, messaging inconsistencies, and recommend unified next actions.\n",
       "- It outputs a brief, prioritized report aiding marketing teams to overcome the pain point of inefficient, siloed campaigns.\n",
       "- This kind of focused AI assistant can serve as a foundational building block toward a more advanced UACO platform."
      ],
      "text/plain": [
       "<IPython.core.display.Markdown object>"
      ]
     },
     "metadata": {},
     "output_type": "display_data"
    }
   ],
   "source": [
    "# First create the messages:\n",
    "\n",
    "messages = [{\"role\": \"user\", \"content\": \"Propose a business pain point in the area of 'scaling marketing operations' \"}]\n",
    "\n",
    "# Then make the first call:\n",
    "\n",
    "response = openai.chat.completions.create(\n",
    "    model=\"gpt-4.1-mini\",\n",
    "    messages=messages\n",
    ")\n",
    "\n",
    "# Then read the business idea:\n",
    "\n",
    "pain_point = response.choices[0].message.content\n",
    "\n",
    "display(Markdown(pain_point))\n",
    "\n",
    "# And repeat!\n",
    "\n",
    "messages =[{\"role\": \"user\", \"content\": f\"Given the {pain_point}, propose one agentic AI solution that can be turned into a business idea?\"}]\n",
    "\n",
    "# Then make the second call:\n",
    "\n",
    "response = openai.chat.completions.create(\n",
    "    model=\"gpt-4.1-mini\",\n",
    "    messages=messages\n",
    ")\n",
    "\n",
    "solution_proposal= response.choices[0].message.content\n",
    "\n",
    "display(Markdown(solution_proposal))\n",
    "\n",
    "# And repeat!\n",
    "\n",
    "messages =[{\"role\": \"user\", \"content\": f\"Given the {solution_proposal}, write an small agentic agent using the OpenAI SDK that can be used to solve the {pain_point}. Keep the solution brief and to the point.\"}]\n",
    "\n",
    "# Then make the third call:\n",
    "\n",
    "response = openai.chat.completions.create(\n",
    "    model=\"gpt-4.1-mini\",\n",
    "    messages=messages\n",
    ")\n",
    "\n",
    "final_solution = response.choices[0].message.content\n",
    "\n",
    "display(Markdown(final_solution))"
   ]
  },
  {
   "cell_type": "markdown",
   "metadata": {},
   "source": []
  }
 ],
 "metadata": {
  "kernelspec": {
   "display_name": ".venv",
   "language": "python",
   "name": "python3"
  },
  "language_info": {
   "codemirror_mode": {
    "name": "ipython",
    "version": 3
   },
   "file_extension": ".py",
   "mimetype": "text/x-python",
   "name": "python",
   "nbconvert_exporter": "python",
   "pygments_lexer": "ipython3",
   "version": "3.12.10"
  }
 },
 "nbformat": 4,
 "nbformat_minor": 2
}
